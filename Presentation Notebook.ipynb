{
 "cells": [
  {
   "cell_type": "code",
   "execution_count": 1,
   "metadata": {},
   "outputs": [
    {
     "name": "stderr",
     "output_type": "stream",
     "text": [
      "/opt/anaconda3/lib/python3.8/site-packages/backtesting/_plotting.py:45: UserWarning: Jupyter Notebook detected. Setting Bokeh output to notebook. This may not work in Jupyter clients without JavaScript support (e.g. PyCharm, Spyder IDE). Reset with `backtesting.set_bokeh_output(notebook=False)`.\n",
      "  warnings.warn('Jupyter Notebook detected. '\n"
     ]
    },
    {
     "data": {
      "text/html": [
       "\n",
       "    <div class=\"bk-root\">\n",
       "        <a href=\"https://bokeh.org\" target=\"_blank\" class=\"bk-logo bk-logo-small bk-logo-notebook\"></a>\n",
       "        <span id=\"1001\">Loading BokehJS ...</span>\n",
       "    </div>"
      ]
     },
     "metadata": {},
     "output_type": "display_data"
    },
    {
     "data": {
      "application/javascript": [
       "\n",
       "(function(root) {\n",
       "  function now() {\n",
       "    return new Date();\n",
       "  }\n",
       "\n",
       "  var force = true;\n",
       "\n",
       "  if (typeof root._bokeh_onload_callbacks === \"undefined\" || force === true) {\n",
       "    root._bokeh_onload_callbacks = [];\n",
       "    root._bokeh_is_loading = undefined;\n",
       "  }\n",
       "\n",
       "  var JS_MIME_TYPE = 'application/javascript';\n",
       "  var HTML_MIME_TYPE = 'text/html';\n",
       "  var EXEC_MIME_TYPE = 'application/vnd.bokehjs_exec.v0+json';\n",
       "  var CLASS_NAME = 'output_bokeh rendered_html';\n",
       "\n",
       "  /**\n",
       "   * Render data to the DOM node\n",
       "   */\n",
       "  function render(props, node) {\n",
       "    var script = document.createElement(\"script\");\n",
       "    node.appendChild(script);\n",
       "  }\n",
       "\n",
       "  /**\n",
       "   * Handle when an output is cleared or removed\n",
       "   */\n",
       "  function handleClearOutput(event, handle) {\n",
       "    var cell = handle.cell;\n",
       "\n",
       "    var id = cell.output_area._bokeh_element_id;\n",
       "    var server_id = cell.output_area._bokeh_server_id;\n",
       "    // Clean up Bokeh references\n",
       "    if (id != null && id in Bokeh.index) {\n",
       "      Bokeh.index[id].model.document.clear();\n",
       "      delete Bokeh.index[id];\n",
       "    }\n",
       "\n",
       "    if (server_id !== undefined) {\n",
       "      // Clean up Bokeh references\n",
       "      var cmd = \"from bokeh.io.state import curstate; print(curstate().uuid_to_server['\" + server_id + \"'].get_sessions()[0].document.roots[0]._id)\";\n",
       "      cell.notebook.kernel.execute(cmd, {\n",
       "        iopub: {\n",
       "          output: function(msg) {\n",
       "            var id = msg.content.text.trim();\n",
       "            if (id in Bokeh.index) {\n",
       "              Bokeh.index[id].model.document.clear();\n",
       "              delete Bokeh.index[id];\n",
       "            }\n",
       "          }\n",
       "        }\n",
       "      });\n",
       "      // Destroy server and session\n",
       "      var cmd = \"import bokeh.io.notebook as ion; ion.destroy_server('\" + server_id + \"')\";\n",
       "      cell.notebook.kernel.execute(cmd);\n",
       "    }\n",
       "  }\n",
       "\n",
       "  /**\n",
       "   * Handle when a new output is added\n",
       "   */\n",
       "  function handleAddOutput(event, handle) {\n",
       "    var output_area = handle.output_area;\n",
       "    var output = handle.output;\n",
       "\n",
       "    // limit handleAddOutput to display_data with EXEC_MIME_TYPE content only\n",
       "    if ((output.output_type != \"display_data\") || (!output.data.hasOwnProperty(EXEC_MIME_TYPE))) {\n",
       "      return\n",
       "    }\n",
       "\n",
       "    var toinsert = output_area.element.find(\".\" + CLASS_NAME.split(' ')[0]);\n",
       "\n",
       "    if (output.metadata[EXEC_MIME_TYPE][\"id\"] !== undefined) {\n",
       "      toinsert[toinsert.length - 1].firstChild.textContent = output.data[JS_MIME_TYPE];\n",
       "      // store reference to embed id on output_area\n",
       "      output_area._bokeh_element_id = output.metadata[EXEC_MIME_TYPE][\"id\"];\n",
       "    }\n",
       "    if (output.metadata[EXEC_MIME_TYPE][\"server_id\"] !== undefined) {\n",
       "      var bk_div = document.createElement(\"div\");\n",
       "      bk_div.innerHTML = output.data[HTML_MIME_TYPE];\n",
       "      var script_attrs = bk_div.children[0].attributes;\n",
       "      for (var i = 0; i < script_attrs.length; i++) {\n",
       "        toinsert[toinsert.length - 1].firstChild.setAttribute(script_attrs[i].name, script_attrs[i].value);\n",
       "        toinsert[toinsert.length - 1].firstChild.textContent = bk_div.children[0].textContent\n",
       "      }\n",
       "      // store reference to server id on output_area\n",
       "      output_area._bokeh_server_id = output.metadata[EXEC_MIME_TYPE][\"server_id\"];\n",
       "    }\n",
       "  }\n",
       "\n",
       "  function register_renderer(events, OutputArea) {\n",
       "\n",
       "    function append_mime(data, metadata, element) {\n",
       "      // create a DOM node to render to\n",
       "      var toinsert = this.create_output_subarea(\n",
       "        metadata,\n",
       "        CLASS_NAME,\n",
       "        EXEC_MIME_TYPE\n",
       "      );\n",
       "      this.keyboard_manager.register_events(toinsert);\n",
       "      // Render to node\n",
       "      var props = {data: data, metadata: metadata[EXEC_MIME_TYPE]};\n",
       "      render(props, toinsert[toinsert.length - 1]);\n",
       "      element.append(toinsert);\n",
       "      return toinsert\n",
       "    }\n",
       "\n",
       "    /* Handle when an output is cleared or removed */\n",
       "    events.on('clear_output.CodeCell', handleClearOutput);\n",
       "    events.on('delete.Cell', handleClearOutput);\n",
       "\n",
       "    /* Handle when a new output is added */\n",
       "    events.on('output_added.OutputArea', handleAddOutput);\n",
       "\n",
       "    /**\n",
       "     * Register the mime type and append_mime function with output_area\n",
       "     */\n",
       "    OutputArea.prototype.register_mime_type(EXEC_MIME_TYPE, append_mime, {\n",
       "      /* Is output safe? */\n",
       "      safe: true,\n",
       "      /* Index of renderer in `output_area.display_order` */\n",
       "      index: 0\n",
       "    });\n",
       "  }\n",
       "\n",
       "  // register the mime type if in Jupyter Notebook environment and previously unregistered\n",
       "  if (root.Jupyter !== undefined) {\n",
       "    var events = require('base/js/events');\n",
       "    var OutputArea = require('notebook/js/outputarea').OutputArea;\n",
       "\n",
       "    if (OutputArea.prototype.mime_types().indexOf(EXEC_MIME_TYPE) == -1) {\n",
       "      register_renderer(events, OutputArea);\n",
       "    }\n",
       "  }\n",
       "\n",
       "  \n",
       "  if (typeof (root._bokeh_timeout) === \"undefined\" || force === true) {\n",
       "    root._bokeh_timeout = Date.now() + 5000;\n",
       "    root._bokeh_failed_load = false;\n",
       "  }\n",
       "\n",
       "  var NB_LOAD_WARNING = {'data': {'text/html':\n",
       "     \"<div style='background-color: #fdd'>\\n\"+\n",
       "     \"<p>\\n\"+\n",
       "     \"BokehJS does not appear to have successfully loaded. If loading BokehJS from CDN, this \\n\"+\n",
       "     \"may be due to a slow or bad network connection. Possible fixes:\\n\"+\n",
       "     \"</p>\\n\"+\n",
       "     \"<ul>\\n\"+\n",
       "     \"<li>re-rerun `output_notebook()` to attempt to load from CDN again, or</li>\\n\"+\n",
       "     \"<li>use INLINE resources instead, as so:</li>\\n\"+\n",
       "     \"</ul>\\n\"+\n",
       "     \"<code>\\n\"+\n",
       "     \"from bokeh.resources import INLINE\\n\"+\n",
       "     \"output_notebook(resources=INLINE)\\n\"+\n",
       "     \"</code>\\n\"+\n",
       "     \"</div>\"}};\n",
       "\n",
       "  function display_loaded() {\n",
       "    var el = document.getElementById(\"1001\");\n",
       "    if (el != null) {\n",
       "      el.textContent = \"BokehJS is loading...\";\n",
       "    }\n",
       "    if (root.Bokeh !== undefined) {\n",
       "      if (el != null) {\n",
       "        el.textContent = \"BokehJS \" + root.Bokeh.version + \" successfully loaded.\";\n",
       "      }\n",
       "    } else if (Date.now() < root._bokeh_timeout) {\n",
       "      setTimeout(display_loaded, 100)\n",
       "    }\n",
       "  }\n",
       "\n",
       "\n",
       "  function run_callbacks() {\n",
       "    try {\n",
       "      root._bokeh_onload_callbacks.forEach(function(callback) {\n",
       "        if (callback != null)\n",
       "          callback();\n",
       "      });\n",
       "    } finally {\n",
       "      delete root._bokeh_onload_callbacks\n",
       "    }\n",
       "    console.debug(\"Bokeh: all callbacks have finished\");\n",
       "  }\n",
       "\n",
       "  function load_libs(css_urls, js_urls, callback) {\n",
       "    if (css_urls == null) css_urls = [];\n",
       "    if (js_urls == null) js_urls = [];\n",
       "\n",
       "    root._bokeh_onload_callbacks.push(callback);\n",
       "    if (root._bokeh_is_loading > 0) {\n",
       "      console.debug(\"Bokeh: BokehJS is being loaded, scheduling callback at\", now());\n",
       "      return null;\n",
       "    }\n",
       "    if (js_urls == null || js_urls.length === 0) {\n",
       "      run_callbacks();\n",
       "      return null;\n",
       "    }\n",
       "    console.debug(\"Bokeh: BokehJS not loaded, scheduling load and callback at\", now());\n",
       "    root._bokeh_is_loading = css_urls.length + js_urls.length;\n",
       "\n",
       "    function on_load() {\n",
       "      root._bokeh_is_loading--;\n",
       "      if (root._bokeh_is_loading === 0) {\n",
       "        console.debug(\"Bokeh: all BokehJS libraries/stylesheets loaded\");\n",
       "        run_callbacks()\n",
       "      }\n",
       "    }\n",
       "\n",
       "    function on_error() {\n",
       "      console.error(\"failed to load \" + url);\n",
       "    }\n",
       "\n",
       "    for (var i = 0; i < css_urls.length; i++) {\n",
       "      var url = css_urls[i];\n",
       "      const element = document.createElement(\"link\");\n",
       "      element.onload = on_load;\n",
       "      element.onerror = on_error;\n",
       "      element.rel = \"stylesheet\";\n",
       "      element.type = \"text/css\";\n",
       "      element.href = url;\n",
       "      console.debug(\"Bokeh: injecting link tag for BokehJS stylesheet: \", url);\n",
       "      document.body.appendChild(element);\n",
       "    }\n",
       "\n",
       "    const hashes = {\"https://cdn.bokeh.org/bokeh/release/bokeh-2.1.1.min.js\": \"kLr4fYcqcSpbuI95brIH3vnnYCquzzSxHPU6XGQCIkQRGJwhg0StNbj1eegrHs12\", \"https://cdn.bokeh.org/bokeh/release/bokeh-widgets-2.1.1.min.js\": \"xIGPmVtaOm+z0BqfSOMn4lOR6ciex448GIKG4eE61LsAvmGj48XcMQZtKcE/UXZe\", \"https://cdn.bokeh.org/bokeh/release/bokeh-tables-2.1.1.min.js\": \"Dc9u1wF/0zApGIWoBbH77iWEHtdmkuYWG839Uzmv8y8yBLXebjO9ZnERsde5Ln/P\", \"https://cdn.bokeh.org/bokeh/release/bokeh-gl-2.1.1.min.js\": \"cT9JaBz7GiRXdENrJLZNSC6eMNF3nh3fa5fTF51Svp+ukxPdwcU5kGXGPBgDCa2j\"};\n",
       "\n",
       "    for (var i = 0; i < js_urls.length; i++) {\n",
       "      var url = js_urls[i];\n",
       "      var element = document.createElement('script');\n",
       "      element.onload = on_load;\n",
       "      element.onerror = on_error;\n",
       "      element.async = false;\n",
       "      element.src = url;\n",
       "      if (url in hashes) {\n",
       "        element.crossOrigin = \"anonymous\";\n",
       "        element.integrity = \"sha384-\" + hashes[url];\n",
       "      }\n",
       "      console.debug(\"Bokeh: injecting script tag for BokehJS library: \", url);\n",
       "      document.head.appendChild(element);\n",
       "    }\n",
       "  };\n",
       "\n",
       "  function inject_raw_css(css) {\n",
       "    const element = document.createElement(\"style\");\n",
       "    element.appendChild(document.createTextNode(css));\n",
       "    document.body.appendChild(element);\n",
       "  }\n",
       "\n",
       "  \n",
       "  var js_urls = [\"https://cdn.bokeh.org/bokeh/release/bokeh-2.1.1.min.js\", \"https://cdn.bokeh.org/bokeh/release/bokeh-widgets-2.1.1.min.js\", \"https://cdn.bokeh.org/bokeh/release/bokeh-tables-2.1.1.min.js\", \"https://cdn.bokeh.org/bokeh/release/bokeh-gl-2.1.1.min.js\"];\n",
       "  var css_urls = [];\n",
       "  \n",
       "\n",
       "  var inline_js = [\n",
       "    function(Bokeh) {\n",
       "      Bokeh.set_log_level(\"info\");\n",
       "    },\n",
       "    function(Bokeh) {\n",
       "    \n",
       "    \n",
       "    }\n",
       "  ];\n",
       "\n",
       "  function run_inline_js() {\n",
       "    \n",
       "    if (root.Bokeh !== undefined || force === true) {\n",
       "      \n",
       "    for (var i = 0; i < inline_js.length; i++) {\n",
       "      inline_js[i].call(root, root.Bokeh);\n",
       "    }\n",
       "    if (force === true) {\n",
       "        display_loaded();\n",
       "      }} else if (Date.now() < root._bokeh_timeout) {\n",
       "      setTimeout(run_inline_js, 100);\n",
       "    } else if (!root._bokeh_failed_load) {\n",
       "      console.log(\"Bokeh: BokehJS failed to load within specified timeout.\");\n",
       "      root._bokeh_failed_load = true;\n",
       "    } else if (force !== true) {\n",
       "      var cell = $(document.getElementById(\"1001\")).parents('.cell').data().cell;\n",
       "      cell.output_area.append_execute_result(NB_LOAD_WARNING)\n",
       "    }\n",
       "\n",
       "  }\n",
       "\n",
       "  if (root._bokeh_is_loading === 0) {\n",
       "    console.debug(\"Bokeh: BokehJS loaded, going straight to plotting\");\n",
       "    run_inline_js();\n",
       "  } else {\n",
       "    load_libs(css_urls, js_urls, function() {\n",
       "      console.debug(\"Bokeh: BokehJS plotting callback run at\", now());\n",
       "      run_inline_js();\n",
       "    });\n",
       "  }\n",
       "}(window));"
      ],
      "application/vnd.bokehjs_load.v0+json": "\n(function(root) {\n  function now() {\n    return new Date();\n  }\n\n  var force = true;\n\n  if (typeof root._bokeh_onload_callbacks === \"undefined\" || force === true) {\n    root._bokeh_onload_callbacks = [];\n    root._bokeh_is_loading = undefined;\n  }\n\n  \n\n  \n  if (typeof (root._bokeh_timeout) === \"undefined\" || force === true) {\n    root._bokeh_timeout = Date.now() + 5000;\n    root._bokeh_failed_load = false;\n  }\n\n  var NB_LOAD_WARNING = {'data': {'text/html':\n     \"<div style='background-color: #fdd'>\\n\"+\n     \"<p>\\n\"+\n     \"BokehJS does not appear to have successfully loaded. If loading BokehJS from CDN, this \\n\"+\n     \"may be due to a slow or bad network connection. Possible fixes:\\n\"+\n     \"</p>\\n\"+\n     \"<ul>\\n\"+\n     \"<li>re-rerun `output_notebook()` to attempt to load from CDN again, or</li>\\n\"+\n     \"<li>use INLINE resources instead, as so:</li>\\n\"+\n     \"</ul>\\n\"+\n     \"<code>\\n\"+\n     \"from bokeh.resources import INLINE\\n\"+\n     \"output_notebook(resources=INLINE)\\n\"+\n     \"</code>\\n\"+\n     \"</div>\"}};\n\n  function display_loaded() {\n    var el = document.getElementById(\"1001\");\n    if (el != null) {\n      el.textContent = \"BokehJS is loading...\";\n    }\n    if (root.Bokeh !== undefined) {\n      if (el != null) {\n        el.textContent = \"BokehJS \" + root.Bokeh.version + \" successfully loaded.\";\n      }\n    } else if (Date.now() < root._bokeh_timeout) {\n      setTimeout(display_loaded, 100)\n    }\n  }\n\n\n  function run_callbacks() {\n    try {\n      root._bokeh_onload_callbacks.forEach(function(callback) {\n        if (callback != null)\n          callback();\n      });\n    } finally {\n      delete root._bokeh_onload_callbacks\n    }\n    console.debug(\"Bokeh: all callbacks have finished\");\n  }\n\n  function load_libs(css_urls, js_urls, callback) {\n    if (css_urls == null) css_urls = [];\n    if (js_urls == null) js_urls = [];\n\n    root._bokeh_onload_callbacks.push(callback);\n    if (root._bokeh_is_loading > 0) {\n      console.debug(\"Bokeh: BokehJS is being loaded, scheduling callback at\", now());\n      return null;\n    }\n    if (js_urls == null || js_urls.length === 0) {\n      run_callbacks();\n      return null;\n    }\n    console.debug(\"Bokeh: BokehJS not loaded, scheduling load and callback at\", now());\n    root._bokeh_is_loading = css_urls.length + js_urls.length;\n\n    function on_load() {\n      root._bokeh_is_loading--;\n      if (root._bokeh_is_loading === 0) {\n        console.debug(\"Bokeh: all BokehJS libraries/stylesheets loaded\");\n        run_callbacks()\n      }\n    }\n\n    function on_error() {\n      console.error(\"failed to load \" + url);\n    }\n\n    for (var i = 0; i < css_urls.length; i++) {\n      var url = css_urls[i];\n      const element = document.createElement(\"link\");\n      element.onload = on_load;\n      element.onerror = on_error;\n      element.rel = \"stylesheet\";\n      element.type = \"text/css\";\n      element.href = url;\n      console.debug(\"Bokeh: injecting link tag for BokehJS stylesheet: \", url);\n      document.body.appendChild(element);\n    }\n\n    const hashes = {\"https://cdn.bokeh.org/bokeh/release/bokeh-2.1.1.min.js\": \"kLr4fYcqcSpbuI95brIH3vnnYCquzzSxHPU6XGQCIkQRGJwhg0StNbj1eegrHs12\", \"https://cdn.bokeh.org/bokeh/release/bokeh-widgets-2.1.1.min.js\": \"xIGPmVtaOm+z0BqfSOMn4lOR6ciex448GIKG4eE61LsAvmGj48XcMQZtKcE/UXZe\", \"https://cdn.bokeh.org/bokeh/release/bokeh-tables-2.1.1.min.js\": \"Dc9u1wF/0zApGIWoBbH77iWEHtdmkuYWG839Uzmv8y8yBLXebjO9ZnERsde5Ln/P\", \"https://cdn.bokeh.org/bokeh/release/bokeh-gl-2.1.1.min.js\": \"cT9JaBz7GiRXdENrJLZNSC6eMNF3nh3fa5fTF51Svp+ukxPdwcU5kGXGPBgDCa2j\"};\n\n    for (var i = 0; i < js_urls.length; i++) {\n      var url = js_urls[i];\n      var element = document.createElement('script');\n      element.onload = on_load;\n      element.onerror = on_error;\n      element.async = false;\n      element.src = url;\n      if (url in hashes) {\n        element.crossOrigin = \"anonymous\";\n        element.integrity = \"sha384-\" + hashes[url];\n      }\n      console.debug(\"Bokeh: injecting script tag for BokehJS library: \", url);\n      document.head.appendChild(element);\n    }\n  };\n\n  function inject_raw_css(css) {\n    const element = document.createElement(\"style\");\n    element.appendChild(document.createTextNode(css));\n    document.body.appendChild(element);\n  }\n\n  \n  var js_urls = [\"https://cdn.bokeh.org/bokeh/release/bokeh-2.1.1.min.js\", \"https://cdn.bokeh.org/bokeh/release/bokeh-widgets-2.1.1.min.js\", \"https://cdn.bokeh.org/bokeh/release/bokeh-tables-2.1.1.min.js\", \"https://cdn.bokeh.org/bokeh/release/bokeh-gl-2.1.1.min.js\"];\n  var css_urls = [];\n  \n\n  var inline_js = [\n    function(Bokeh) {\n      Bokeh.set_log_level(\"info\");\n    },\n    function(Bokeh) {\n    \n    \n    }\n  ];\n\n  function run_inline_js() {\n    \n    if (root.Bokeh !== undefined || force === true) {\n      \n    for (var i = 0; i < inline_js.length; i++) {\n      inline_js[i].call(root, root.Bokeh);\n    }\n    if (force === true) {\n        display_loaded();\n      }} else if (Date.now() < root._bokeh_timeout) {\n      setTimeout(run_inline_js, 100);\n    } else if (!root._bokeh_failed_load) {\n      console.log(\"Bokeh: BokehJS failed to load within specified timeout.\");\n      root._bokeh_failed_load = true;\n    } else if (force !== true) {\n      var cell = $(document.getElementById(\"1001\")).parents('.cell').data().cell;\n      cell.output_area.append_execute_result(NB_LOAD_WARNING)\n    }\n\n  }\n\n  if (root._bokeh_is_loading === 0) {\n    console.debug(\"Bokeh: BokehJS loaded, going straight to plotting\");\n    run_inline_js();\n  } else {\n    load_libs(css_urls, js_urls, function() {\n      console.debug(\"Bokeh: BokehJS plotting callback run at\", now());\n      run_inline_js();\n    });\n  }\n}(window));"
     },
     "metadata": {},
     "output_type": "display_data"
    }
   ],
   "source": [
    "import yfinance as yf\n",
    "import pandas as pd\n",
    "import numpy as np\n",
    "import matplotlib.pyplot as plt\n",
    "from pytrends.request import TrendReq\n",
    "from pytrends import dailydata\n",
    "import requests\n",
    "import collections\n",
    "import os\n",
    "\n",
    "from sklearn import linear_model\n",
    "import statsmodels.api as sm\n",
    "\n",
    "from backtesting import Backtest\n",
    "\n",
    "from scipy.optimize import minimize\n"
   ]
  },
  {
   "cell_type": "markdown",
   "metadata": {},
   "source": [
    "## Intro\n",
    "We will implement [this paper](https://www.nature.com/articles/srep01684.pdf) by Preis, Moat, and Stanley and make modifications to their algorithm logic that will be detailed later."
   ]
  },
  {
   "cell_type": "markdown",
   "metadata": {},
   "source": [
    "## Data Collection and Processing\n",
    "We sourced our alternative data from [Google Trends](https://trends.google.com/trends/?geo=US). Downloading data over a long time frame from the Google Trends website gives weekly datapoints with dates that are hard to control. To work around this, we used the third-party [pytrends](https://pypi.org/project/pytrends/) API for Python. This API allows us to request daily data for any time interval.\n",
    "\n",
    "For our financial data we used yfinance because of its ease of use. Because our trading intervals will be on the scale of days-weeks,  "
   ]
  },
  {
   "cell_type": "markdown",
   "metadata": {},
   "source": [
    "### Problems\n",
    "Because the API is third-party, you will get 429 (too many requests) errors after about 3 years of daily data. We created a script that downloads and saves Google search trend data and ran it in a Kaggle Docker Container to save time.\n",
    "\n",
    "Another problem is how the search volume values are computed by Google. Google samples a subset of its servers for the volume data. As a result, there are small variations between different requests with the same parameters. We determined that the difference was negligible to the overall trends although this could be looked into more thoroughly.\n"
   ]
  },
  {
   "cell_type": "code",
   "execution_count": 12,
   "metadata": {},
   "outputs": [],
   "source": [
    "x = os.walk(\"trends\")\n",
    "for word in x:\n",
    "    tuplee = word\n",
    "words = tuplee[2]"
   ]
  },
  {
   "cell_type": "code",
   "execution_count": 13,
   "metadata": {},
   "outputs": [
    {
     "name": "stdout",
     "output_type": "stream",
     "text": [
      "[*********************100%***********************]  1 of 1 completed\n"
     ]
    }
   ],
   "source": [
    "start_year = 2010\n",
    "start_month = 1\n",
    "end_year = 2018\n",
    "end_month = 12\n",
    "index = \"NDAQ\"\n",
    "\n",
    "training_index = yf.download(index, start = str(start_year)+\"-\"+str(start_month)+\"-01\", end = str(end_year)+\"-\"+str(end_month)+\"-01\")"
   ]
  },
  {
   "cell_type": "code",
   "execution_count": 14,
   "metadata": {},
   "outputs": [
    {
     "name": "stdout",
     "output_type": "stream",
     "text": [
      "[*********************100%***********************]  1 of 1 completed\n"
     ]
    }
   ],
   "source": [
    "start_year = 2019\n",
    "start_month = 1\n",
    "end_year = 2020\n",
    "end_month = 11\n",
    "index = \"NDAQ\"\n",
    "\n",
    "testing_index = yf.download(index, start = str(start_year)+\"-\"+str(start_month)+\"-01\", end = str(end_year)+\"-\"+str(end_month)+\"-01\")"
   ]
  },
  {
   "cell_type": "code",
   "execution_count": 15,
   "metadata": {},
   "outputs": [],
   "source": [
    "def getStats(key_word, start_year, start_month, end_year, end_month, index_data):\n",
    "    #trend = pd.DataFrame(dailydata.get_daily_data(key_word, start_year, start_month, end_year, end_month, wait_time = 0)[key_word])\n",
    "    trend = pd.read_csv(\"trends/\"+key_word)\n",
    "    key_word = key_word[:-4]\n",
    "    trend['date'] = pd.to_datetime(trend['date'])\n",
    "    trend = trend.set_index('date')\n",
    "    trend[\"change\"] = trend[key_word].pct_change()\n",
    "\n",
    "    # join trend data with DJIA data\n",
    "    joined = trend.merge(index_data, left_on = trend.index, right_on = index_data.index)\n",
    "    joined = joined.rename(columns = {\"key_0\": \"Date\"})\n",
    "\n",
    "    # grab the adj close price difference for each day\n",
    "    #joined['Diff'] = joined['Adj Close'].diff()\n",
    "    joined = joined.set_index(joined['Date'])\n",
    "\n",
    "    joined[\"change moving avg\"] = joined[\"change\"].rolling(\"14d\", min_periods = 1).mean()\n",
    "    joined = joined[joined.index.dayofweek == 1]\n",
    "    \n",
    "    return joined\n"
   ]
  },
  {
   "cell_type": "code",
   "execution_count": 16,
   "metadata": {},
   "outputs": [],
   "source": [
    "# grab data from yfinance and merge with la\n",
    "training = {}\n",
    "\n",
    "#for word in words:\n",
    "for word in words:\n",
    "    if word[0] == \".\": # extra thing in there\n",
    "        continue\n",
    "    training[word] = getStats(word, start_year, start_month, end_year, end_month, training_index)"
   ]
  },
  {
   "cell_type": "code",
   "execution_count": 17,
   "metadata": {},
   "outputs": [],
   "source": [
    "# testing data\n",
    "testing = {}\n",
    "\n",
    "for word in words:\n",
    "    if word[0] == \".\": # extra thing in there\n",
    "        continue\n",
    "    testing[word] = getStats(word, start_year, start_month, end_year, end_month, testing_index)"
   ]
  },
  {
   "cell_type": "markdown",
   "metadata": {},
   "source": [
    "# EDA\n",
    "Our downloaded Google Trends DataFrame looks like this."
   ]
  },
  {
   "cell_type": "code",
   "execution_count": 29,
   "metadata": {},
   "outputs": [
    {
     "data": {
      "text/html": [
       "<div>\n",
       "<style scoped>\n",
       "    .dataframe tbody tr th:only-of-type {\n",
       "        vertical-align: middle;\n",
       "    }\n",
       "\n",
       "    .dataframe tbody tr th {\n",
       "        vertical-align: top;\n",
       "    }\n",
       "\n",
       "    .dataframe thead th {\n",
       "        text-align: right;\n",
       "    }\n",
       "</style>\n",
       "<table border=\"1\" class=\"dataframe\">\n",
       "  <thead>\n",
       "    <tr style=\"text-align: right;\">\n",
       "      <th></th>\n",
       "      <th>Date</th>\n",
       "      <th>returns_unscaled</th>\n",
       "      <th>returns_monthly</th>\n",
       "      <th>isPartial</th>\n",
       "      <th>scale</th>\n",
       "      <th>returns</th>\n",
       "      <th>change</th>\n",
       "      <th>Open</th>\n",
       "      <th>High</th>\n",
       "      <th>Low</th>\n",
       "      <th>Close</th>\n",
       "      <th>Adj Close</th>\n",
       "      <th>Volume</th>\n",
       "      <th>change moving avg</th>\n",
       "    </tr>\n",
       "    <tr>\n",
       "      <th>Date</th>\n",
       "      <th></th>\n",
       "      <th></th>\n",
       "      <th></th>\n",
       "      <th></th>\n",
       "      <th></th>\n",
       "      <th></th>\n",
       "      <th></th>\n",
       "      <th></th>\n",
       "      <th></th>\n",
       "      <th></th>\n",
       "      <th></th>\n",
       "      <th></th>\n",
       "      <th></th>\n",
       "      <th></th>\n",
       "    </tr>\n",
       "  </thead>\n",
       "  <tbody>\n",
       "    <tr>\n",
       "      <th>2010-01-05</th>\n",
       "      <td>2010-01-05</td>\n",
       "      <td>54</td>\n",
       "      <td>34.0</td>\n",
       "      <td>NaN</td>\n",
       "      <td>0.34</td>\n",
       "      <td>18.36</td>\n",
       "      <td>-0.100000</td>\n",
       "      <td>19.930000</td>\n",
       "      <td>20.320000</td>\n",
       "      <td>19.930000</td>\n",
       "      <td>20.299999</td>\n",
       "      <td>17.419601</td>\n",
       "      <td>1481700</td>\n",
       "      <td>-0.023684</td>\n",
       "    </tr>\n",
       "    <tr>\n",
       "      <th>2010-01-12</th>\n",
       "      <td>2010-01-12</td>\n",
       "      <td>51</td>\n",
       "      <td>34.0</td>\n",
       "      <td>NaN</td>\n",
       "      <td>0.34</td>\n",
       "      <td>17.34</td>\n",
       "      <td>0.133333</td>\n",
       "      <td>20.160000</td>\n",
       "      <td>20.299999</td>\n",
       "      <td>19.820000</td>\n",
       "      <td>19.930000</td>\n",
       "      <td>17.102102</td>\n",
       "      <td>1732800</td>\n",
       "      <td>0.027288</td>\n",
       "    </tr>\n",
       "    <tr>\n",
       "      <th>2010-01-19</th>\n",
       "      <td>2010-01-19</td>\n",
       "      <td>100</td>\n",
       "      <td>34.0</td>\n",
       "      <td>NaN</td>\n",
       "      <td>0.34</td>\n",
       "      <td>34.00</td>\n",
       "      <td>0.587302</td>\n",
       "      <td>20.160000</td>\n",
       "      <td>20.240000</td>\n",
       "      <td>20.040001</td>\n",
       "      <td>20.129999</td>\n",
       "      <td>17.273724</td>\n",
       "      <td>1052300</td>\n",
       "      <td>0.108292</td>\n",
       "    </tr>\n",
       "    <tr>\n",
       "      <th>2010-01-26</th>\n",
       "      <td>2010-01-26</td>\n",
       "      <td>56</td>\n",
       "      <td>34.0</td>\n",
       "      <td>NaN</td>\n",
       "      <td>0.34</td>\n",
       "      <td>19.04</td>\n",
       "      <td>-0.111111</td>\n",
       "      <td>18.150000</td>\n",
       "      <td>18.430000</td>\n",
       "      <td>18.100000</td>\n",
       "      <td>18.100000</td>\n",
       "      <td>15.531766</td>\n",
       "      <td>2569300</td>\n",
       "      <td>0.040744</td>\n",
       "    </tr>\n",
       "    <tr>\n",
       "      <th>2010-02-02</th>\n",
       "      <td>2010-02-02</td>\n",
       "      <td>85</td>\n",
       "      <td>33.0</td>\n",
       "      <td>NaN</td>\n",
       "      <td>0.33</td>\n",
       "      <td>28.05</td>\n",
       "      <td>-0.150000</td>\n",
       "      <td>18.459999</td>\n",
       "      <td>18.719999</td>\n",
       "      <td>18.400000</td>\n",
       "      <td>18.580000</td>\n",
       "      <td>15.943654</td>\n",
       "      <td>1849600</td>\n",
       "      <td>0.034571</td>\n",
       "    </tr>\n",
       "  </tbody>\n",
       "</table>\n",
       "</div>"
      ],
      "text/plain": [
       "                 Date  returns_unscaled  returns_monthly isPartial  scale  \\\n",
       "Date                                                                        \n",
       "2010-01-05 2010-01-05                54             34.0       NaN   0.34   \n",
       "2010-01-12 2010-01-12                51             34.0       NaN   0.34   \n",
       "2010-01-19 2010-01-19               100             34.0       NaN   0.34   \n",
       "2010-01-26 2010-01-26                56             34.0       NaN   0.34   \n",
       "2010-02-02 2010-02-02                85             33.0       NaN   0.33   \n",
       "\n",
       "            returns    change       Open       High        Low      Close  \\\n",
       "Date                                                                        \n",
       "2010-01-05    18.36 -0.100000  19.930000  20.320000  19.930000  20.299999   \n",
       "2010-01-12    17.34  0.133333  20.160000  20.299999  19.820000  19.930000   \n",
       "2010-01-19    34.00  0.587302  20.160000  20.240000  20.040001  20.129999   \n",
       "2010-01-26    19.04 -0.111111  18.150000  18.430000  18.100000  18.100000   \n",
       "2010-02-02    28.05 -0.150000  18.459999  18.719999  18.400000  18.580000   \n",
       "\n",
       "            Adj Close   Volume  change moving avg  \n",
       "Date                                               \n",
       "2010-01-05  17.419601  1481700          -0.023684  \n",
       "2010-01-12  17.102102  1732800           0.027288  \n",
       "2010-01-19  17.273724  1052300           0.108292  \n",
       "2010-01-26  15.531766  2569300           0.040744  \n",
       "2010-02-02  15.943654  1849600           0.034571  "
      ]
     },
     "execution_count": 29,
     "metadata": {},
     "output_type": "execute_result"
    }
   ],
   "source": [
    "training[\"returns.csv\"].head()"
   ]
  },
  {
   "cell_type": "markdown",
   "metadata": {},
   "source": [
    "We are primarily interested in the last column which gives the scaled search volume. The other columns are used to calculate the scaling."
   ]
  },
  {
   "cell_type": "markdown",
   "metadata": {},
   "source": [
    "# Training"
   ]
  },
  {
   "cell_type": "markdown",
   "metadata": {},
   "source": [
    "### We begin backtesting our model using the python backtesting library. \n",
    "### Our algorithm is as follows:\n",
    "1. We have already calculated the change moving average. If that value is above some \"high\" threshold, then we buy at the current value. The intuition being that an increase in search volume on positive words will lead to a positive impact on the market and a increased price in our index. Vice versa for \"low\" threshold.\n",
    "2. Now, we need to define some threshold at which to execute our buy and sell trades. We optimize our backtest (on all words available) to find the best values for our \"high\" and \"low\" parameters to optimize returns. \n",
    "3. We get our 80-20 split by grabbing the first 8 years (2010-2018) as our training data and the next two years (2019-2020) as our testing.\n",
    "4. We run our testing model to find the optimized high and low thresholds."
   ]
  },
  {
   "cell_type": "code",
   "execution_count": 19,
   "metadata": {},
   "outputs": [],
   "source": [
    "def getMovingAvg(df):\n",
    "    return pd.Series(df['change moving avg'])"
   ]
  },
  {
   "cell_type": "code",
   "execution_count": 20,
   "metadata": {},
   "outputs": [],
   "source": [
    "from backtesting import Strategy\n",
    "from backtesting.lib import crossover\n",
    "\n",
    "class trainingStrat(Strategy):\n",
    "    high = 0\n",
    "    low = 0\n",
    "    \n",
    "    def init(self):\n",
    "        self.change = self.I(getMovingAvg, self.data)\n",
    "        high = self.high\n",
    "        low = self.low\n",
    "\n",
    "    def next(self):\n",
    "        if self.change[-1] > self.high:\n",
    "            self.position.close()\n",
    "            #print(\"buying\")\n",
    "            self.buy()\n",
    "\n",
    "        elif self.change[-1] < self.low:\n",
    "            self.position.close()\n",
    "            #print(\"selling\")\n",
    "            self.sell()\n",
    "        else:\n",
    "            self.position.close()"
   ]
  },
  {
   "cell_type": "code",
   "execution_count": 22,
   "metadata": {},
   "outputs": [
    {
     "name": "stdout",
     "output_type": "stream",
     "text": [
      "Finished housing.csv\n",
      "Finished chance.csv\n",
      "Finished stock market.csv\n",
      "Finished politics.csv\n"
     ]
    },
    {
     "name": "stderr",
     "output_type": "stream",
     "text": [
      "/opt/anaconda3/lib/python3.8/site-packages/backtesting/backtesting.py:1579: RuntimeWarning: divide by zero encountered in double_scalars\n",
      "  s.loc['Sortino Ratio'] = np.clip(annualized_return / (np.sqrt(np.mean(day_returns.clip(-np.inf, 0)**2)) * np.sqrt(annual_trading_days)), 0, np.inf)  # noqa: E501\n",
      "/opt/anaconda3/lib/python3.8/site-packages/backtesting/backtesting.py:1579: RuntimeWarning: divide by zero encountered in double_scalars\n",
      "  s.loc['Sortino Ratio'] = np.clip(annualized_return / (np.sqrt(np.mean(day_returns.clip(-np.inf, 0)**2)) * np.sqrt(annual_trading_days)), 0, np.inf)  # noqa: E501\n",
      "/opt/anaconda3/lib/python3.8/site-packages/backtesting/backtesting.py:1579: RuntimeWarning: divide by zero encountered in double_scalars\n",
      "  s.loc['Sortino Ratio'] = np.clip(annualized_return / (np.sqrt(np.mean(day_returns.clip(-np.inf, 0)**2)) * np.sqrt(annual_trading_days)), 0, np.inf)  # noqa: E501\n",
      "/opt/anaconda3/lib/python3.8/site-packages/backtesting/backtesting.py:1579: RuntimeWarning: divide by zero encountered in double_scalars\n",
      "  s.loc['Sortino Ratio'] = np.clip(annualized_return / (np.sqrt(np.mean(day_returns.clip(-np.inf, 0)**2)) * np.sqrt(annual_trading_days)), 0, np.inf)  # noqa: E501\n",
      "/opt/anaconda3/lib/python3.8/site-packages/backtesting/backtesting.py:1579: RuntimeWarning: divide by zero encountered in double_scalars\n",
      "  s.loc['Sortino Ratio'] = np.clip(annualized_return / (np.sqrt(np.mean(day_returns.clip(-np.inf, 0)**2)) * np.sqrt(annual_trading_days)), 0, np.inf)  # noqa: E501\n",
      "/opt/anaconda3/lib/python3.8/site-packages/backtesting/backtesting.py:1579: RuntimeWarning: divide by zero encountered in double_scalars\n",
      "  s.loc['Sortino Ratio'] = np.clip(annualized_return / (np.sqrt(np.mean(day_returns.clip(-np.inf, 0)**2)) * np.sqrt(annual_trading_days)), 0, np.inf)  # noqa: E501\n",
      "/opt/anaconda3/lib/python3.8/site-packages/backtesting/backtesting.py:1579: RuntimeWarning: divide by zero encountered in double_scalars\n",
      "  s.loc['Sortino Ratio'] = np.clip(annualized_return / (np.sqrt(np.mean(day_returns.clip(-np.inf, 0)**2)) * np.sqrt(annual_trading_days)), 0, np.inf)  # noqa: E501\n",
      "/opt/anaconda3/lib/python3.8/site-packages/backtesting/backtesting.py:1579: RuntimeWarning: divide by zero encountered in double_scalars\n",
      "  s.loc['Sortino Ratio'] = np.clip(annualized_return / (np.sqrt(np.mean(day_returns.clip(-np.inf, 0)**2)) * np.sqrt(annual_trading_days)), 0, np.inf)  # noqa: E501\n"
     ]
    },
    {
     "name": "stdout",
     "output_type": "stream",
     "text": [
      "Finished cash.csv\n",
      "Finished invest.csv\n",
      "Finished dividend.csv\n",
      "Finished hedge.csv\n",
      "Finished gold.csv\n",
      "Finished bonds.csv\n",
      "Finished finance.csv\n"
     ]
    },
    {
     "name": "stderr",
     "output_type": "stream",
     "text": [
      "/opt/anaconda3/lib/python3.8/site-packages/backtesting/backtesting.py:1579: RuntimeWarning: divide by zero encountered in double_scalars\n",
      "  s.loc['Sortino Ratio'] = np.clip(annualized_return / (np.sqrt(np.mean(day_returns.clip(-np.inf, 0)**2)) * np.sqrt(annual_trading_days)), 0, np.inf)  # noqa: E501\n",
      "/opt/anaconda3/lib/python3.8/site-packages/backtesting/backtesting.py:1579: RuntimeWarning: divide by zero encountered in double_scalars\n",
      "  s.loc['Sortino Ratio'] = np.clip(annualized_return / (np.sqrt(np.mean(day_returns.clip(-np.inf, 0)**2)) * np.sqrt(annual_trading_days)), 0, np.inf)  # noqa: E501\n",
      "/opt/anaconda3/lib/python3.8/site-packages/backtesting/backtesting.py:1579: RuntimeWarning: divide by zero encountered in double_scalars\n",
      "  s.loc['Sortino Ratio'] = np.clip(annualized_return / (np.sqrt(np.mean(day_returns.clip(-np.inf, 0)**2)) * np.sqrt(annual_trading_days)), 0, np.inf)  # noqa: E501\n",
      "/opt/anaconda3/lib/python3.8/site-packages/backtesting/backtesting.py:1579: RuntimeWarning: divide by zero encountered in double_scalars\n",
      "  s.loc['Sortino Ratio'] = np.clip(annualized_return / (np.sqrt(np.mean(day_returns.clip(-np.inf, 0)**2)) * np.sqrt(annual_trading_days)), 0, np.inf)  # noqa: E501\n"
     ]
    },
    {
     "name": "stdout",
     "output_type": "stream",
     "text": [
      "Finished culture.csv\n"
     ]
    },
    {
     "name": "stderr",
     "output_type": "stream",
     "text": [
      "/opt/anaconda3/lib/python3.8/site-packages/backtesting/backtesting.py:1579: RuntimeWarning: divide by zero encountered in double_scalars\n",
      "  s.loc['Sortino Ratio'] = np.clip(annualized_return / (np.sqrt(np.mean(day_returns.clip(-np.inf, 0)**2)) * np.sqrt(annual_trading_days)), 0, np.inf)  # noqa: E501\n",
      "/opt/anaconda3/lib/python3.8/site-packages/backtesting/backtesting.py:1579: RuntimeWarning: divide by zero encountered in double_scalars\n",
      "  s.loc['Sortino Ratio'] = np.clip(annualized_return / (np.sqrt(np.mean(day_returns.clip(-np.inf, 0)**2)) * np.sqrt(annual_trading_days)), 0, np.inf)  # noqa: E501\n"
     ]
    },
    {
     "name": "stdout",
     "output_type": "stream",
     "text": [
      "Finished economy.csv\n",
      "Finished short sell.csv\n",
      "Finished leverage.csv\n",
      "Finished conflict.csv\n",
      "Finished risk.csv\n",
      "Finished nasdaq.csv\n",
      "Finished banking.csv\n",
      "Finished derivatives.csv\n"
     ]
    },
    {
     "name": "stderr",
     "output_type": "stream",
     "text": [
      "/opt/anaconda3/lib/python3.8/site-packages/backtesting/backtesting.py:1579: RuntimeWarning: divide by zero encountered in double_scalars\n",
      "  s.loc['Sortino Ratio'] = np.clip(annualized_return / (np.sqrt(np.mean(day_returns.clip(-np.inf, 0)**2)) * np.sqrt(annual_trading_days)), 0, np.inf)  # noqa: E501\n",
      "/opt/anaconda3/lib/python3.8/site-packages/backtesting/backtesting.py:1579: RuntimeWarning: divide by zero encountered in double_scalars\n",
      "  s.loc['Sortino Ratio'] = np.clip(annualized_return / (np.sqrt(np.mean(day_returns.clip(-np.inf, 0)**2)) * np.sqrt(annual_trading_days)), 0, np.inf)  # noqa: E501\n"
     ]
    },
    {
     "name": "stdout",
     "output_type": "stream",
     "text": [
      "Finished sell.csv\n",
      "Finished office.csv\n",
      "Finished portfolio.csv\n",
      "Finished dow jones.csv\n"
     ]
    },
    {
     "name": "stderr",
     "output_type": "stream",
     "text": [
      "/opt/anaconda3/lib/python3.8/site-packages/backtesting/backtesting.py:1579: RuntimeWarning: divide by zero encountered in double_scalars\n",
      "  s.loc['Sortino Ratio'] = np.clip(annualized_return / (np.sqrt(np.mean(day_returns.clip(-np.inf, 0)**2)) * np.sqrt(annual_trading_days)), 0, np.inf)  # noqa: E501\n",
      "/opt/anaconda3/lib/python3.8/site-packages/backtesting/backtesting.py:1579: RuntimeWarning: divide by zero encountered in double_scalars\n",
      "  s.loc['Sortino Ratio'] = np.clip(annualized_return / (np.sqrt(np.mean(day_returns.clip(-np.inf, 0)**2)) * np.sqrt(annual_trading_days)), 0, np.inf)  # noqa: E501\n"
     ]
    },
    {
     "name": "stdout",
     "output_type": "stream",
     "text": [
      "Finished food.csv\n",
      "Finished revenue.csv\n",
      "Finished economics.csv\n",
      "Finished fine.csv\n",
      "Finished holiday.csv\n",
      "Finished credit.csv\n"
     ]
    },
    {
     "name": "stderr",
     "output_type": "stream",
     "text": [
      "/opt/anaconda3/lib/python3.8/site-packages/backtesting/backtesting.py:1579: RuntimeWarning: divide by zero encountered in double_scalars\n",
      "  s.loc['Sortino Ratio'] = np.clip(annualized_return / (np.sqrt(np.mean(day_returns.clip(-np.inf, 0)**2)) * np.sqrt(annual_trading_days)), 0, np.inf)  # noqa: E501\n",
      "/opt/anaconda3/lib/python3.8/site-packages/backtesting/backtesting.py:1579: RuntimeWarning: divide by zero encountered in double_scalars\n",
      "  s.loc['Sortino Ratio'] = np.clip(annualized_return / (np.sqrt(np.mean(day_returns.clip(-np.inf, 0)**2)) * np.sqrt(annual_trading_days)), 0, np.inf)  # noqa: E501\n",
      "/opt/anaconda3/lib/python3.8/site-packages/backtesting/backtesting.py:1579: RuntimeWarning: divide by zero encountered in double_scalars\n",
      "  s.loc['Sortino Ratio'] = np.clip(annualized_return / (np.sqrt(np.mean(day_returns.clip(-np.inf, 0)**2)) * np.sqrt(annual_trading_days)), 0, np.inf)  # noqa: E501\n",
      "/opt/anaconda3/lib/python3.8/site-packages/backtesting/backtesting.py:1579: RuntimeWarning: divide by zero encountered in double_scalars\n",
      "  s.loc['Sortino Ratio'] = np.clip(annualized_return / (np.sqrt(np.mean(day_returns.clip(-np.inf, 0)**2)) * np.sqrt(annual_trading_days)), 0, np.inf)  # noqa: E501\n",
      "/opt/anaconda3/lib/python3.8/site-packages/backtesting/backtesting.py:1579: RuntimeWarning: divide by zero encountered in double_scalars\n",
      "  s.loc['Sortino Ratio'] = np.clip(annualized_return / (np.sqrt(np.mean(day_returns.clip(-np.inf, 0)**2)) * np.sqrt(annual_trading_days)), 0, np.inf)  # noqa: E501\n"
     ]
    },
    {
     "name": "stdout",
     "output_type": "stream",
     "text": [
      "Finished society.csv\n",
      "Finished crash.csv\n"
     ]
    },
    {
     "name": "stderr",
     "output_type": "stream",
     "text": [
      "/opt/anaconda3/lib/python3.8/site-packages/backtesting/backtesting.py:1579: RuntimeWarning: divide by zero encountered in double_scalars\n",
      "  s.loc['Sortino Ratio'] = np.clip(annualized_return / (np.sqrt(np.mean(day_returns.clip(-np.inf, 0)**2)) * np.sqrt(annual_trading_days)), 0, np.inf)  # noqa: E501\n"
     ]
    },
    {
     "name": "stdout",
     "output_type": "stream",
     "text": [
      "Finished profit.csv\n"
     ]
    },
    {
     "name": "stderr",
     "output_type": "stream",
     "text": [
      "/opt/anaconda3/lib/python3.8/site-packages/backtesting/backtesting.py:1579: RuntimeWarning: divide by zero encountered in double_scalars\n",
      "  s.loc['Sortino Ratio'] = np.clip(annualized_return / (np.sqrt(np.mean(day_returns.clip(-np.inf, 0)**2)) * np.sqrt(annual_trading_days)), 0, np.inf)  # noqa: E501\n",
      "/opt/anaconda3/lib/python3.8/site-packages/backtesting/backtesting.py:1579: RuntimeWarning: divide by zero encountered in double_scalars\n",
      "  s.loc['Sortino Ratio'] = np.clip(annualized_return / (np.sqrt(np.mean(day_returns.clip(-np.inf, 0)**2)) * np.sqrt(annual_trading_days)), 0, np.inf)  # noqa: E501\n"
     ]
    },
    {
     "name": "stdout",
     "output_type": "stream",
     "text": [
      "Finished water.csv\n",
      "Finished money.csv\n",
      "Finished tourism.csv\n"
     ]
    },
    {
     "name": "stderr",
     "output_type": "stream",
     "text": [
      "/opt/anaconda3/lib/python3.8/site-packages/backtesting/backtesting.py:1579: RuntimeWarning: divide by zero encountered in double_scalars\n",
      "  s.loc['Sortino Ratio'] = np.clip(annualized_return / (np.sqrt(np.mean(day_returns.clip(-np.inf, 0)**2)) * np.sqrt(annual_trading_days)), 0, np.inf)  # noqa: E501\n",
      "/opt/anaconda3/lib/python3.8/site-packages/backtesting/backtesting.py:1579: RuntimeWarning: divide by zero encountered in double_scalars\n",
      "  s.loc['Sortino Ratio'] = np.clip(annualized_return / (np.sqrt(np.mean(day_returns.clip(-np.inf, 0)**2)) * np.sqrt(annual_trading_days)), 0, np.inf)  # noqa: E501\n",
      "/opt/anaconda3/lib/python3.8/site-packages/backtesting/backtesting.py:1579: RuntimeWarning: divide by zero encountered in double_scalars\n",
      "  s.loc['Sortino Ratio'] = np.clip(annualized_return / (np.sqrt(np.mean(day_returns.clip(-np.inf, 0)**2)) * np.sqrt(annual_trading_days)), 0, np.inf)  # noqa: E501\n",
      "/opt/anaconda3/lib/python3.8/site-packages/backtesting/backtesting.py:1579: RuntimeWarning: divide by zero encountered in double_scalars\n",
      "  s.loc['Sortino Ratio'] = np.clip(annualized_return / (np.sqrt(np.mean(day_returns.clip(-np.inf, 0)**2)) * np.sqrt(annual_trading_days)), 0, np.inf)  # noqa: E501\n",
      "/opt/anaconda3/lib/python3.8/site-packages/backtesting/backtesting.py:1579: RuntimeWarning: divide by zero encountered in double_scalars\n",
      "  s.loc['Sortino Ratio'] = np.clip(annualized_return / (np.sqrt(np.mean(day_returns.clip(-np.inf, 0)**2)) * np.sqrt(annual_trading_days)), 0, np.inf)  # noqa: E501\n"
     ]
    },
    {
     "name": "stdout",
     "output_type": "stream",
     "text": [
      "Finished growth.csv\n"
     ]
    },
    {
     "name": "stderr",
     "output_type": "stream",
     "text": [
      "/opt/anaconda3/lib/python3.8/site-packages/backtesting/backtesting.py:1579: RuntimeWarning: divide by zero encountered in double_scalars\n",
      "  s.loc['Sortino Ratio'] = np.clip(annualized_return / (np.sqrt(np.mean(day_returns.clip(-np.inf, 0)**2)) * np.sqrt(annual_trading_days)), 0, np.inf)  # noqa: E501\n",
      "/opt/anaconda3/lib/python3.8/site-packages/backtesting/backtesting.py:1579: RuntimeWarning: divide by zero encountered in double_scalars\n",
      "  s.loc['Sortino Ratio'] = np.clip(annualized_return / (np.sqrt(np.mean(day_returns.clip(-np.inf, 0)**2)) * np.sqrt(annual_trading_days)), 0, np.inf)  # noqa: E501\n",
      "/opt/anaconda3/lib/python3.8/site-packages/backtesting/backtesting.py:1579: RuntimeWarning: divide by zero encountered in double_scalars\n",
      "  s.loc['Sortino Ratio'] = np.clip(annualized_return / (np.sqrt(np.mean(day_returns.clip(-np.inf, 0)**2)) * np.sqrt(annual_trading_days)), 0, np.inf)  # noqa: E501\n",
      "/opt/anaconda3/lib/python3.8/site-packages/backtesting/backtesting.py:1579: RuntimeWarning: divide by zero encountered in double_scalars\n",
      "  s.loc['Sortino Ratio'] = np.clip(annualized_return / (np.sqrt(np.mean(day_returns.clip(-np.inf, 0)**2)) * np.sqrt(annual_trading_days)), 0, np.inf)  # noqa: E501\n"
     ]
    },
    {
     "name": "stdout",
     "output_type": "stream",
     "text": [
      "Finished arts.csv\n",
      "Finished color.csv\n",
      "Finished rich.csv\n",
      "Finished fed.csv\n",
      "Finished energy.csv\n",
      "Finished investment.csv\n",
      "Finished debt.csv\n",
      "Finished earnings.csv\n",
      "Finished present.csv\n"
     ]
    },
    {
     "name": "stderr",
     "output_type": "stream",
     "text": [
      "/opt/anaconda3/lib/python3.8/site-packages/backtesting/backtesting.py:1579: RuntimeWarning: divide by zero encountered in double_scalars\n",
      "  s.loc['Sortino Ratio'] = np.clip(annualized_return / (np.sqrt(np.mean(day_returns.clip(-np.inf, 0)**2)) * np.sqrt(annual_trading_days)), 0, np.inf)  # noqa: E501\n"
     ]
    },
    {
     "name": "stdout",
     "output_type": "stream",
     "text": [
      "Finished loss.csv\n"
     ]
    },
    {
     "name": "stderr",
     "output_type": "stream",
     "text": [
      "/opt/anaconda3/lib/python3.8/site-packages/backtesting/backtesting.py:1579: RuntimeWarning: divide by zero encountered in double_scalars\n",
      "  s.loc['Sortino Ratio'] = np.clip(annualized_return / (np.sqrt(np.mean(day_returns.clip(-np.inf, 0)**2)) * np.sqrt(annual_trading_days)), 0, np.inf)  # noqa: E501\n",
      "/opt/anaconda3/lib/python3.8/site-packages/backtesting/backtesting.py:1579: RuntimeWarning: divide by zero encountered in double_scalars\n",
      "  s.loc['Sortino Ratio'] = np.clip(annualized_return / (np.sqrt(np.mean(day_returns.clip(-np.inf, 0)**2)) * np.sqrt(annual_trading_days)), 0, np.inf)  # noqa: E501\n",
      "/opt/anaconda3/lib/python3.8/site-packages/backtesting/backtesting.py:1579: RuntimeWarning: divide by zero encountered in double_scalars\n",
      "  s.loc['Sortino Ratio'] = np.clip(annualized_return / (np.sqrt(np.mean(day_returns.clip(-np.inf, 0)**2)) * np.sqrt(annual_trading_days)), 0, np.inf)  # noqa: E501\n"
     ]
    },
    {
     "name": "stdout",
     "output_type": "stream",
     "text": [
      "Finished house.csv\n",
      "Finished financial markets.csv\n",
      "Finished markets.csv\n",
      "Finished consumption.csv\n",
      "Finished crisis.csv\n",
      "Finished inflation.csv\n",
      "Finished train.csv\n",
      "Finished ore.csv\n",
      "Finished short selling.csv\n",
      "Finished transaction.csv\n"
     ]
    },
    {
     "name": "stderr",
     "output_type": "stream",
     "text": [
      "/opt/anaconda3/lib/python3.8/site-packages/backtesting/backtesting.py:1579: RuntimeWarning: divide by zero encountered in double_scalars\n",
      "  s.loc['Sortino Ratio'] = np.clip(annualized_return / (np.sqrt(np.mean(day_returns.clip(-np.inf, 0)**2)) * np.sqrt(annual_trading_days)), 0, np.inf)  # noqa: E501\n"
     ]
    },
    {
     "name": "stdout",
     "output_type": "stream",
     "text": [
      "Finished buy.csv\n",
      "Finished freedom.csv\n",
      "Finished gains.csv\n",
      "Finished world.csv\n",
      "Finished oil.csv\n",
      "Finished metals.csv\n",
      "Finished war.csv\n",
      "Finished unemployment.csv\n",
      "Finished health.csv\n"
     ]
    },
    {
     "name": "stderr",
     "output_type": "stream",
     "text": [
      "/opt/anaconda3/lib/python3.8/site-packages/backtesting/backtesting.py:1579: RuntimeWarning: divide by zero encountered in double_scalars\n",
      "  s.loc['Sortino Ratio'] = np.clip(annualized_return / (np.sqrt(np.mean(day_returns.clip(-np.inf, 0)**2)) * np.sqrt(annual_trading_days)), 0, np.inf)  # noqa: E501\n",
      "/opt/anaconda3/lib/python3.8/site-packages/backtesting/backtesting.py:1579: RuntimeWarning: divide by zero encountered in double_scalars\n",
      "  s.loc['Sortino Ratio'] = np.clip(annualized_return / (np.sqrt(np.mean(day_returns.clip(-np.inf, 0)**2)) * np.sqrt(annual_trading_days)), 0, np.inf)  # noqa: E501\n"
     ]
    },
    {
     "name": "stdout",
     "output_type": "stream",
     "text": [
      "Finished travel.csv\n",
      "Finished return.csv\n",
      "Finished returns.csv\n",
      "Finished stocks.csv\n"
     ]
    },
    {
     "ename": "NameError",
     "evalue": "name 'optimized_stats' is not defined",
     "output_type": "error",
     "traceback": [
      "\u001b[0;31m---------------------------------------------------------------------------\u001b[0m",
      "\u001b[0;31mNameError\u001b[0m                                 Traceback (most recent call last)",
      "\u001b[0;32m<timed exec>\u001b[0m in \u001b[0;36m<module>\u001b[0;34m\u001b[0m\n",
      "\u001b[0;31mNameError\u001b[0m: name 'optimized_stats' is not defined"
     ]
    }
   ],
   "source": [
    "%%time\n",
    "# optimizing each word and saving best parameters high and low\n",
    "training_stats = {}\n",
    "training_bts = {}\n",
    "\n",
    "for word in training.keys():\n",
    "    bt = Backtest(training[word], trainingStrat, cash=100_000_000, commission=0)\n",
    "    stats = bt.optimize(low = list(np.asarray(range(-10, 21, 2))/100),\n",
    "                        high = list(np.asarray(range(-10, 21, 2))/100), \n",
    "                        constraint = lambda param: param.low < param.high, \n",
    "                        maximize = 'Equity Final [$]',\n",
    "                        return_optimization = True, method = 'skopt',\n",
    "                        random_state = 42)\n",
    "    #stats = bt.run()\n",
    "    training_stats[word] = stats\n",
    "    training_bts[word] = bt\n",
    "    print(\"Finished \"+word)\n",
    "    \n",
    "training_stats"
   ]
  },
  {
   "cell_type": "code",
   "execution_count": 203,
   "metadata": {},
   "outputs": [],
   "source": [
    "# unpack the various values held within the optimized stats\n",
    "returns = {}\n",
    "sharpe = {}\n",
    "win_rate = {}\n",
    "avg_trade = {}\n",
    "optimized_parameters = {}\n",
    "\n",
    "for word in training.keys():\n",
    "    returns[word] = training_stats[word][0][6]\n",
    "    returns['BUY AND HOLD.csv'] = training_stats[word][0][7]\n",
    "    sharpe[word] = training_stats[word][0][10]\n",
    "    win_rate[word] = training_stats[word][0][18]\n",
    "    avg_trade[word] = training_stats[word][0][21]\n",
    "    optimized_parameters[word] = training_stats[word][1].x"
   ]
  },
  {
   "cell_type": "code",
   "execution_count": 204,
   "metadata": {},
   "outputs": [
    {
     "data": {
      "text/html": [
       "<div>\n",
       "<style scoped>\n",
       "    .dataframe tbody tr th:only-of-type {\n",
       "        vertical-align: middle;\n",
       "    }\n",
       "\n",
       "    .dataframe tbody tr th {\n",
       "        vertical-align: top;\n",
       "    }\n",
       "\n",
       "    .dataframe thead th {\n",
       "        text-align: right;\n",
       "    }\n",
       "</style>\n",
       "<table border=\"1\" class=\"dataframe\">\n",
       "  <thead>\n",
       "    <tr style=\"text-align: right;\">\n",
       "      <th></th>\n",
       "      <th>Returns (%)</th>\n",
       "    </tr>\n",
       "    <tr>\n",
       "      <th>Key Word</th>\n",
       "      <th></th>\n",
       "    </tr>\n",
       "  </thead>\n",
       "  <tbody>\n",
       "    <tr>\n",
       "      <th>returns</th>\n",
       "      <td>659.395428</td>\n",
       "    </tr>\n",
       "    <tr>\n",
       "      <th>chance</th>\n",
       "      <td>648.341014</td>\n",
       "    </tr>\n",
       "    <tr>\n",
       "      <th>debt</th>\n",
       "      <td>631.934267</td>\n",
       "    </tr>\n",
       "    <tr>\n",
       "      <th>gains</th>\n",
       "      <td>607.837710</td>\n",
       "    </tr>\n",
       "    <tr>\n",
       "      <th>rich</th>\n",
       "      <td>579.265036</td>\n",
       "    </tr>\n",
       "    <tr>\n",
       "      <th>crisis</th>\n",
       "      <td>526.189516</td>\n",
       "    </tr>\n",
       "    <tr>\n",
       "      <th>invest</th>\n",
       "      <td>507.587202</td>\n",
       "    </tr>\n",
       "    <tr>\n",
       "      <th>bonds</th>\n",
       "      <td>483.583745</td>\n",
       "    </tr>\n",
       "    <tr>\n",
       "      <th>culture</th>\n",
       "      <td>482.595006</td>\n",
       "    </tr>\n",
       "    <tr>\n",
       "      <th>ore</th>\n",
       "      <td>473.378965</td>\n",
       "    </tr>\n",
       "  </tbody>\n",
       "</table>\n",
       "</div>"
      ],
      "text/plain": [
       "          Returns (%)\n",
       "Key Word             \n",
       "returns    659.395428\n",
       "chance     648.341014\n",
       "debt       631.934267\n",
       "gains      607.837710\n",
       "rich       579.265036\n",
       "crisis     526.189516\n",
       "invest     507.587202\n",
       "bonds      483.583745\n",
       "culture    482.595006\n",
       "ore        473.378965"
      ]
     },
     "execution_count": 204,
     "metadata": {},
     "output_type": "execute_result"
    }
   ],
   "source": [
    "optimized_words = [i[0] for i in sorted(returns.items(), key = lambda x: x[1], reverse = True)]\n",
    "optimized_words_returns = sorted(returns.items(), key = lambda x: x[1], reverse = True)\n",
    "returns_data = {'Key Word': [i[:-4] for i in optimized_words], 'Returns (%)': [i[1] for i in optimized_words_returns]}\n",
    "training_returns = pd.DataFrame(returns_data)\n",
    "training_returns = training_returns.set_index('Key Word')\n",
    "training_returns.head(10)"
   ]
  },
  {
   "cell_type": "code",
   "execution_count": 205,
   "metadata": {},
   "outputs": [
    {
     "data": {
      "text/html": [
       "<div>\n",
       "<style scoped>\n",
       "    .dataframe tbody tr th:only-of-type {\n",
       "        vertical-align: middle;\n",
       "    }\n",
       "\n",
       "    .dataframe tbody tr th {\n",
       "        vertical-align: top;\n",
       "    }\n",
       "\n",
       "    .dataframe thead th {\n",
       "        text-align: right;\n",
       "    }\n",
       "</style>\n",
       "<table border=\"1\" class=\"dataframe\">\n",
       "  <thead>\n",
       "    <tr style=\"text-align: right;\">\n",
       "      <th></th>\n",
       "      <th>Returns (%)</th>\n",
       "    </tr>\n",
       "    <tr>\n",
       "      <th>Key Word</th>\n",
       "      <th></th>\n",
       "    </tr>\n",
       "  </thead>\n",
       "  <tbody>\n",
       "    <tr>\n",
       "      <th>BUY AND HOLD</th>\n",
       "      <td>340.689667</td>\n",
       "    </tr>\n",
       "  </tbody>\n",
       "</table>\n",
       "</div>"
      ],
      "text/plain": [
       "              Returns (%)\n",
       "Key Word                 \n",
       "BUY AND HOLD   340.689667"
      ]
     },
     "execution_count": 205,
     "metadata": {},
     "output_type": "execute_result"
    }
   ],
   "source": [
    "training_returns[training_returns.index == \"BUY AND HOLD\"]"
   ]
  },
  {
   "cell_type": "code",
   "execution_count": 206,
   "metadata": {},
   "outputs": [
    {
     "data": {
      "text/html": [
       "<div>\n",
       "<style scoped>\n",
       "    .dataframe tbody tr th:only-of-type {\n",
       "        vertical-align: middle;\n",
       "    }\n",
       "\n",
       "    .dataframe tbody tr th {\n",
       "        vertical-align: top;\n",
       "    }\n",
       "\n",
       "    .dataframe thead th {\n",
       "        text-align: right;\n",
       "    }\n",
       "</style>\n",
       "<table border=\"1\" class=\"dataframe\">\n",
       "  <thead>\n",
       "    <tr style=\"text-align: right;\">\n",
       "      <th></th>\n",
       "      <th>Sharpe Ratio</th>\n",
       "    </tr>\n",
       "    <tr>\n",
       "      <th>Key Word</th>\n",
       "      <th></th>\n",
       "    </tr>\n",
       "  </thead>\n",
       "  <tbody>\n",
       "    <tr>\n",
       "      <th>returns</th>\n",
       "      <td>1.468046</td>\n",
       "    </tr>\n",
       "    <tr>\n",
       "      <th>chance</th>\n",
       "      <td>1.358257</td>\n",
       "    </tr>\n",
       "    <tr>\n",
       "      <th>debt</th>\n",
       "      <td>1.336228</td>\n",
       "    </tr>\n",
       "    <tr>\n",
       "      <th>gains</th>\n",
       "      <td>1.295350</td>\n",
       "    </tr>\n",
       "    <tr>\n",
       "      <th>rich</th>\n",
       "      <td>1.289471</td>\n",
       "    </tr>\n",
       "    <tr>\n",
       "      <th>crisis</th>\n",
       "      <td>1.281440</td>\n",
       "    </tr>\n",
       "    <tr>\n",
       "      <th>invest</th>\n",
       "      <td>1.280002</td>\n",
       "    </tr>\n",
       "    <tr>\n",
       "      <th>bonds</th>\n",
       "      <td>1.276603</td>\n",
       "    </tr>\n",
       "    <tr>\n",
       "      <th>culture</th>\n",
       "      <td>1.269180</td>\n",
       "    </tr>\n",
       "    <tr>\n",
       "      <th>ore</th>\n",
       "      <td>1.238865</td>\n",
       "    </tr>\n",
       "  </tbody>\n",
       "</table>\n",
       "</div>"
      ],
      "text/plain": [
       "          Sharpe Ratio\n",
       "Key Word              \n",
       "returns       1.468046\n",
       "chance        1.358257\n",
       "debt          1.336228\n",
       "gains         1.295350\n",
       "rich          1.289471\n",
       "crisis        1.281440\n",
       "invest        1.280002\n",
       "bonds         1.276603\n",
       "culture       1.269180\n",
       "ore           1.238865"
      ]
     },
     "execution_count": 206,
     "metadata": {},
     "output_type": "execute_result"
    }
   ],
   "source": [
    "optimized_words_sharpe = sorted(sharpe.items(), key = lambda x: x[1], reverse = True)\n",
    "optimized_words.remove(\"BUY AND HOLD.csv\")\n",
    "sharpe_data = {'Key Word': [i[:-4] for i in optimized_words], 'Sharpe Ratio': [i[1] for i in optimized_words_sharpe]}\n",
    "training_sharpe = pd.DataFrame(sharpe_data)\n",
    "training_sharpe = training_returns.set_index('Key Word')\n",
    "training_sharpe.head(10)"
   ]
  },
  {
   "cell_type": "code",
   "execution_count": 216,
   "metadata": {},
   "outputs": [
    {
     "data": {
      "text/html": [
       "<div>\n",
       "<style scoped>\n",
       "    .dataframe tbody tr th:only-of-type {\n",
       "        vertical-align: middle;\n",
       "    }\n",
       "\n",
       "    .dataframe tbody tr th {\n",
       "        vertical-align: top;\n",
       "    }\n",
       "\n",
       "    .dataframe thead th {\n",
       "        text-align: right;\n",
       "    }\n",
       "</style>\n",
       "<table border=\"1\" class=\"dataframe\">\n",
       "  <thead>\n",
       "    <tr style=\"text-align: right;\">\n",
       "      <th></th>\n",
       "      <th>Low Value</th>\n",
       "      <th>High Value</th>\n",
       "    </tr>\n",
       "    <tr>\n",
       "      <th>Key Word</th>\n",
       "      <th></th>\n",
       "      <th></th>\n",
       "    </tr>\n",
       "  </thead>\n",
       "  <tbody>\n",
       "    <tr>\n",
       "      <th>returns</th>\n",
       "      <td>-0.022734</td>\n",
       "      <td>-0.019026</td>\n",
       "    </tr>\n",
       "    <tr>\n",
       "      <th>chance</th>\n",
       "      <td>-0.032021</td>\n",
       "      <td>-0.030074</td>\n",
       "    </tr>\n",
       "    <tr>\n",
       "      <th>debt</th>\n",
       "      <td>0.014744</td>\n",
       "      <td>0.025391</td>\n",
       "    </tr>\n",
       "    <tr>\n",
       "      <th>gains</th>\n",
       "      <td>-0.020545</td>\n",
       "      <td>0.003185</td>\n",
       "    </tr>\n",
       "    <tr>\n",
       "      <th>rich</th>\n",
       "      <td>-0.069404</td>\n",
       "      <td>-0.038873</td>\n",
       "    </tr>\n",
       "    <tr>\n",
       "      <th>crisis</th>\n",
       "      <td>-0.040839</td>\n",
       "      <td>-0.004754</td>\n",
       "    </tr>\n",
       "    <tr>\n",
       "      <th>invest</th>\n",
       "      <td>-0.060147</td>\n",
       "      <td>0.006458</td>\n",
       "    </tr>\n",
       "    <tr>\n",
       "      <th>bonds</th>\n",
       "      <td>-0.008160</td>\n",
       "      <td>0.000963</td>\n",
       "    </tr>\n",
       "    <tr>\n",
       "      <th>culture</th>\n",
       "      <td>-0.040031</td>\n",
       "      <td>-0.007301</td>\n",
       "    </tr>\n",
       "    <tr>\n",
       "      <th>ore</th>\n",
       "      <td>-0.066583</td>\n",
       "      <td>-0.058765</td>\n",
       "    </tr>\n",
       "  </tbody>\n",
       "</table>\n",
       "</div>"
      ],
      "text/plain": [
       "          Low Value  High Value\n",
       "Key Word                       \n",
       "returns   -0.022734   -0.019026\n",
       "chance    -0.032021   -0.030074\n",
       "debt       0.014744    0.025391\n",
       "gains     -0.020545    0.003185\n",
       "rich      -0.069404   -0.038873\n",
       "crisis    -0.040839   -0.004754\n",
       "invest    -0.060147    0.006458\n",
       "bonds     -0.008160    0.000963\n",
       "culture   -0.040031   -0.007301\n",
       "ore       -0.066583   -0.058765"
      ]
     },
     "execution_count": 216,
     "metadata": {},
     "output_type": "execute_result"
    }
   ],
   "source": [
    "optimized_words_parameters = {word:optimized_parameters[word] for word in optimized_words}\n",
    "parameters_data = {'Key Word': [i[:-4] for i in optimized_words_parameters.keys()], 'Low Value': [i[1][0] for i in optimized_words_parameters.items()], \n",
    "                   'High Value': [i[1][1] for i in optimized_words_parameters.items()]}\n",
    "parameters_df = pd.DataFrame(parameters_data)\n",
    "parameters_df = parameters_df.set_index('Key Word')\n",
    "parameters_df.head(10)"
   ]
  },
  {
   "cell_type": "markdown",
   "metadata": {},
   "source": [
    "# Testing"
   ]
  },
  {
   "cell_type": "code",
   "execution_count": 259,
   "metadata": {},
   "outputs": [],
   "source": [
    "# all positive words here have sharpe ratio > 1,\n",
    "\"\"\"\n",
    "testing_words = [\"invest.csv\", \"money.csv\", \"financial markets.csv\", \"bonds.csv\", \"stocks.csv\", \n",
    "        \"gains.csv\", \"derivatives.csv\", \"gold.csv\", \"dividend.csv\", \"rich.csv\",\"revenue.csv\", \n",
    "        \"returns.csv\", \"nasdaq.csv\", \"dow jones.csv\", \"profit.csv\", \"economy.csv\", \"growth.csv\",\n",
    "       \"investment.csv\", \"markets.csv\", \"banking.csv\", \"earnings.csv\", \"return.csv\", \"chance.csv\", \n",
    "        \"cash.csv\"]\n",
    "\"\"\"\n",
    "testing_words = training.keys()"
   ]
  },
  {
   "cell_type": "code",
   "execution_count": 260,
   "metadata": {},
   "outputs": [],
   "source": [
    "# slight modifications to testing dfs to let backtesting work\n",
    "for word in testing_words:\n",
    "    testing[word]['word'] = str(word)"
   ]
  },
  {
   "cell_type": "code",
   "execution_count": 261,
   "metadata": {},
   "outputs": [],
   "source": [
    "from backtesting import Strategy\n",
    "from backtesting.lib import crossover\n",
    "\n",
    "def getMovingAvg(df):\n",
    "    return pd.Series(df['change moving avg'])\n",
    "\n",
    "def getOptimizedParameters(df):\n",
    "    return optimized_parameters[df['word'][0]]\n",
    "\n",
    "class testingStrat(Strategy):\n",
    "    \n",
    "    def init(self):\n",
    "        self.change = self.I(getMovingAvg, self.data)\n",
    "        self.optimized_parameters = getOptimizedParameters(self.data) # grabs the word from the df, had to add a new column with name\n",
    "        #print(self.optimized_parameters)\n",
    "        self.low = self.optimized_parameters[0]\n",
    "        self.high = self.optimized_parameters[1]\n",
    "        \n",
    "    def next(self):\n",
    "        if self.change[-1] > self.high:\n",
    "            self.position.close()\n",
    "            #print(\"buying\")\n",
    "            self.buy()\n",
    "\n",
    "        elif self.change[-1] < self.low:\n",
    "            self.position.close()\n",
    "            #print(\"selling\")\n",
    "            self.sell()\n",
    "        else:\n",
    "            self.position.close()"
   ]
  },
  {
   "cell_type": "code",
   "execution_count": 262,
   "metadata": {},
   "outputs": [],
   "source": [
    "# testing\n",
    "testing_stats = {}\n",
    "testing_bts = {}\n",
    "for word in testing_words:\n",
    "    bt = Backtest(testing[word], testingStrat, cash=100_000_000, commission=0)\n",
    "    stats = bt.run() # we no longer optimize, but we run and grab the optimized parameters from training\n",
    "    testing_stats[word] = stats\n",
    "    testing_bts[word] = bt"
   ]
  },
  {
   "cell_type": "code",
   "execution_count": 355,
   "metadata": {},
   "outputs": [],
   "source": [
    "# unpack the various values held within the stats\n",
    "testing_returns = {}\n",
    "testing_sharpe = {}\n",
    "testing_win_rate = {}\n",
    "testing_avg_trade = {}\n",
    "\n",
    "for word in testing_words:\n",
    "    testing_returns[word] = testing_stats[word][6]\n",
    "    testing_returns[\"BUY AND HOLD.csv\"] = testing_stats[word][7]\n",
    "    testing_sharpe[word] = testing_stats[word][10]\n",
    "    testing_win_rate[word] = testing_stats[word][18]\n",
    "    testing_avg_trade[word] = testing_stats[word][21]"
   ]
  },
  {
   "cell_type": "code",
   "execution_count": 356,
   "metadata": {},
   "outputs": [],
   "source": [
    "testing_optimized_words = [i[0] for i in sorted(testing_returns.items(), key = lambda x: x[1], reverse = True)]\n",
    "testing_optimized_words_returns = sorted(testing_returns.items(), key = lambda x: x[1], reverse = True)"
   ]
  },
  {
   "cell_type": "code",
   "execution_count": 357,
   "metadata": {},
   "outputs": [
    {
     "data": {
      "text/html": [
       "<div>\n",
       "<style scoped>\n",
       "    .dataframe tbody tr th:only-of-type {\n",
       "        vertical-align: middle;\n",
       "    }\n",
       "\n",
       "    .dataframe tbody tr th {\n",
       "        vertical-align: top;\n",
       "    }\n",
       "\n",
       "    .dataframe thead th {\n",
       "        text-align: right;\n",
       "    }\n",
       "</style>\n",
       "<table border=\"1\" class=\"dataframe\">\n",
       "  <thead>\n",
       "    <tr style=\"text-align: right;\">\n",
       "      <th></th>\n",
       "      <th>Returns (%)</th>\n",
       "    </tr>\n",
       "    <tr>\n",
       "      <th>Key Word</th>\n",
       "      <th></th>\n",
       "    </tr>\n",
       "  </thead>\n",
       "  <tbody>\n",
       "    <tr>\n",
       "      <th>short selling</th>\n",
       "      <td>92.539797</td>\n",
       "    </tr>\n",
       "    <tr>\n",
       "      <th>housing</th>\n",
       "      <td>81.078148</td>\n",
       "    </tr>\n",
       "    <tr>\n",
       "      <th>world</th>\n",
       "      <td>73.300619</td>\n",
       "    </tr>\n",
       "    <tr>\n",
       "      <th>energy</th>\n",
       "      <td>61.184470</td>\n",
       "    </tr>\n",
       "    <tr>\n",
       "      <th>cash</th>\n",
       "      <td>60.348321</td>\n",
       "    </tr>\n",
       "    <tr>\n",
       "      <th>BUY AND HOLD</th>\n",
       "      <td>57.200296</td>\n",
       "    </tr>\n",
       "    <tr>\n",
       "      <th>health</th>\n",
       "      <td>54.329161</td>\n",
       "    </tr>\n",
       "    <tr>\n",
       "      <th>gold</th>\n",
       "      <td>52.601553</td>\n",
       "    </tr>\n",
       "    <tr>\n",
       "      <th>gains</th>\n",
       "      <td>52.524847</td>\n",
       "    </tr>\n",
       "    <tr>\n",
       "      <th>leverage</th>\n",
       "      <td>50.817354</td>\n",
       "    </tr>\n",
       "  </tbody>\n",
       "</table>\n",
       "</div>"
      ],
      "text/plain": [
       "               Returns (%)\n",
       "Key Word                  \n",
       "short selling    92.539797\n",
       "housing          81.078148\n",
       "world            73.300619\n",
       "energy           61.184470\n",
       "cash             60.348321\n",
       "BUY AND HOLD     57.200296\n",
       "health           54.329161\n",
       "gold             52.601553\n",
       "gains            52.524847\n",
       "leverage         50.817354"
      ]
     },
     "execution_count": 357,
     "metadata": {},
     "output_type": "execute_result"
    }
   ],
   "source": [
    "testing_optimized_words_returns\n",
    "returns_data = {'Key Word': [i[:-4] for i in testing_optimized_words], 'Returns (%)': [i[1] for i in testing_optimized_words_returns]}\n",
    "testing_returns = pd.DataFrame(returns_data)\n",
    "testing_returns = testing_returns.set_index('Key Word')\n",
    "testing_returns.head(10)"
   ]
  },
  {
   "cell_type": "code",
   "execution_count": 358,
   "metadata": {},
   "outputs": [
    {
     "data": {
      "text/html": [
       "<div>\n",
       "<style scoped>\n",
       "    .dataframe tbody tr th:only-of-type {\n",
       "        vertical-align: middle;\n",
       "    }\n",
       "\n",
       "    .dataframe tbody tr th {\n",
       "        vertical-align: top;\n",
       "    }\n",
       "\n",
       "    .dataframe thead th {\n",
       "        text-align: right;\n",
       "    }\n",
       "</style>\n",
       "<table border=\"1\" class=\"dataframe\">\n",
       "  <thead>\n",
       "    <tr style=\"text-align: right;\">\n",
       "      <th></th>\n",
       "      <th>Sharpe Ratio</th>\n",
       "    </tr>\n",
       "    <tr>\n",
       "      <th>Key Word</th>\n",
       "      <th></th>\n",
       "    </tr>\n",
       "  </thead>\n",
       "  <tbody>\n",
       "    <tr>\n",
       "      <th>world</th>\n",
       "      <td>1.347913</td>\n",
       "    </tr>\n",
       "    <tr>\n",
       "      <th>energy</th>\n",
       "      <td>1.286379</td>\n",
       "    </tr>\n",
       "    <tr>\n",
       "      <th>cash</th>\n",
       "      <td>1.271412</td>\n",
       "    </tr>\n",
       "    <tr>\n",
       "      <th>gold</th>\n",
       "      <td>1.186304</td>\n",
       "    </tr>\n",
       "    <tr>\n",
       "      <th>crash</th>\n",
       "      <td>1.180941</td>\n",
       "    </tr>\n",
       "    <tr>\n",
       "      <th>housing</th>\n",
       "      <td>1.174044</td>\n",
       "    </tr>\n",
       "    <tr>\n",
       "      <th>gains</th>\n",
       "      <td>1.172781</td>\n",
       "    </tr>\n",
       "    <tr>\n",
       "      <th>health</th>\n",
       "      <td>1.168261</td>\n",
       "    </tr>\n",
       "    <tr>\n",
       "      <th>leverage</th>\n",
       "      <td>1.160069</td>\n",
       "    </tr>\n",
       "    <tr>\n",
       "      <th>stock market</th>\n",
       "      <td>1.159741</td>\n",
       "    </tr>\n",
       "  </tbody>\n",
       "</table>\n",
       "</div>"
      ],
      "text/plain": [
       "              Sharpe Ratio\n",
       "Key Word                  \n",
       "world             1.347913\n",
       "energy            1.286379\n",
       "cash              1.271412\n",
       "gold              1.186304\n",
       "crash             1.180941\n",
       "housing           1.174044\n",
       "gains             1.172781\n",
       "health            1.168261\n",
       "leverage          1.160069\n",
       "stock market      1.159741"
      ]
     },
     "execution_count": 358,
     "metadata": {},
     "output_type": "execute_result"
    }
   ],
   "source": [
    "testing_sharpe_words = sorted(testing_sharpe.items(), key = lambda x: x[1], reverse = True)\n",
    "sharpe_data = {'Key Word': [i[0][:-4] for i in testing_sharpe_words], 'Sharpe Ratio': [i[1] for i in testing_sharpe_words]}\n",
    "testing_sharpe = pd.DataFrame(sharpe_data)\n",
    "testing_sharpe = testing_sharpe.set_index('Key Word')\n",
    "testing_sharpe.head(10)"
   ]
  },
  {
   "cell_type": "code",
   "execution_count": 359,
   "metadata": {},
   "outputs": [
    {
     "data": {
      "text/html": [
       "\n",
       "\n",
       "\n",
       "\n",
       "\n",
       "\n",
       "  <div class=\"bk-root\" id=\"6d3d552d-d517-4cf6-a5c7-918795a26b67\" data-root-id=\"6814\"></div>\n"
      ]
     },
     "metadata": {},
     "output_type": "display_data"
    },
    {
     "data": {
      "application/javascript": [
       "(function(root) {\n",
       "  function embed_document(root) {\n",
       "    \n",
       "  var docs_json = {\"bddbd5d9-29de-4e43-a2cb-f5290ff67791\":{\"roots\":{\"references\":[{\"attributes\":{\"children\":[{\"id\":\"6811\"},{\"id\":\"6813\"}],\"sizing_mode\":\"stretch_width\"},\"id\":\"6814\",\"type\":\"Row\"},{\"attributes\":{},\"id\":\"6423\",\"type\":\"DataRange1d\"},{\"attributes\":{\"fill_color\":{\"field\":\"returns_positive\",\"transform\":{\"id\":\"6416\"}},\"marker\":{\"value\":\"inverted_triangle\"},\"size\":{\"field\":\"marker_size\",\"units\":\"screen\"},\"x\":{\"field\":\"index\"},\"y\":{\"field\":\"returns_short\"}},\"id\":\"6592\",\"type\":\"Scatter\"},{\"attributes\":{\"factors\":[\"0\",\"1\"],\"palette\":[\"rgb(255, 220, 214)\",\"rgb(214, 255, 214)\"]},\"id\":\"6650\",\"type\":\"CategoricalColorMapper\"},{\"attributes\":{\"data_source\":{\"id\":\"6414\"},\"glyph\":{\"id\":\"6592\"},\"hover_glyph\":null,\"muted_glyph\":null,\"nonselection_glyph\":{\"id\":\"6593\"},\"selection_glyph\":null,\"view\":{\"id\":\"6595\"}},\"id\":\"6594\",\"type\":\"GlyphRenderer\"},{\"attributes\":{\"data_source\":{\"id\":\"6413\"},\"glyph\":{\"id\":\"6662\"},\"hover_glyph\":null,\"muted_glyph\":null,\"nonselection_glyph\":{\"id\":\"6663\"},\"selection_glyph\":null,\"view\":{\"id\":\"6665\"}},\"id\":\"6664\",\"type\":\"GlyphRenderer\"},{\"attributes\":{\"fill_alpha\":{\"value\":0.1},\"fill_color\":{\"field\":\"returns_positive\",\"transform\":{\"id\":\"6416\"}},\"line_alpha\":{\"value\":0.1},\"marker\":{\"value\":\"inverted_triangle\"},\"size\":{\"field\":\"marker_size\",\"units\":\"screen\"},\"x\":{\"field\":\"index\"},\"y\":{\"field\":\"returns_short\"}},\"id\":\"6593\",\"type\":\"Scatter\"},{\"attributes\":{},\"id\":\"6401\",\"type\":\"RedoTool\"},{\"attributes\":{\"bottom_units\":\"screen\",\"fill_alpha\":0.5,\"fill_color\":\"lightgrey\",\"left_units\":\"screen\",\"level\":\"overlay\",\"line_alpha\":1.0,\"line_color\":\"black\",\"line_dash\":[4,4],\"line_width\":2,\"right_units\":\"screen\",\"top_units\":\"screen\"},\"id\":\"6708\",\"type\":\"BoxAnnotation\"},{\"attributes\":{\"bottom\":{\"field\":\"Close\"},\"fill_alpha\":{\"value\":0.1},\"fill_color\":{\"field\":\"inc\",\"transform\":{\"id\":\"6650\"}},\"line_alpha\":{\"value\":0.1},\"line_color\":{\"value\":null},\"top\":{\"field\":\"Open\"},\"width\":{\"field\":\"_width\"},\"x\":{\"field\":\"index\"}},\"id\":\"6653\",\"type\":\"VBar\"},{\"attributes\":{\"active_drag\":{\"id\":\"6618\"},\"active_inspect\":\"auto\",\"active_multi\":null,\"active_scroll\":{\"id\":\"6619\"},\"active_tap\":\"auto\",\"tools\":[{\"id\":\"6618\"},{\"id\":\"6619\"},{\"id\":\"6620\"},{\"id\":\"6621\"},{\"id\":\"6622\"},{\"id\":\"6623\"},{\"id\":\"6624\"},{\"id\":\"6640\"},{\"id\":\"6738\"}]},\"id\":\"6626\",\"type\":\"Toolbar\"},{\"attributes\":{\"bottom\":{\"field\":\"Close\"},\"fill_alpha\":{\"value\":0.1},\"fill_color\":{\"field\":\"inc\",\"transform\":{\"id\":\"6415\"}},\"line_alpha\":{\"value\":0.1},\"top\":{\"field\":\"Open\"},\"width\":{\"value\":0.8},\"x\":{\"field\":\"index\"}},\"id\":\"6663\",\"type\":\"VBar\"},{\"attributes\":{\"fill_color\":{\"field\":\"inc\",\"transform\":{\"id\":\"6415\"}},\"line_color\":{\"field\":\"inc\",\"transform\":{\"id\":\"6415\"}},\"top\":{\"field\":\"Volume\"},\"width\":{\"value\":0.8},\"x\":{\"field\":\"index\"}},\"id\":\"6636\",\"type\":\"VBar\"},{\"attributes\":{},\"id\":\"6606\",\"type\":\"LinearScale\"},{\"attributes\":{\"line_color\":{\"field\":\"returns_positive\",\"transform\":{\"id\":\"6417\"}},\"line_dash\":[2,4],\"line_width\":{\"value\":8},\"xs\":{\"field\":\"position_lines_xs\"},\"ys\":{\"field\":\"position_lines_ys\"}},\"id\":\"6667\",\"type\":\"MultiLine\"},{\"attributes\":{\"below\":[{\"id\":\"6429\"}],\"center\":[{\"id\":\"6432\"},{\"id\":\"6436\"},{\"id\":\"6485\"}],\"left\":[{\"id\":\"6433\"}],\"min_border_bottom\":6,\"min_border_left\":0,\"min_border_right\":10,\"min_border_top\":3,\"outline_line_color\":\"#666666\",\"plot_height\":110,\"plot_width\":null,\"renderers\":[{\"id\":\"6457\"},{\"id\":\"6462\"},{\"id\":\"6471\"},{\"id\":\"6490\"},{\"id\":\"6510\"},{\"id\":\"6532\"}],\"sizing_mode\":\"stretch_width\",\"title\":{\"id\":\"6474\"},\"toolbar\":{\"id\":\"6445\"},\"toolbar_location\":null,\"x_range\":{\"id\":\"6380\"},\"x_scale\":{\"id\":\"6425\"},\"y_range\":{\"id\":\"6423\"},\"y_scale\":{\"id\":\"6427\"}},\"id\":\"6421\",\"subtype\":\"Figure\",\"type\":\"Plot\"},{\"attributes\":{\"source\":{\"id\":\"6414\"}},\"id\":\"6595\",\"type\":\"CDSView\"},{\"attributes\":{\"source\":{\"id\":\"6413\"}},\"id\":\"6665\",\"type\":\"CDSView\"},{\"attributes\":{\"callback\":null,\"formatters\":{\"@datetime\":\"datetime\"},\"point_policy\":\"follow_mouse\",\"renderers\":[{\"id\":\"6589\"}],\"tooltips\":[[\"Date\",\"@datetime{%c}\"],[\"Size\",\"@size{0,0}\"],[\"P/L\",\"@returns_long{+0.[000]%}\"]]},\"id\":\"6596\",\"type\":\"HoverTool\"},{\"attributes\":{\"below\":[{\"id\":\"6610\"}],\"center\":[{\"id\":\"6613\"},{\"id\":\"6617\"}],\"left\":[{\"id\":\"6614\"}],\"min_border_bottom\":6,\"min_border_left\":0,\"min_border_right\":10,\"min_border_top\":3,\"outline_line_color\":\"#666666\",\"plot_height\":90,\"plot_width\":null,\"renderers\":[{\"id\":\"6638\"}],\"sizing_mode\":\"stretch_width\",\"title\":{\"id\":\"6793\"},\"toolbar\":{\"id\":\"6626\"},\"toolbar_location\":null,\"x_range\":{\"id\":\"6380\"},\"x_scale\":{\"id\":\"6606\"},\"y_range\":{\"id\":\"6604\"},\"y_scale\":{\"id\":\"6608\"}},\"id\":\"6602\",\"subtype\":\"Figure\",\"type\":\"Plot\"},{\"attributes\":{\"source\":{\"id\":\"6644\"}},\"id\":\"6655\",\"type\":\"CDSView\"},{\"attributes\":{\"format\":\"0.[00]%\"},\"id\":\"6600\",\"type\":\"NumeralTickFormatter\"},{\"attributes\":{\"callback\":null,\"formatters\":{\"@datetime\":\"datetime\"},\"point_policy\":\"follow_mouse\",\"renderers\":[{\"id\":\"6594\"}],\"tooltips\":[[\"Date\",\"@datetime{%c}\"],[\"Size\",\"@size{0,0}\"],[\"P/L\",\"@returns_short{+0.[000]%}\"]]},\"id\":\"6598\",\"type\":\"HoverTool\"},{\"attributes\":{\"source\":{\"id\":\"6413\"}},\"id\":\"6660\",\"type\":\"CDSView\"},{\"attributes\":{\"text\":\"\"},\"id\":\"6672\",\"type\":\"Title\"},{\"attributes\":{\"dimensions\":\"width\"},\"id\":\"6397\",\"type\":\"PanTool\"},{\"attributes\":{\"source\":{\"id\":\"6414\"}},\"id\":\"6670\",\"type\":\"CDSView\"},{\"attributes\":{},\"id\":\"6608\",\"type\":\"LinearScale\"},{\"attributes\":{\"data_source\":{\"id\":\"6413\"},\"glyph\":{\"id\":\"6657\"},\"hover_glyph\":null,\"muted_glyph\":null,\"nonselection_glyph\":{\"id\":\"6658\"},\"selection_glyph\":null,\"view\":{\"id\":\"6660\"}},\"id\":\"6659\",\"type\":\"GlyphRenderer\"},{\"attributes\":{\"formatter\":{\"id\":\"6419\"},\"ticker\":{\"id\":\"6611\"},\"visible\":true},\"id\":\"6610\",\"type\":\"LinearAxis\"},{\"attributes\":{},\"id\":\"6604\",\"type\":\"DataRange1d\"},{\"attributes\":{\"axis\":{\"id\":\"6429\"},\"ticker\":null},\"id\":\"6432\",\"type\":\"Grid\"},{\"attributes\":{\"bottom\":{\"field\":\"Close\"},\"fill_color\":{\"field\":\"inc\",\"transform\":{\"id\":\"6415\"}},\"top\":{\"field\":\"Open\"},\"width\":{\"value\":0.8},\"x\":{\"field\":\"index\"}},\"id\":\"6662\",\"type\":\"VBar\"},{\"attributes\":{},\"id\":\"6611\",\"type\":\"BasicTicker\"},{\"attributes\":{},\"id\":\"6427\",\"type\":\"LinearScale\"},{\"attributes\":{\"axis\":{\"id\":\"6610\"},\"ticker\":null},\"id\":\"6613\",\"type\":\"Grid\"},{\"attributes\":{\"text\":\"\"},\"id\":\"6474\",\"type\":\"Title\"},{\"attributes\":{\"data_source\":{\"id\":\"6644\"},\"glyph\":{\"id\":\"6652\"},\"hover_glyph\":null,\"muted_glyph\":null,\"nonselection_glyph\":{\"id\":\"6653\"},\"selection_glyph\":null,\"view\":{\"id\":\"6655\"}},\"id\":\"6654\",\"type\":\"GlyphRenderer\"},{\"attributes\":{\"axis_label\":\"Volume\",\"formatter\":{\"id\":\"6642\"},\"minor_tick_line_color\":null,\"ticker\":{\"id\":\"6615\"}},\"id\":\"6614\",\"type\":\"LinearAxis\"},{\"attributes\":{\"border_line_color\":\"#333333\",\"click_policy\":\"hide\",\"items\":[{\"id\":\"6684\"}],\"label_text_font_size\":\"8pt\",\"location\":\"top_left\",\"margin\":0,\"padding\":5,\"spacing\":0},\"id\":\"6683\",\"type\":\"Legend\"},{\"attributes\":{},\"id\":\"6615\",\"type\":\"BasicTicker\"},{\"attributes\":{},\"id\":\"6425\",\"type\":\"LinearScale\"},{\"attributes\":{\"axis\":{\"id\":\"6614\"},\"dimension\":1,\"ticker\":null},\"id\":\"6617\",\"type\":\"Grid\"},{\"attributes\":{\"dimensions\":\"width\",\"maintain_focus\":false},\"id\":\"6619\",\"type\":\"WheelZoomTool\"},{\"attributes\":{\"line_alpha\":{\"value\":0.1},\"line_color\":{\"field\":\"returns_positive\",\"transform\":{\"id\":\"6417\"}},\"line_dash\":[2,4],\"line_width\":{\"value\":8},\"xs\":{\"field\":\"position_lines_xs\"},\"ys\":{\"field\":\"position_lines_ys\"}},\"id\":\"6668\",\"type\":\"MultiLine\"},{\"attributes\":{\"dimensions\":\"width\"},\"id\":\"6618\",\"type\":\"PanTool\"},{\"attributes\":{\"data\":{\"equity_dd\":{\"__ndarray__\":\"AAAAAAAA8D8AAAAAAADwP4OzKXE+E/A/LcDrIber8D94PmZE9WHwP2Vr4NushvA/N3U30sCS8D+YNtpZNzHxPyf6Ojgzv/A/LLCN2QKj7z+U6QJE7sHvP6cmfx8hMvA/5iJ8lz7M8D+ygTKl9IzwP+YwDMb+7/A/TlzxASrr8D94MlH3W2bxP2mNpNGNJ/E/esm9GJk08T+IrU2R6TnxPwL5K7ef+vA/NbaVBmqB8T9qGPylMfrxP0hh5sSYGfI/+nREh5F+8j+X9P8zxM7yP4Xilnj5LPM/YpQUdiN+8z8PxZGVvQjzP4OksiWYRPI/L/FPorIW8j8Y4mDIL3vyPyHX+lCIqvI/C7FdzpyL8j+c8YVSfMjyPzSqgLnQhfI/psHhA6xQ8j94yg/BcZLyP0StQJ/8z/I/Zxa6xTmG8j/d8qohQq/yP+ai79hTrPI/ZC8l7G3S8j81i+XArsfyP+v1F9+KjPM/yi4gpYYM9D+wT8ZpzQD0P3+ezJi07/M/gKuGPg728z9uopaG9Dn0P/o2syypW/Q/IzhoRrBv9D+qEI+0eE70P+a8tXLSVPQ/poCTkbbY9D/rD954CTX1PwWlqvHdpPY/ho78tdLn9T/5Eks2UhL2P+pmdy8Tc/U/MyJq3cQA9T90o5+rc/rzP31xLYP9fu4/Em2mXjAv9D+gwnT+2Rf3P6KQKkvOjPg/dwmYKvwo+j8HpLM6Z5r5P7L5VYQ+DPs/7BeqGg94+j85tuAdg2P6P7YsXz+oZPs/8RwdmepH/D+pdbDQNgD9P9kDECsjNf0/J9wr8wHU/D9+VpmxXdj8P+mIdOaIDv0/5N3sKsxM/T+Fk5c5ZVr+PzJekPAL3f8/7VMCoPkq/z++S8qJe4v/P7YvoNdsu/8/rVEPYUah/z8EyiJkY6T/P8lEY2AiZQBA/CYDlqHn/z9Y2B38VY//P/SKhpg3Xv4/zohW3+rj/T9PxVM4+m3+P+gXX1sfH/8/EciA96jD/z/JC8AZbs7+P8lEY2AiZQBAyURjYCJlAEDJRGNgImUAQMlEY2AiZQBAyURjYCJlAEDJRGNgImUAQMlEY2AiZQBAyURjYCJlAEDJRGNgImUAQDJekPAL3f8/Ml6Q8Avd/z8yXpDwC93/PzJekPAL3f8/Ml6Q8Avd/z8yXpDwC93/P4WTlzllWv4/5N3sKsxM/T/ZAxArIzX9P9kDECsjNf0/2QMQKyM1/T/ZAxArIzX9P6l1sNA2AP0/8RwdmepH/D+2LF8/qGT7P7L5VYQ+DPs/svlVhD4M+z+y+VWEPgz7P3cJmCr8KPo/dwmYKvwo+j+ikCpLzoz4P6DCdP7ZF/c/BaWq8d2k9j8Fparx3aT2PwWlqvHdpPY/BaWq8d2k9j8Fparx3aT2PwWlqvHdpPY/BaWq8d2k9j8Fparx3aT2P+sP3ngJNfU/poCTkbbY9D8jOGhGsG/0PyM4aEawb/Q/IzhoRrBv9D/6NrMsqVv0P26ilob0OfQ/yi4gpYYM9D/KLiClhgz0P8ouIKWGDPQ/yi4gpYYM9D/r9RffiozzP2KUFHYjfvM/YpQUdiN+8z9ilBR2I37zP2KUFHYjfvM/YpQUdiN+8z9ilBR2I37zP2KUFHYjfvM/YpQUdiN+8z9ilBR2I37zP2KUFHYjfvM/YpQUdiN+8z9ilBR2I37zP2KUFHYjfvM/YpQUdiN+8z9ilBR2I37zP2KUFHYjfvM/YpQUdiN+8z+F4pZ4+SzzP5f0/zPEzvI/+nREh5F+8j9IYebEmBnyP2oY/KUx+vE/NbaVBmqB8T94MlH3W2bxP3gyUfdbZvE/eDJR91tm8T94MlH3W2bxP3gyUfdbZvE/mDbaWTcx8T+YNtpZNzHxP5g22lk3MfE/mDbaWTcx8T+YNtpZNzHxP5g22lk3MfE/mDbaWTcx8T+YNtpZNzHxP5g22lk3MfE/LcDrIber8D8twOsht6vwPy3A6yG3q/A/LcDrIber8D+DsylxPhPwPwAAAAAAAPA/AAAAAAAA8D8=\",\"dtype\":\"float64\",\"order\":\"little\",\"shape\":[190]},\"index\":[0,1,2,3,4,5,6,7,8,9,10,11,12,13,14,15,16,17,18,19,20,21,22,23,24,25,26,27,28,29,30,31,32,33,34,35,36,37,38,39,40,41,42,43,44,45,46,47,48,49,50,51,52,53,54,55,56,57,58,59,60,61,62,63,64,65,66,67,68,69,70,71,72,73,74,75,76,77,78,79,80,81,82,83,84,85,86,87,88,89,90,91,92,93,94,94,93,92,91,90,89,88,87,86,85,84,83,82,81,80,79,78,77,76,75,74,73,72,71,70,69,68,67,66,65,64,63,62,61,60,59,58,57,56,55,54,53,52,51,50,49,48,47,46,45,44,43,42,41,40,39,38,37,36,35,34,33,32,31,30,29,28,27,26,25,24,23,22,21,20,19,18,17,16,15,14,13,12,11,10,9,8,7,6,5,4,3,2,1,0]},\"selected\":{\"id\":\"6479\"},\"selection_policy\":{\"id\":\"6480\"}},\"id\":\"6453\",\"type\":\"ColumnDataSource\"},{\"attributes\":{\"bottom\":{\"field\":\"Close\"},\"fill_color\":{\"field\":\"inc\",\"transform\":{\"id\":\"6650\"}},\"line_color\":{\"value\":null},\"top\":{\"field\":\"Open\"},\"width\":{\"field\":\"_width\"},\"x\":{\"field\":\"index\"}},\"id\":\"6652\",\"type\":\"VBar\"},{\"attributes\":{\"data_source\":{\"id\":\"6414\"},\"glyph\":{\"id\":\"6667\"},\"hover_glyph\":null,\"muted_glyph\":null,\"nonselection_glyph\":{\"id\":\"6668\"},\"selection_glyph\":null,\"view\":{\"id\":\"6670\"}},\"id\":\"6669\",\"type\":\"GlyphRenderer\"},{\"attributes\":{},\"id\":\"6621\",\"type\":\"UndoTool\"},{\"attributes\":{\"formatter\":{\"id\":\"6476\"},\"ticker\":{\"id\":\"6430\"},\"visible\":false},\"id\":\"6429\",\"type\":\"LinearAxis\"},{\"attributes\":{},\"id\":\"6623\",\"type\":\"ResetTool\"},{\"attributes\":{\"overlay\":{\"id\":\"6625\"}},\"id\":\"6620\",\"type\":\"BoxZoomTool\"},{\"attributes\":{\"label\":{\"value\":\"Trades (93)\"},\"renderers\":[{\"id\":\"6669\"}]},\"id\":\"6684\",\"type\":\"LegendItem\"},{\"attributes\":{},\"id\":\"6622\",\"type\":\"RedoTool\"},{\"attributes\":{\"data_source\":{\"id\":\"6413\"},\"glyph\":{\"id\":\"6718\"},\"hover_glyph\":null,\"muted_glyph\":null,\"nonselection_glyph\":{\"id\":\"6719\"},\"selection_glyph\":null,\"view\":{\"id\":\"6721\"}},\"id\":\"6720\",\"type\":\"GlyphRenderer\"},{\"attributes\":{},\"id\":\"6624\",\"type\":\"SaveTool\"},{\"attributes\":{\"line_color\":\"#1f77b4\",\"line_width\":1.3,\"x\":{\"field\":\"index\"},\"y\":{\"field\":\"getMoving\\u2026_0_1\"}},\"id\":\"6718\",\"type\":\"Line\"},{\"attributes\":{\"line_alpha\":0.1,\"line_color\":\"#1f77b4\",\"line_width\":1.3,\"x\":{\"field\":\"index\"},\"y\":{\"field\":\"getMoving\\u2026_0_1\"}},\"id\":\"6719\",\"type\":\"Line\"},{\"attributes\":{},\"id\":\"6726\",\"type\":\"BasicTickFormatter\"},{\"attributes\":{\"source\":{\"id\":\"6413\"}},\"id\":\"6721\",\"type\":\"CDSView\"},{\"attributes\":{\"callback\":null,\"formatters\":{\"@datetime\":\"datetime\"},\"mode\":\"vline\",\"point_policy\":\"follow_mouse\",\"renderers\":[{\"id\":\"6720\"}],\"tooltips\":[[\"Date\",\"@datetime{%c}\"],[\"getMoving\\u2026\",\"@{getMoving\\u2026_0_1}{0,0.0[0000]}\"]]},\"id\":\"6733\",\"type\":\"HoverTool\"},{\"attributes\":{\"border_line_color\":\"#333333\",\"click_policy\":\"hide\",\"glyph_width\":0,\"items\":[{\"id\":\"6732\"}],\"label_text_font_size\":\"8pt\",\"location\":\"top_left\",\"margin\":0,\"padding\":5,\"spacing\":0},\"id\":\"6731\",\"type\":\"Legend\"},{\"attributes\":{},\"id\":\"6430\",\"type\":\"BasicTicker\"},{\"attributes\":{\"text\":\"\"},\"id\":\"6723\",\"type\":\"Title\"},{\"attributes\":{},\"id\":\"6402\",\"type\":\"ResetTool\"},{\"attributes\":{\"axis\":{\"id\":\"6393\"},\"dimension\":1,\"ticker\":null},\"id\":\"6396\",\"type\":\"Grid\"},{\"attributes\":{\"bounds\":[-4.7,98.7],\"end\":94,\"js_property_callbacks\":{\"change:end\":[{\"id\":\"6737\"}]},\"min_interval\":10},\"id\":\"6380\",\"type\":\"Range1d\"},{\"attributes\":{\"overlay\":{\"id\":\"6404\"}},\"id\":\"6399\",\"type\":\"BoxZoomTool\"},{\"attributes\":{\"fill_alpha\":{\"value\":0.1},\"fill_color\":{\"field\":\"returns_positive\",\"transform\":{\"id\":\"6416\"}},\"line_alpha\":{\"value\":0.1},\"marker\":{\"value\":\"triangle\"},\"size\":{\"field\":\"marker_size\",\"units\":\"screen\"},\"x\":{\"field\":\"index\"},\"y\":{\"field\":\"returns_long\"}},\"id\":\"6588\",\"type\":\"Scatter\"},{\"attributes\":{\"bottom_units\":\"screen\",\"fill_alpha\":0.5,\"fill_color\":\"lightgrey\",\"left_units\":\"screen\",\"level\":\"overlay\",\"line_alpha\":1.0,\"line_color\":\"black\",\"line_dash\":[4,4],\"line_width\":2,\"right_units\":\"screen\",\"top_units\":\"screen\"},\"id\":\"6625\",\"type\":\"BoxAnnotation\"},{\"attributes\":{},\"id\":\"6673\",\"type\":\"BasicTickFormatter\"},{\"attributes\":{\"format\":\"0 a\"},\"id\":\"6642\",\"type\":\"NumeralTickFormatter\"},{\"attributes\":{},\"id\":\"6400\",\"type\":\"UndoTool\"},{\"attributes\":{\"fill_alpha\":{\"value\":0.1},\"fill_color\":{\"field\":\"inc\",\"transform\":{\"id\":\"6415\"}},\"line_alpha\":{\"value\":0.1},\"line_color\":{\"field\":\"inc\",\"transform\":{\"id\":\"6415\"}},\"top\":{\"field\":\"Volume\"},\"width\":{\"value\":0.8},\"x\":{\"field\":\"index\"}},\"id\":\"6637\",\"type\":\"VBar\"},{\"attributes\":{\"line_alpha\":{\"value\":0.1},\"line_color\":{\"value\":\"#bbbbbb\"},\"x0\":{\"field\":\"index\"},\"x1\":{\"field\":\"index\"},\"y0\":{\"field\":\"High\"},\"y1\":{\"field\":\"Low\"}},\"id\":\"6647\",\"type\":\"Segment\"},{\"attributes\":{\"callback\":null,\"formatters\":{\"@datetime\":\"datetime\"},\"mode\":\"vline\",\"point_policy\":\"follow_mouse\",\"renderers\":[{\"id\":\"6638\"}],\"tooltips\":[[\"Date\",\"@datetime{%c}\"],[\"Volume\",\"@Volume{0.00 a}\"]]},\"id\":\"6640\",\"type\":\"HoverTool\"},{\"attributes\":{\"data_source\":{\"id\":\"6413\"},\"glyph\":{\"id\":\"6636\"},\"hover_glyph\":null,\"muted_glyph\":null,\"nonselection_glyph\":{\"id\":\"6637\"},\"selection_glyph\":null,\"view\":{\"id\":\"6639\"}},\"id\":\"6638\",\"type\":\"GlyphRenderer\"},{\"attributes\":{\"active_drag\":{\"id\":\"6397\"},\"active_inspect\":\"auto\",\"active_multi\":null,\"active_scroll\":{\"id\":\"6398\"},\"active_tap\":\"auto\",\"tools\":[{\"id\":\"6397\"},{\"id\":\"6398\"},{\"id\":\"6399\"},{\"id\":\"6400\"},{\"id\":\"6401\"},{\"id\":\"6402\"},{\"id\":\"6403\"},{\"id\":\"6735\"},{\"id\":\"6738\"}]},\"id\":\"6405\",\"type\":\"Toolbar\"},{\"attributes\":{\"source\":{\"id\":\"6413\"}},\"id\":\"6639\",\"type\":\"CDSView\"},{\"attributes\":{\"data_source\":{\"id\":\"6644\"},\"glyph\":{\"id\":\"6646\"},\"hover_glyph\":null,\"muted_glyph\":null,\"nonselection_glyph\":{\"id\":\"6647\"},\"selection_glyph\":null,\"view\":{\"id\":\"6649\"}},\"id\":\"6648\",\"type\":\"GlyphRenderer\"},{\"attributes\":{\"label\":{\"value\":\"getMoving\\u2026\"},\"renderers\":[{\"id\":\"6720\"}]},\"id\":\"6732\",\"type\":\"LegendItem\"},{\"attributes\":{},\"id\":\"6677\",\"type\":\"Selection\"},{\"attributes\":{\"children\":[[{\"id\":\"6421\"},0,0],[{\"id\":\"6553\"},1,0],[{\"id\":\"6381\"},2,0],[{\"id\":\"6602\"},3,0],[{\"id\":\"6685\"},4,0]]},\"id\":\"6811\",\"type\":\"GridBox\"},{\"attributes\":{\"x0\":{\"field\":\"index\"},\"x1\":{\"field\":\"index\"},\"y0\":{\"field\":\"High\"},\"y1\":{\"field\":\"Low\"}},\"id\":\"6657\",\"type\":\"Segment\"},{\"attributes\":{},\"id\":\"6678\",\"type\":\"UnionRenderers\"},{\"attributes\":{\"logo\":null,\"toolbars\":[{\"id\":\"6445\"},{\"id\":\"6577\"},{\"id\":\"6405\"},{\"id\":\"6626\"},{\"id\":\"6709\"}],\"tools\":[{\"id\":\"6437\"},{\"id\":\"6438\"},{\"id\":\"6439\"},{\"id\":\"6440\"},{\"id\":\"6441\"},{\"id\":\"6442\"},{\"id\":\"6443\"},{\"id\":\"6464\"},{\"id\":\"6738\"},{\"id\":\"6569\"},{\"id\":\"6570\"},{\"id\":\"6571\"},{\"id\":\"6572\"},{\"id\":\"6573\"},{\"id\":\"6574\"},{\"id\":\"6575\"},{\"id\":\"6596\"},{\"id\":\"6598\"},{\"id\":\"6738\"},{\"id\":\"6397\"},{\"id\":\"6398\"},{\"id\":\"6399\"},{\"id\":\"6400\"},{\"id\":\"6401\"},{\"id\":\"6402\"},{\"id\":\"6403\"},{\"id\":\"6735\"},{\"id\":\"6738\"},{\"id\":\"6618\"},{\"id\":\"6619\"},{\"id\":\"6620\"},{\"id\":\"6621\"},{\"id\":\"6622\"},{\"id\":\"6623\"},{\"id\":\"6624\"},{\"id\":\"6640\"},{\"id\":\"6738\"},{\"id\":\"6701\"},{\"id\":\"6702\"},{\"id\":\"6703\"},{\"id\":\"6704\"},{\"id\":\"6705\"},{\"id\":\"6706\"},{\"id\":\"6707\"},{\"id\":\"6733\"},{\"id\":\"6738\"}]},\"id\":\"6812\",\"type\":\"ProxyToolbar\"},{\"attributes\":{\"data\":{\"Close\":{\"__ndarray__\":\"AAAAANdzVUAAAABgZsZWQAAAAOB6dFVAAAAAwMwMV0AAAACAFH5WQAAAAAAAgFhAAAAAQDMzWEAAAACgR5FYQAAAACCuV1lAAAAAwPWoWEAAAADAHjVaQAAAAGBmxlpAAAAAwPXIW0AAAACAPRpcQAAAAMDMvFdAAAAAoHDNW0AAAACA6xFdQAAAAIAU3l1AAAAAwMwEYEAAAABAM0NgQAAAAOBRWF5AAAAAYGZGX0A=\",\"dtype\":\"float64\",\"order\":\"little\",\"shape\":[22]},\"High\":{\"__ndarray__\":\"AAAAIK6XVUAAAAAgXM9WQAAAAEAzk1ZAAAAA4HoUV0AAAAAgXB9XQAAAAIA9ilhAAAAAACksWkAAAAAAKexYQAAAAKBHwVlAAAAAACkMWUAAAAAgXE9aQAAAAADX41pAAAAAgMLlW0AAAABguA5eQAAAAOB6hFxAAAAAQOGaXEAAAACgR9FdQAAAAIA9Sl5AAAAAQDN7YEAAAACgR4lgQAAAAEDh2mBAAAAAYI9iYEA=\",\"dtype\":\"float64\",\"order\":\"little\",\"shape\":[22]},\"Low\":{\"__ndarray__\":\"AAAAoJm5U0AAAABACodVQAAAAIDr8VRAAAAAwMzcVUAAAACgcH1WQAAAAKBHwVZAAAAAoHD9V0AAAACgcI1XQAAAAADXY1hAAAAAIK4nWEAAAACgmXlYQAAAAKBw/VlAAAAAwB6VWkAAAABgZvZbQAAAAMD1GFNAAAAAgBQOWUAAAAAAKXxaQAAAAIDCBV1AAAAA4KPwXUAAAACgRxlgQAAAAOCjgF1AAAAAgMLFXkA=\",\"dtype\":\"float64\",\"order\":\"little\",\"shape\":[22]},\"Open\":{\"__ndarray__\":\"AAAAIK4XVEAAAAAA18NVQAAAAKCZiVZAAAAAQDMTVkAAAACAwgVXQAAAAAAA4FZAAAAAIIVbWEAAAADgo8BXQAAAAIDC9VhAAAAAANfTWEAAAABA4bpYQAAAAKBw/VlAAAAAAAAAW0AAAAAAKbxdQAAAACBcr1tAAAAAgBQuWkAAAABgj+JaQAAAAAAA0F1AAAAA4KMQXkAAAADA9VBgQAAAAOB61GBAAAAAIFw/X0A=\",\"dtype\":\"float64\",\"order\":\"little\",\"shape\":[22]},\"Volume\":[3865200,3131000,2756800,3570200,2270700,2384200,4285000,2389800,3298000,3312800,2750900,2596200,3055300,3378400,9022700,4484500,3290100,3436300,2535300,2130300,5345000,2810300],\"_width\":{\"__ndarray__\":\"MzMzMzMzD0AzMzMzMzMPQDMzMzMzMw9AmpmZmZmZE0AzMzMzMzMPQDMzMzMzMw9AmpmZmZmZE0AzMzMzMzMPQDMzMzMzMw9AmpmZmZmZE0AzMzMzMzMPQJqZmZmZmRNAMzMzMzMzD0AzMzMzMzMPQJqZmZmZmRNAMzMzMzMzD0AzMzMzMzMPQJqZmZmZmRNAMzMzMzMzD0AzMzMzMzMPQJqZmZmZmRNAMzMzMzMzD0A=\",\"dtype\":\"float64\",\"order\":\"little\",\"shape\":[22]},\"inc\":[\"1\",\"1\",\"0\",\"1\",\"0\",\"1\",\"0\",\"1\",\"1\",\"0\",\"1\",\"1\",\"1\",\"0\",\"0\",\"1\",\"1\",\"1\",\"1\",\"0\",\"0\",\"1\"],\"index\":{\"__ndarray__\":\"AAAAAAAA+D8AAAAAAAAWQAAAAAAAACNAAAAAAAAALEAAAAAAAIAyQAAAAAAAgDZAAAAAAAAAO0AAAAAAAIA/QAAAAAAAwEFAAAAAAAAAREAAAAAAAEBGQAAAAAAAgEhAAAAAAADASkAAAAAAAMBMQAAAAAAAAE9AAAAAAACgUEAAAAAAAKBRQAAAAAAAwFJAAAAAAADgU0AAAAAAAOBUQAAAAAAAAFZAAAAAAAAgV0A=\",\"dtype\":\"float64\",\"order\":\"little\",\"shape\":[22]}},\"selected\":{\"id\":\"6677\"},\"selection_policy\":{\"id\":\"6678\"}},\"id\":\"6644\",\"type\":\"ColumnDataSource\"},{\"attributes\":{},\"id\":\"6738\",\"type\":\"CrosshairTool\"},{\"attributes\":{\"dimensions\":\"width\",\"maintain_focus\":false},\"id\":\"6398\",\"type\":\"WheelZoomTool\"},{\"attributes\":{\"source\":{\"id\":\"6644\"}},\"id\":\"6649\",\"type\":\"CDSView\"},{\"attributes\":{\"line_color\":{\"value\":\"#bbbbbb\"},\"x0\":{\"field\":\"index\"},\"x1\":{\"field\":\"index\"},\"y0\":{\"field\":\"High\"},\"y1\":{\"field\":\"Low\"}},\"id\":\"6646\",\"type\":\"Segment\"},{\"attributes\":{},\"id\":\"6403\",\"type\":\"SaveTool\"},{\"attributes\":{\"line_alpha\":{\"value\":0.1},\"x0\":{\"field\":\"index\"},\"x1\":{\"field\":\"index\"},\"y0\":{\"field\":\"High\"},\"y1\":{\"field\":\"Low\"}},\"id\":\"6658\",\"type\":\"Segment\"},{\"attributes\":{\"text\":\"\"},\"id\":\"6793\",\"type\":\"Title\"},{\"attributes\":{\"fill_color\":{\"value\":\"cyan\"},\"line_color\":{\"value\":\"cyan\"},\"size\":{\"units\":\"screen\",\"value\":8},\"x\":{\"value\":86},\"y\":{\"value\":2.049381974248352}},\"id\":\"6469\",\"type\":\"Scatter\"},{\"attributes\":{\"fill_color\":\"#ffffea\",\"line_color\":\"#ffcb66\",\"x\":{\"field\":\"index\"},\"y\":{\"field\":\"equity_dd\"}},\"id\":\"6455\",\"type\":\"Patch\"},{\"attributes\":{\"data_source\":{\"id\":\"6413\"},\"glyph\":{\"id\":\"6460\"},\"hover_glyph\":null,\"muted_glyph\":null,\"nonselection_glyph\":{\"id\":\"6461\"},\"selection_glyph\":null,\"view\":{\"id\":\"6463\"}},\"id\":\"6462\",\"type\":\"GlyphRenderer\"},{\"attributes\":{},\"id\":\"6550\",\"type\":\"Selection\"},{\"attributes\":{},\"id\":\"6551\",\"type\":\"UnionRenderers\"},{\"attributes\":{\"fill_color\":{\"value\":\"blue\"},\"line_color\":{\"value\":\"blue\"},\"size\":{\"units\":\"screen\",\"value\":8},\"x\":{\"value\":94},\"y\":{\"value\":1.9253979688516998}},\"id\":\"6488\",\"type\":\"Scatter\"},{\"attributes\":{\"data_source\":{\"id\":\"6453\"},\"glyph\":{\"id\":\"6455\"},\"hover_glyph\":null,\"muted_glyph\":null,\"nonselection_glyph\":{\"id\":\"6456\"},\"selection_glyph\":null,\"view\":{\"id\":\"6458\"}},\"id\":\"6457\",\"type\":\"GlyphRenderer\"},{\"attributes\":{\"factors\":[\"0\",\"1\"],\"palette\":[\"tomato\",\"lime\"]},\"id\":\"6415\",\"type\":\"CategoricalColorMapper\"},{\"attributes\":{\"fill_alpha\":0.1,\"fill_color\":\"#ffffea\",\"line_alpha\":0.1,\"line_color\":\"#ffcb66\",\"x\":{\"field\":\"index\"},\"y\":{\"field\":\"equity_dd\"}},\"id\":\"6456\",\"type\":\"Patch\"},{\"attributes\":{\"days\":[\"%d %b\",\"%a %d\"],\"months\":[\"%m/%Y\",\"%b'%y\"]},\"id\":\"6418\",\"type\":\"DatetimeTickFormatter\"},{\"attributes\":{\"fill_alpha\":{\"value\":0.1},\"fill_color\":{\"value\":\"blue\"},\"line_alpha\":{\"value\":0.1},\"line_color\":{\"value\":\"blue\"},\"size\":{\"units\":\"screen\",\"value\":8},\"x\":{\"value\":94},\"y\":{\"value\":1.9253979688516998}},\"id\":\"6489\",\"type\":\"Scatter\"},{\"attributes\":{},\"id\":\"6557\",\"type\":\"LinearScale\"},{\"attributes\":{\"source\":{\"id\":\"6453\"}},\"id\":\"6458\",\"type\":\"CDSView\"},{\"attributes\":{\"source\":{\"id\":\"6487\"}},\"id\":\"6491\",\"type\":\"CDSView\"},{\"attributes\":{\"formatter\":{\"id\":\"6771\"},\"ticker\":{\"id\":\"6562\"},\"visible\":false},\"id\":\"6561\",\"type\":\"LinearAxis\"},{\"attributes\":{},\"id\":\"6390\",\"type\":\"BasicTicker\"},{\"attributes\":{},\"id\":\"6559\",\"type\":\"LinearScale\"},{\"attributes\":{\"line_alpha\":0.1,\"line_color\":\"#1f77b4\",\"line_width\":1.5,\"x\":{\"field\":\"index\"},\"y\":{\"field\":\"equity\"}},\"id\":\"6461\",\"type\":\"Line\"},{\"attributes\":{\"data\":{},\"selected\":{\"id\":\"6504\"},\"selection_policy\":{\"id\":\"6505\"}},\"id\":\"6487\",\"type\":\"ColumnDataSource\"},{\"attributes\":{\"below\":[{\"id\":\"6389\"}],\"center\":[{\"id\":\"6392\"},{\"id\":\"6396\"},{\"id\":\"6683\"}],\"left\":[{\"id\":\"6393\"}],\"min_border_bottom\":6,\"min_border_left\":0,\"min_border_right\":10,\"min_border_top\":3,\"outline_line_color\":\"#666666\",\"plot_height\":400,\"plot_width\":null,\"renderers\":[{\"id\":\"6648\"},{\"id\":\"6654\"},{\"id\":\"6659\"},{\"id\":\"6664\"},{\"id\":\"6669\"}],\"sizing_mode\":\"stretch_width\",\"title\":{\"id\":\"6672\"},\"toolbar\":{\"id\":\"6405\"},\"toolbar_location\":null,\"x_range\":{\"id\":\"6380\"},\"x_scale\":{\"id\":\"6385\"},\"y_range\":{\"id\":\"6383\"},\"y_scale\":{\"id\":\"6387\"}},\"id\":\"6381\",\"subtype\":\"Figure\",\"type\":\"Plot\"},{\"attributes\":{\"line_color\":\"#1f77b4\",\"line_width\":1.5,\"x\":{\"field\":\"index\"},\"y\":{\"field\":\"equity\"}},\"id\":\"6460\",\"type\":\"Line\"},{\"attributes\":{},\"id\":\"6434\",\"type\":\"BasicTicker\"},{\"attributes\":{},\"id\":\"6555\",\"type\":\"DataRange1d\"},{\"attributes\":{\"data\":{},\"selected\":{\"id\":\"6526\"},\"selection_policy\":{\"id\":\"6527\"}},\"id\":\"6507\",\"type\":\"ColumnDataSource\"},{\"attributes\":{\"data_source\":{\"id\":\"6487\"},\"glyph\":{\"id\":\"6488\"},\"hover_glyph\":null,\"muted_glyph\":null,\"nonselection_glyph\":{\"id\":\"6489\"},\"selection_glyph\":null,\"view\":{\"id\":\"6491\"}},\"id\":\"6490\",\"type\":\"GlyphRenderer\"},{\"attributes\":{\"text\":\"\"},\"id\":\"6769\",\"type\":\"Title\"},{\"attributes\":{},\"id\":\"6681\",\"type\":\"Selection\"},{\"attributes\":{\"label\":{\"value\":\"Final (193%)\"},\"renderers\":[{\"id\":\"6490\"}]},\"id\":\"6506\",\"type\":\"LegendItem\"},{\"attributes\":{},\"id\":\"6682\",\"type\":\"UnionRenderers\"},{\"attributes\":{},\"id\":\"6562\",\"type\":\"BasicTicker\"},{\"attributes\":{\"axis\":{\"id\":\"6561\"},\"ticker\":null},\"id\":\"6564\",\"type\":\"Grid\"},{\"attributes\":{\"axis_label\":\"Profit / Loss\",\"formatter\":{\"id\":\"6600\"},\"minor_tick_line_color\":null,\"ticker\":{\"id\":\"6566\"}},\"id\":\"6565\",\"type\":\"LinearAxis\"},{\"attributes\":{\"overlay\":{\"id\":\"6444\"}},\"id\":\"6439\",\"type\":\"BoxZoomTool\"},{\"attributes\":{},\"id\":\"6566\",\"type\":\"BasicTicker\"},{\"attributes\":{\"axis\":{\"id\":\"6565\"},\"dimension\":1,\"ticker\":null},\"id\":\"6568\",\"type\":\"Grid\"},{\"attributes\":{},\"id\":\"6441\",\"type\":\"RedoTool\"},{\"attributes\":{\"factors\":[\"0\",\"1\"],\"palette\":[\"tomato\",\"lime\"]},\"id\":\"6416\",\"type\":\"CategoricalColorMapper\"},{\"attributes\":{\"dimensions\":\"width\",\"maintain_focus\":false},\"id\":\"6570\",\"type\":\"WheelZoomTool\"},{\"attributes\":{\"axis\":{\"id\":\"6433\"},\"dimension\":1,\"ticker\":null},\"id\":\"6436\",\"type\":\"Grid\"},{\"attributes\":{},\"id\":\"6387\",\"type\":\"LinearScale\"},{\"attributes\":{\"dimensions\":\"width\"},\"id\":\"6569\",\"type\":\"PanTool\"},{\"attributes\":{\"data\":{\"Close\":{\"__ndarray__\":\"AAAAwB7lU0AAAABgj0JUQAAAAKCZ2VRAAAAAANdzVUAAAAAA17NVQAAAAOB65FVAAAAA4Hr0VUAAAABgZsZWQAAAACBcL1ZAAAAA4Hr0VEAAAADA9QhVQAAAAOB6dFVAAAAA4KNAVkAAAADAzOxVQAAAAAAAcFZAAAAAoJlpVkAAAADAzAxXQAAAAKCZuVZAAAAAQOHKVkAAAACA69FWQAAAAIAUflZAAAAA4KMwV0AAAADgo9BXQAAAAIA9+ldAAAAAAACAWEAAAACAPepYQAAAAEAKZ1lAAAAAYI/SWUAAAABACjdZQAAAAEAzM1hAAAAAYGb2V0AAAAAghXtYQAAAAIA9ulhAAAAAoEeRWEAAAACA6+FYQAAAAKCZiVhAAAAAYLiuWUAAAAAgrldZQAAAAIDCpVhAAAAAwB5FWEAAAABA4XpYQAAAAEAKd1hAAAAAwPWoWEAAAABA4ZpYQAAAAMDMnFlAAAAA4HpEWkAAAADAHjVaQAAAAGC4HlpAAAAAQAonWkAAAAAAAIBaQAAAAAAprFpAAAAAYGbGWkAAAABA4ZpaQAAAAEAzo1pAAAAAAABQW0AAAADA9chbQAAAAEDhql1AAAAAQDOzXEAAAABA4epcQAAAAIA9GlxAAAAA4HqEW0AAAADAzCxaQAAAAIDrwVdAAAAAIFy/VEAAAADAzLxXQAAAAAApPFlAAAAAANfjWkAAAACgR1FaQAAAAKBwzVtAAAAAwB41W0AAAAAAACBbQAAAAOBRKFxAAAAAgOsRXUAAAAAgXM9dQAAAAIDCBV5AAAAAgOuhXUAAAABgZqZdQAAAAIAU3l1AAAAAgBQeXkAAAABAMzNfQAAAAOBRYGBAAAAAwMwEYEAAAABgZjZgQAAAAEAKT2BAAAAAoJlBYEAAAABAM0NgQAAAAIA92mBAAAAAACmcX0AAAADAHgVgQAAAAOB61F5AAAAA4FFYXkAAAADgeuReQAAAAOBRmF9AAAAAIK4fYEAAAABgZkZfQA==\",\"dtype\":\"float64\",\"order\":\"little\",\"shape\":[95]},\"High\":{\"__ndarray__\":\"AAAAYLg+VEAAAACgR1FUQAAAAIDC9VRAAAAAIK6XVUAAAAAA18NVQAAAAADX81VAAAAAACkMVkAAAAAgXM9WQAAAAEAzk1ZAAAAAwMwcVUAAAABAM1NVQAAAACCFe1VAAAAAgMJFVkAAAAAgrjdWQAAAAGBmdlZAAAAAACmMVkAAAADgehRXQAAAACBcH1dAAAAAACkMV0AAAADgo+BWQAAAAAAA0FZAAAAAACk8V0AAAACAFF5YQAAAAMAeFVhAAAAAgD2KWEAAAADA9fhYQAAAAEDhallAAAAAACksWkAAAAAA16NZQAAAAMAeRVhAAAAAwPUIWEAAAABguJ5YQAAAAAAp7FhAAAAAwPXYWEAAAABgZgZZQAAAAMD1uFlAAAAAoEfBWUAAAACgR6FZQAAAAMAe1VhAAAAAwPWoWEAAAACgR8FYQAAAAGCPslhAAAAAACkMWUAAAAAA18NYQAAAAOBRqFlAAAAAIFxPWkAAAAAAKUxaQAAAACBcP1pAAAAA4KMwWkAAAABgj5JaQAAAAEDh2lpAAAAAANfjWkAAAADgoxBbQAAAAOCj0FpAAAAAoJmJW0AAAACAwuVbQAAAAGC4Dl5AAAAAIIUrXUAAAACAPQpdQAAAAOB61FxAAAAA4HqEXEAAAABgjzJbQAAAAOBR+FdAAAAAACnMVEAAAACgmRlZQAAAAEAKx1pAAAAA4FH4WkAAAABACjdbQAAAAEDhmlxAAAAAYLheW0AAAAAgXJ9bQAAAACBc/1xAAAAAoEfRXUAAAABAM/NdQAAAAIA9Sl5AAAAAAAAAXkAAAADgUTheQAAAAGC4/l1AAAAAYI9yXkAAAABAMzNfQAAAAEAze2BAAAAAYLg+YEAAAADgo1hgQAAAAKBHiWBAAAAAgOtZYEAAAACgR4FgQAAAAEDh2mBAAAAAIFwvYEAAAADgehxgQAAAAGBm1l5AAAAAQAqXX0AAAABgj3JfQAAAAAApvF9AAAAAYI9iYEAAAACgmQlgQA==\",\"dtype\":\"float64\",\"order\":\"little\",\"shape\":[95]},\"Low\":{\"__ndarray__\":\"AAAAoJm5U0AAAABAChdUQAAAAOBRmFRAAAAAQOFaVUAAAABACodVQAAAAEDhulVAAAAAIIXbVUAAAAAAAIBWQAAAAKCZGVZAAAAAgOvxVEAAAADgevRUQAAAAAApPFVAAAAAYGYGVkAAAADAzNxVQAAAAKBwHVZAAAAAYGZWVkAAAACAwtVWQAAAAMDMnFZAAAAAwB7FVkAAAABACrdWQAAAAKBwfVZAAAAAoEfBVkAAAADgUchXQAAAAOCj0FdAAAAAIK4nWEAAAADgo0BYQAAAACCuF1lAAAAAgOvRWUAAAAAAKRxZQAAAAKBw/VdAAAAAoHCNV0AAAABgZgZYQAAAAMDMnFhAAAAAgMJ1WEAAAACgR8FYQAAAAADXY1hAAAAAoEfRWEAAAABACidZQAAAAIDrgVhAAAAA4FE4WEAAAACA63FYQAAAACCuJ1hAAAAAIK6HWEAAAACgmXlYQAAAAEAzU1lAAAAAgOvxWUAAAADgURhaQAAAAKBw/VlAAAAAYI8SWkAAAADgUThaQAAAAEDhmlpAAAAAgD2qWkAAAADA9ZhaQAAAAMAelVpAAAAAgBQ+W0AAAABAM3NbQAAAAKBwnV1AAAAAIIWrXEAAAADgUUhcQAAAAGBm9ltAAAAA4FFIW0AAAADAzIxZQAAAAAAAwFVAAAAAwPUYU0AAAADAHqVXQAAAAIAUDllAAAAAoEcRWkAAAADgozBaQAAAAKCZqVtAAAAAACl8WkAAAADAzAxbQAAAAEDhGlxAAAAAgOsBXUAAAACA65FdQAAAAKCZyV1AAAAAgMIFXUAAAABgj5JdQAAAAMDMHF1AAAAA4KPwXUAAAACgcL1eQAAAACCuL2BAAAAAoJnZX0AAAACgRxlgQAAAAADXQ2BAAAAAYI8qYEAAAAAAADhgQAAAAKBHqWBAAAAAIIWLX0AAAABgj9JfQAAAAOCjEF5AAAAA4KOAXUAAAACAwsVeQAAAAIDCVV9AAAAA4KPgX0AAAADgekRfQA==\",\"dtype\":\"float64\",\"order\":\"little\",\"shape\":[95]},\"Open\":{\"__ndarray__\":\"AAAAIK4XVEAAAABAChdUQAAAAOCjwFRAAAAAoJmJVUAAAAAA18NVQAAAACBcv1VAAAAAgBTeVUAAAACgmYlWQAAAAKCZiVZAAAAAYGYWVUAAAADgeiRVQAAAAEAKV1VAAAAAQDMTVkAAAACAwhVWQAAAAIDCNVZAAAAA4KNwVkAAAAAAKdxWQAAAAIDCBVdAAAAAoJnJVkAAAADgUbhWQAAAAEAKh1ZAAAAAAADgVkAAAAAAAFBYQAAAACCF21dAAAAAwB5FWEAAAAAghVtYQAAAAEAzI1lAAAAAwMwcWkAAAAAA13NZQAAAAIDCFVhAAAAA4KPAV0AAAACgRxFYQAAAAOCjwFhAAAAAwPXYWEAAAACAwvVYQAAAAMD1uFlAAAAAwPX4WEAAAADgelRZQAAAAADX01hAAAAAwPWoWEAAAADAHqVYQAAAAADXg1hAAAAAgD2aWEAAAABA4bpYQAAAAOBRqFlAAAAAQDMzWkAAAAAA1zNaQAAAAKBw/VlAAAAAYI8iWkAAAAAA12NaQAAAAMAexVpAAAAAYI/CWkAAAAAAAABbQAAAAOCj0FpAAAAAIK5HW0AAAADAHnVbQAAAAAApvF1AAAAAgBTuXEAAAAAAAGBcQAAAAIA9ulxAAAAAIFyvW0AAAADgehRbQAAAAIAU3lVAAAAAgD06U0AAAACgR+FYQAAAAIAULlpAAAAAoJlpWkAAAACAFO5aQAAAAIDrYVxAAAAAYI/iWkAAAAAAAIBbQAAAAMDMjFxAAAAAQOGaXUAAAAAAANBdQAAAAEAKF15AAAAAACmsXUAAAACAFA5eQAAAAMAeNV1AAAAA4KMQXkAAAAAgXL9eQAAAAIAUVmBAAAAAgOsxYEAAAADA9VBgQAAAAAAAgGBAAAAAoEdJYEAAAADAzHRgQAAAAOB61GBAAAAAgOsZYEAAAADgUQBgQAAAAEAKh15AAAAA4HpUX0AAAAAgXD9fQAAAACCut19AAAAA4KPgX0AAAAAgXO9fQA==\",\"dtype\":\"float64\",\"order\":\"little\",\"shape\":[95]},\"Volume\":[1105400,477600,987400,1294800,684700,498900,702400,1245000,841400,849900,524500,541000,677800,396800,536800,1251600,707200,455400,590700,553100,671500,650100,439600,517200,777300,1400100,458600,664400,1174600,587300,765900,573200,556600,494100,363900,780700,1103200,1050200,567100,730100,507700,1061700,446200,518300,809400,888200,535000,554200,727000,700500,305700,308800,557700,705200,733800,1058600,866700,463000,1085100,963600,1317200,1989000,2225400,1975400,1515700,1125500,1384400,968400,1006200,966500,1070400,641300,611900,519200,825900,755900,706000,629300,463800,433600,933300,704600,467700,587700,578100,496800,508700,980700,374100,822100,2659400,766200,626800,884400,532900],\"datetime\":{\"__ndarray__\":\"AAAAJKyCdkIAAEDs7IR2QgAAgLQth3ZCAADAfG6JdkIAAABFr4t2QgAAQA3wjXZCAACA1TCQdkIAAMCdcZJ2QgAAAGaylHZCAABALvOWdkIAAID2M5l2QgAAwL50m3ZCAAAAh7WddkIAAEBP9p92QgAAgBc3onZCAADA33ekdkIAAACouKZ2QgAAQHD5qHZCAACAODqrdkIAAMAAe612QgAAAMm7r3ZCAABAkfyxdkIAAIBZPbR2QgAAwCF+tnZCAAAA6r64dkIAAECy/7p2QgAAgHpAvXZCAADAQoG/dkIAAAALwsF2QgAAQNMCxHZCAACAm0PGdkIAAMBjhMh2QgAAACzFynZCAABA9AXNdkIAAIC8Rs92QgAAwISH0XZCAAAATcjTdkIAAEAVCdZ2QgAAgN1J2HZCAADApYradkIAAABuy9x2QgAAQDYM33ZCAACA/kzhdkIAAMDGjeN2QgAAAI/O5XZCAABAVw/odkIAAIAfUOp2QgAAwOeQ7HZCAAAAsNHudkIAAEB4EvF2QgAAgEBT83ZCAADACJT1dkIAAADR1Pd2QgAAQJkV+nZCAACAYVb8dkIAAMApl/52QgAAAPLXAHdCAABAuhgDd0IAAICCWQV3QgAAwEqaB3dCAAAAE9sJd0IAAEDbGwx3QgAAgKNcDndCAADAa50Qd0IAAAA03hJ3QgAAQPweFXdCAACAxF8Xd0IAAMCMoBl3QgAAAFXhG3dCAABAHSIed0IAAIDlYiB3QgAAwK2jIndCAAAAduQkd0IAAEA+JSd3QgAAgAZmKXdCAADAzqYrd0IAAACX5y13QgAAQF8oMHdCAACAJ2kyd0IAAMDvqTR3QgAAALjqNndCAABAgCs5d0IAAIBIbDt3QgAAwBCtPXdCAAAA2e0/d0IAAEChLkJ3QgAAgGlvRHdCAADAMbBGd0IAAAD68Eh3QgAAQMIxS3dCAACAinJNd0IAAMBSs093QgAAABv0UXdCAABA4zRUd0IAAICrdVZ3Qg==\",\"dtype\":\"float64\",\"order\":\"little\",\"shape\":[95]},\"equity\":{\"__ndarray__\":\"AAAAAAAA8D8AAAAAAADwP4OzKXE+E/A/LcDrIber8D94PmZE9WHwP2Vr4NushvA/N3U30sCS8D+YNtpZNzHxPyf6Ojgzv/A/LLCN2QKj7z+U6QJE7sHvP6cmfx8hMvA/5iJ8lz7M8D+ygTKl9IzwP+YwDMb+7/A/TlzxASrr8D94MlH3W2bxP2mNpNGNJ/E/esm9GJk08T+IrU2R6TnxPwL5K7ef+vA/NbaVBmqB8T9qGPylMfrxP0hh5sSYGfI/+nREh5F+8j+X9P8zxM7yP4Xilnj5LPM/YpQUdiN+8z8PxZGVvQjzP4OksiWYRPI/L/FPorIW8j8Y4mDIL3vyPyHX+lCIqvI/C7FdzpyL8j+c8YVSfMjyPzSqgLnQhfI/psHhA6xQ8j94yg/BcZLyP0StQJ/8z/I/Zxa6xTmG8j/d8qohQq/yP+ai79hTrPI/ZC8l7G3S8j81i+XArsfyP+v1F9+KjPM/yi4gpYYM9D+wT8ZpzQD0P3+ezJi07/M/gKuGPg728z9uopaG9Dn0P/o2syypW/Q/IzhoRrBv9D+qEI+0eE70P+a8tXLSVPQ/poCTkbbY9D/rD954CTX1PwWlqvHdpPY/ho78tdLn9T/5Eks2UhL2P+pmdy8Tc/U/MyJq3cQA9T90o5+rc/rzP31xLYP9fu4/Em2mXjAv9D+gwnT+2Rf3P6KQKkvOjPg/dwmYKvwo+j8HpLM6Z5r5P7L5VYQ+DPs/7BeqGg94+j85tuAdg2P6P7YsXz+oZPs/8RwdmepH/D+pdbDQNgD9P9kDECsjNf0/J9wr8wHU/D9+VpmxXdj8P+mIdOaIDv0/5N3sKsxM/T+Fk5c5ZVr+PzJekPAL3f8/7VMCoPkq/z++S8qJe4v/P7YvoNdsu/8/rVEPYUah/z8EyiJkY6T/P8lEY2AiZQBA/CYDlqHn/z9Y2B38VY//P/SKhpg3Xv4/zohW3+rj/T9PxVM4+m3+P+gXX1sfH/8/EciA96jD/z/JC8AZbs7+Pw==\",\"dtype\":\"float64\",\"order\":\"little\",\"shape\":[95]},\"getMoving\\u2026_0_1\":{\"__ndarray__\":\"sEod2tLmzz+uDpWje2mbv8NvM6ChaNC/wbH1Afk5sz/It9By3sW6P50XR6D54Nc/4kuHL8NA1j85ujNX1cSiP1Z9yL7mOMo/zaqm3bt/ar9IzgxOuDjHPxArtY0FFuI/+JTYatNh3T+jrGfHCbDKP1/8//ZJpbg/73FjlJXWyD/AEDB+hHqpP4PvFnBvtqs/V8bW0x2j1D8Lsq/+bHnTP2AupMESN7k/3IZ9bIiogL8RB82qBu/VP7Qfa228y9Y/Dg4jPoq/wT+KFqKqpjrCPyXwt4CwBss/z7VAlLCq0T+wqLQLixafP2Rcokzr4Ms/WnxwUK2A3z94t6Ev9NrjPwuYfZ7Db98/MkAMpfh51D/tEJUyIOvPP+NHafEeUb+/2QIP0gIPyr+9Zc2kjw7TP0EkMjRTDeE/4hDjCCYU1j9bD9Y3NyXBPx8xkxub5sQ//WIhzkDv0D8AqUy1b8vAP0o1eB6599Y/BUbNk5R91j8OiKzOw8myP9W5yXyQ9t0/iG57W2OG6T//HtFY8yHWP+DnQwZ9tLQ/4RlcAbONyz+wqFQwou7PP29e8upVZMs/vP5wQO1Nwj90FQ39X4/MP1OeguL+KNo/NdGSqispxT+crp5hp8mQvzWMknxjQs4/4k7uXtZRxj9GgfU/Gyevv5UBjBrCzqo/UeySbaJ2tD+k251tjaTCPzM7rMOSkc0/N+HLxbUXsD/ZU/xAPceQv7MeISJGPog/vuCPVyq0tD8r18pAWNLYP/2HFdxtG+M/QNCbfMnY1D/peW273UC/P46huGrPUbw//Yhi8Q55uT90xro0Agm2P3oGLnp0HIO/JI8cVKHHkL8OpJELjxWLP127tr+pwcY/VGWCAXBD1T+usmzPfcDRP1AmmemR+NQ/LhQw/qTb0z+aTCY74+F9v6OPw1qI/ra/2eyBv0RaxT+5fV7dRxZ5P066Z8g2ZLU/1f7PtrrFzT82k94ptPLMP2jCfK7VetA/zQ+hnl0Zwj/tT/+1luupPw==\",\"dtype\":\"float64\",\"order\":\"little\",\"shape\":[95]},\"inc\":[\"0\",\"1\",\"1\",\"0\",\"0\",\"1\",\"1\",\"1\",\"0\",\"0\",\"0\",\"1\",\"1\",\"0\",\"1\",\"0\",\"1\",\"0\",\"1\",\"1\",\"0\",\"1\",\"0\",\"1\",\"1\",\"1\",\"1\",\"0\",\"0\",\"1\",\"1\",\"1\",\"0\",\"0\",\"0\",\"0\",\"1\",\"1\",\"0\",\"0\",\"0\",\"0\",\"1\",\"0\",\"0\",\"1\",\"1\",\"1\",\"1\",\"1\",\"0\",\"1\",\"0\",\"0\",\"1\",\"1\",\"0\",\"0\",\"1\",\"0\",\"0\",\"0\",\"1\",\"1\",\"0\",\"0\",\"1\",\"0\",\"0\",\"1\",\"0\",\"0\",\"0\",\"0\",\"0\",\"0\",\"0\",\"1\",\"1\",\"1\",\"1\",\"0\",\"0\",\"0\",\"0\",\"0\",\"1\",\"0\",\"1\",\"1\",\"0\",\"0\",\"0\",\"1\",\"0\"],\"index\":[0,1,2,3,4,5,6,7,8,9,10,11,12,13,14,15,16,17,18,19,20,21,22,23,24,25,26,27,28,29,30,31,32,33,34,35,36,37,38,39,40,41,42,43,44,45,46,47,48,49,50,51,52,53,54,55,56,57,58,59,60,61,62,63,64,65,66,67,68,69,70,71,72,73,74,75,76,77,78,79,80,81,82,83,84,85,86,87,88,89,90,91,92,93,94],\"ohlc_high\":{\"__ndarray__\":\"AAAAYLg+VEAAAACgR1FUQAAAAIDC9VRAAAAAIK6XVUAAAAAA18NVQAAAAADX81VAAAAAACkMVkAAAAAgXM9WQAAAAEAzk1ZAAAAAwMwcVUAAAABAM1NVQAAAACCFe1VAAAAAgMJFVkAAAAAgrjdWQAAAAGBmdlZAAAAAACmMVkAAAADgehRXQAAAACBcH1dAAAAAACkMV0AAAADgo+BWQAAAAAAA0FZAAAAAACk8V0AAAACAFF5YQAAAAMAeFVhAAAAAgD2KWEAAAADA9fhYQAAAAEDhallAAAAAACksWkAAAAAA16NZQAAAAMAeRVhAAAAAwPUIWEAAAABguJ5YQAAAAAAp7FhAAAAAwPXYWEAAAABgZgZZQAAAAMD1uFlAAAAAoEfBWUAAAACgR6FZQAAAAMAe1VhAAAAAwPWoWEAAAACgR8FYQAAAAGCPslhAAAAAACkMWUAAAAAA18NYQAAAAOBRqFlAAAAAIFxPWkAAAAAAKUxaQAAAACBcP1pAAAAA4KMwWkAAAABgj5JaQAAAAEDh2lpAAAAAANfjWkAAAADgoxBbQAAAAOCj0FpAAAAAoJmJW0AAAACAwuVbQAAAAGC4Dl5AAAAAIIUrXUAAAACAPQpdQAAAAOB61FxAAAAA4HqEXEAAAABgjzJbQAAAAOBR+FdAAAAAACnMVEAAAACgmRlZQAAAAEAKx1pAAAAA4FH4WkAAAABACjdbQAAAAEDhmlxAAAAAYLheW0AAAAAgXJ9bQAAAACBc/1xAAAAAoEfRXUAAAABAM/NdQAAAAIA9Sl5AAAAAAAAAXkAAAADgUTheQAAAAGC4/l1AAAAAYI9yXkAAAABAMzNfQAAAAEAze2BAAAAAYLg+YEAAAADgo1hgQAAAAKBHiWBAAAAAgOtZYEAAAACgR4FgQAAAAEDh2mBAAAAAIFwvYEAAAADgehxgQAAAAGBm1l5AAAAAQAqXX0AAAABgj3JfQAAAAAApvF9AAAAAYI9iYEAAAACgmQlgQA==\",\"dtype\":\"float64\",\"order\":\"little\",\"shape\":[95]},\"ohlc_low\":{\"__ndarray__\":\"AAAAoJm5U0AAAABAChdUQAAAAOBRmFRAAAAAQOFaVUAAAABACodVQAAAAEDhulVAAAAAIIXbVUAAAAAAAIBWQAAAAKCZGVZAAAAAgOvxVEAAAADgevRUQAAAAAApPFVAAAAAYGYGVkAAAADAzNxVQAAAAKBwHVZAAAAAYGZWVkAAAACAwtVWQAAAAMDMnFZAAAAAwB7FVkAAAABACrdWQAAAAKBwfVZAAAAAoEfBVkAAAADgUchXQAAAAOCj0FdAAAAAIK4nWEAAAADgo0BYQAAAACCuF1lAAAAAgOvRWUAAAAAAKRxZQAAAAKBw/VdAAAAAoHCNV0AAAABgZgZYQAAAAMDMnFhAAAAAgMJ1WEAAAACgR8FYQAAAAADXY1hAAAAAoEfRWEAAAABACidZQAAAAIDrgVhAAAAA4FE4WEAAAACA63FYQAAAACCuJ1hAAAAAIK6HWEAAAACgmXlYQAAAAEAzU1lAAAAAgOvxWUAAAADgURhaQAAAAKBw/VlAAAAAYI8SWkAAAADgUThaQAAAAEDhmlpAAAAAgD2qWkAAAADA9ZhaQAAAAMAelVpAAAAAgBQ+W0AAAABAM3NbQAAAAKBwnV1AAAAAIIWrXEAAAADgUUhcQAAAAGBm9ltAAAAA4FFIW0AAAADAzIxZQAAAAAAAwFVAAAAAwPUYU0AAAADAHqVXQAAAAIAUDllAAAAAoEcRWkAAAADgozBaQAAAAKCZqVtAAAAAACl8WkAAAADAzAxbQAAAAEDhGlxAAAAAgOsBXUAAAACA65FdQAAAAKCZyV1AAAAAgMIFXUAAAABgj5JdQAAAAMDMHF1AAAAA4KPwXUAAAACgcL1eQAAAACCuL2BAAAAAoJnZX0AAAACgRxlgQAAAAADXQ2BAAAAAYI8qYEAAAAAAADhgQAAAAKBHqWBAAAAAIIWLX0AAAABgj9JfQAAAAOCjEF5AAAAA4KOAXUAAAACAwsVeQAAAAIDCVV9AAAAA4KPgX0AAAADgekRfQA==\",\"dtype\":\"float64\",\"order\":\"little\",\"shape\":[95]}},\"selected\":{\"id\":\"6481\"},\"selection_policy\":{\"id\":\"6482\"}},\"id\":\"6413\",\"type\":\"ColumnDataSource\"},{\"attributes\":{},\"id\":\"6572\",\"type\":\"UndoTool\"},{\"attributes\":{\"factors\":[\"0\",\"1\"],\"palette\":[\"rgb(178, 27, 0)\",\"rgb(0, 178, 0)\"]},\"id\":\"6417\",\"type\":\"CategoricalColorMapper\"},{\"attributes\":{},\"id\":\"6574\",\"type\":\"ResetTool\"},{\"attributes\":{\"source\":{\"id\":\"6413\"}},\"id\":\"6463\",\"type\":\"CDSView\"},{\"attributes\":{\"overlay\":{\"id\":\"6576\"}},\"id\":\"6571\",\"type\":\"BoxZoomTool\"},{\"attributes\":{},\"id\":\"6476\",\"type\":\"BasicTickFormatter\"},{\"attributes\":{},\"id\":\"6573\",\"type\":\"RedoTool\"},{\"attributes\":{},\"id\":\"6575\",\"type\":\"SaveTool\"},{\"attributes\":{},\"id\":\"6383\",\"type\":\"DataRange1d\"},{\"attributes\":{},\"id\":\"6504\",\"type\":\"Selection\"},{\"attributes\":{},\"id\":\"6505\",\"type\":\"UnionRenderers\"},{\"attributes\":{\"bottom_units\":\"screen\",\"fill_alpha\":0.5,\"fill_color\":\"lightgrey\",\"left_units\":\"screen\",\"level\":\"overlay\",\"line_alpha\":1.0,\"line_color\":\"black\",\"line_dash\":[4,4],\"line_width\":2,\"right_units\":\"screen\",\"top_units\":\"screen\"},\"id\":\"6404\",\"type\":\"BoxAnnotation\"},{\"attributes\":{\"fill_color\":{\"value\":\"red\"},\"line_color\":{\"value\":\"red\"},\"size\":{\"units\":\"screen\",\"value\":8},\"x\":{\"value\":62},\"y\":{\"value\":0.9530017435131836}},\"id\":\"6508\",\"type\":\"Scatter\"},{\"attributes\":{\"formatter\":{\"id\":\"6419\"},\"ticker\":{\"id\":\"6390\"},\"visible\":false},\"id\":\"6389\",\"type\":\"LinearAxis\"},{\"attributes\":{\"fill_alpha\":{\"value\":0.1},\"fill_color\":{\"value\":\"red\"},\"line_alpha\":{\"value\":0.1},\"line_color\":{\"value\":\"red\"},\"size\":{\"units\":\"screen\",\"value\":8},\"x\":{\"value\":62},\"y\":{\"value\":0.9530017435131836}},\"id\":\"6509\",\"type\":\"Scatter\"},{\"attributes\":{},\"id\":\"6771\",\"type\":\"BasicTickFormatter\"},{\"attributes\":{\"callback\":null,\"formatters\":{\"@datetime\":\"datetime\"},\"mode\":\"vline\",\"point_policy\":\"follow_mouse\",\"renderers\":[{\"id\":\"6664\"}],\"tooltips\":[[\"Date\",\"@datetime{%c}\"],[\"x, y\",\"$index\\u00a0\\u00a0\\u00a0\\u00a0$y{0,0.0[0000]}\"],[\"OHLC\",\"@Open{0,0.0[0000]}\\u00a0\\u00a0\\u00a0\\u00a0@High{0,0.0[0000]}\\u00a0\\u00a0\\u00a0\\u00a0@Low{0,0.0[0000]}\\u00a0\\u00a0\\u00a0\\u00a0@Close{0,0.0[0000]}\"],[\"Volume\",\"@Volume{0,0}\"]]},\"id\":\"6735\",\"type\":\"HoverTool\"},{\"attributes\":{\"source\":{\"id\":\"6507\"}},\"id\":\"6511\",\"type\":\"CDSView\"},{\"attributes\":{},\"id\":\"6479\",\"type\":\"Selection\"},{\"attributes\":{\"formatter\":{\"id\":\"6726\"},\"ticker\":{\"id\":\"6694\"},\"visible\":false},\"id\":\"6693\",\"type\":\"LinearAxis\"},{\"attributes\":{},\"id\":\"6480\",\"type\":\"UnionRenderers\"},{\"attributes\":{\"data_source\":{\"id\":\"6507\"},\"glyph\":{\"id\":\"6508\"},\"hover_glyph\":null,\"muted_glyph\":null,\"nonselection_glyph\":{\"id\":\"6509\"},\"selection_glyph\":null,\"view\":{\"id\":\"6511\"}},\"id\":\"6510\",\"type\":\"GlyphRenderer\"},{\"attributes\":{\"label\":{\"value\":\"Max Drawdown (-32.7%)\"},\"renderers\":[{\"id\":\"6510\"}]},\"id\":\"6528\",\"type\":\"LegendItem\"},{\"attributes\":{},\"id\":\"6687\",\"type\":\"DataRange1d\"},{\"attributes\":{\"source\":{\"id\":\"6529\"}},\"id\":\"6533\",\"type\":\"CDSView\"},{\"attributes\":{\"below\":[{\"id\":\"6693\"}],\"center\":[{\"id\":\"6696\"},{\"id\":\"6700\"},{\"id\":\"6731\"}],\"left\":[{\"id\":\"6697\"}],\"min_border_bottom\":6,\"min_border_left\":0,\"min_border_right\":10,\"min_border_top\":3,\"outline_line_color\":\"#666666\",\"plot_height\":90,\"plot_width\":null,\"renderers\":[{\"id\":\"6720\"}],\"sizing_mode\":\"stretch_width\",\"title\":{\"id\":\"6723\"},\"toolbar\":{\"id\":\"6709\"},\"toolbar_location\":null,\"x_range\":{\"id\":\"6380\"},\"x_scale\":{\"id\":\"6689\"},\"y_range\":{\"id\":\"6687\"},\"y_scale\":{\"id\":\"6691\"}},\"id\":\"6685\",\"subtype\":\"Figure\",\"type\":\"Plot\"},{\"attributes\":{\"fill_alpha\":{\"value\":0.1},\"fill_color\":{\"value\":\"cyan\"},\"line_alpha\":{\"value\":0.1},\"line_color\":{\"value\":\"cyan\"},\"size\":{\"units\":\"screen\",\"value\":8},\"x\":{\"value\":86},\"y\":{\"value\":2.049381974248352}},\"id\":\"6470\",\"type\":\"Scatter\"},{\"attributes\":{\"bottom_units\":\"screen\",\"fill_alpha\":0.5,\"fill_color\":\"lightgrey\",\"left_units\":\"screen\",\"level\":\"overlay\",\"line_alpha\":1.0,\"line_color\":\"black\",\"line_dash\":[4,4],\"line_width\":2,\"right_units\":\"screen\",\"top_units\":\"screen\"},\"id\":\"6576\",\"type\":\"BoxAnnotation\"},{\"attributes\":{\"data_source\":{\"id\":\"6414\"},\"glyph\":{\"id\":\"6587\"},\"hover_glyph\":null,\"muted_glyph\":null,\"nonselection_glyph\":{\"id\":\"6588\"},\"selection_glyph\":null,\"view\":{\"id\":\"6590\"}},\"id\":\"6589\",\"type\":\"GlyphRenderer\"},{\"attributes\":{},\"id\":\"6443\",\"type\":\"SaveTool\"},{\"attributes\":{\"args\":{\"ohlc_range\":{\"id\":\"6383\"},\"source\":{\"id\":\"6413\"},\"volume_range\":{\"id\":\"6604\"}},\"code\":\"if (!window._bt_scale_range) {\\n    window._bt_scale_range = function (range, min, max, pad) {\\n        \\\"use strict\\\";\\n        if (min !== Infinity && max !== -Infinity) {\\n            pad = pad ? (max - min) * .03 : 0;\\n            range.start = min - pad;\\n            range.end = max + pad;\\n        } else console.error('backtesting: scale range error:', min, max, range);\\n    };\\n}\\n\\nclearTimeout(window._bt_autoscale_timeout);\\n\\nwindow._bt_autoscale_timeout = setTimeout(function () {\\n    /**\\n     * @variable cb_obj `fig_ohlc.x_range`.\\n     * @variable source `ColumnDataSource`\\n     * @variable ohlc_range `fig_ohlc.y_range`.\\n     * @variable volume_range `fig_volume.y_range`.\\n     */\\n    \\\"use strict\\\";\\n\\n    let i = Math.max(Math.floor(cb_obj.start), 0),\\n        j = Math.min(Math.ceil(cb_obj.end), source.data['ohlc_high'].length);\\n\\n    let max = Math.max.apply(null, source.data['ohlc_high'].slice(i, j)),\\n        min = Math.min.apply(null, source.data['ohlc_low'].slice(i, j));\\n    _bt_scale_range(ohlc_range, min, max, true);\\n\\n    if (volume_range) {\\n        max = Math.max.apply(null, source.data['Volume'].slice(i, j));\\n        _bt_scale_range(volume_range, 0, max * 1.03, false);\\n    }\\n\\n}, 50);\\n\"},\"id\":\"6737\",\"type\":\"CustomJS\"},{\"attributes\":{\"dimensions\":\"width\"},\"id\":\"6701\",\"type\":\"PanTool\"},{\"attributes\":{},\"id\":\"6689\",\"type\":\"LinearScale\"},{\"attributes\":{},\"id\":\"6394\",\"type\":\"BasicTicker\"},{\"attributes\":{},\"id\":\"6691\",\"type\":\"LinearScale\"},{\"attributes\":{},\"id\":\"6442\",\"type\":\"ResetTool\"},{\"attributes\":{},\"id\":\"6440\",\"type\":\"UndoTool\"},{\"attributes\":{\"data\":{},\"selected\":{\"id\":\"6483\"},\"selection_policy\":{\"id\":\"6484\"}},\"id\":\"6468\",\"type\":\"ColumnDataSource\"},{\"attributes\":{},\"id\":\"6694\",\"type\":\"BasicTicker\"},{\"attributes\":{\"axis\":{\"id\":\"6693\"},\"ticker\":null},\"id\":\"6696\",\"type\":\"Grid\"},{\"attributes\":{},\"id\":\"6481\",\"type\":\"Selection\"},{\"attributes\":{},\"id\":\"6482\",\"type\":\"UnionRenderers\"},{\"attributes\":{\"active_drag\":{\"id\":\"6437\"},\"active_inspect\":\"auto\",\"active_multi\":null,\"active_scroll\":{\"id\":\"6438\"},\"active_tap\":\"auto\",\"tools\":[{\"id\":\"6437\"},{\"id\":\"6438\"},{\"id\":\"6439\"},{\"id\":\"6440\"},{\"id\":\"6441\"},{\"id\":\"6442\"},{\"id\":\"6443\"},{\"id\":\"6464\"},{\"id\":\"6738\"}]},\"id\":\"6445\",\"type\":\"Toolbar\"},{\"attributes\":{\"formatter\":{\"id\":\"6724\"},\"minor_tick_line_color\":null,\"ticker\":{\"id\":\"6698\"}},\"id\":\"6697\",\"type\":\"LinearAxis\"},{\"attributes\":{\"axis_label\":\"Equity\",\"formatter\":{\"id\":\"6466\"},\"minor_tick_line_color\":null,\"ticker\":{\"id\":\"6434\"}},\"id\":\"6433\",\"type\":\"LinearAxis\"},{\"attributes\":{},\"id\":\"6698\",\"type\":\"BasicTicker\"},{\"attributes\":{\"axis\":{\"id\":\"6697\"},\"dimension\":1,\"ticker\":null},\"id\":\"6700\",\"type\":\"Grid\"},{\"attributes\":{},\"id\":\"6526\",\"type\":\"Selection\"},{\"attributes\":{\"callback\":null,\"formatters\":{\"@datetime\":\"datetime\"},\"mode\":\"vline\",\"point_policy\":\"follow_mouse\",\"renderers\":[{\"id\":\"6462\"}],\"tooltips\":[[\"Date\",\"@datetime{%c}\"],[\"Equity\",\"@equity{+0,0.[000]%}\"]]},\"id\":\"6464\",\"type\":\"HoverTool\"},{\"attributes\":{},\"id\":\"6704\",\"type\":\"UndoTool\"},{\"attributes\":{},\"id\":\"6527\",\"type\":\"UnionRenderers\"},{\"attributes\":{\"border_line_color\":\"#333333\",\"click_policy\":\"hide\",\"items\":[{\"id\":\"6486\"},{\"id\":\"6506\"},{\"id\":\"6528\"},{\"id\":\"6552\"}],\"label_text_font_size\":\"8pt\",\"location\":\"top_left\",\"margin\":0,\"padding\":5,\"spacing\":0},\"id\":\"6485\",\"type\":\"Legend\"},{\"attributes\":{\"label\":{\"value\":\"Peak (205%)\"},\"renderers\":[{\"id\":\"6471\"}]},\"id\":\"6486\",\"type\":\"LegendItem\"},{\"attributes\":{\"dimensions\":\"width\",\"maintain_focus\":false},\"id\":\"6702\",\"type\":\"WheelZoomTool\"},{\"attributes\":{\"bottom_units\":\"screen\",\"fill_alpha\":0.5,\"fill_color\":\"lightgrey\",\"left_units\":\"screen\",\"level\":\"overlay\",\"line_alpha\":1.0,\"line_color\":\"black\",\"line_dash\":[4,4],\"line_width\":2,\"right_units\":\"screen\",\"top_units\":\"screen\"},\"id\":\"6444\",\"type\":\"BoxAnnotation\"},{\"attributes\":{\"axis\":{\"id\":\"6389\"},\"ticker\":null},\"id\":\"6392\",\"type\":\"Grid\"},{\"attributes\":{},\"id\":\"6706\",\"type\":\"ResetTool\"},{\"attributes\":{\"data_source\":{\"id\":\"6468\"},\"glyph\":{\"id\":\"6469\"},\"hover_glyph\":null,\"muted_glyph\":null,\"nonselection_glyph\":{\"id\":\"6470\"},\"selection_glyph\":null,\"view\":{\"id\":\"6472\"}},\"id\":\"6471\",\"type\":\"GlyphRenderer\"},{\"attributes\":{\"data_source\":{\"id\":\"6529\"},\"glyph\":{\"id\":\"6530\"},\"hover_glyph\":null,\"muted_glyph\":null,\"nonselection_glyph\":{\"id\":\"6531\"},\"selection_glyph\":null,\"view\":{\"id\":\"6533\"}},\"id\":\"6532\",\"type\":\"GlyphRenderer\"},{\"attributes\":{\"overlay\":{\"id\":\"6708\"}},\"id\":\"6703\",\"type\":\"BoxZoomTool\"},{\"attributes\":{\"active_drag\":{\"id\":\"6701\"},\"active_inspect\":\"auto\",\"active_multi\":null,\"active_scroll\":{\"id\":\"6702\"},\"active_tap\":\"auto\",\"tools\":[{\"id\":\"6701\"},{\"id\":\"6702\"},{\"id\":\"6703\"},{\"id\":\"6704\"},{\"id\":\"6705\"},{\"id\":\"6706\"},{\"id\":\"6707\"},{\"id\":\"6733\"},{\"id\":\"6738\"}]},\"id\":\"6709\",\"type\":\"Toolbar\"},{\"attributes\":{\"source\":{\"id\":\"6414\"}},\"id\":\"6590\",\"type\":\"CDSView\"},{\"attributes\":{},\"id\":\"6483\",\"type\":\"Selection\"},{\"attributes\":{},\"id\":\"6705\",\"type\":\"RedoTool\"},{\"attributes\":{\"label\":{\"value\":\"Max Dd Dur. (119 days)\"},\"renderers\":[{\"id\":\"6532\"}]},\"id\":\"6552\",\"type\":\"LegendItem\"},{\"attributes\":{},\"id\":\"6484\",\"type\":\"UnionRenderers\"},{\"attributes\":{},\"id\":\"6707\",\"type\":\"SaveTool\"},{\"attributes\":{\"line_color\":\"red\",\"line_width\":2,\"x\":{\"field\":\"x\"},\"y\":{\"value\":1.2182955372348023}},\"id\":\"6530\",\"type\":\"Line\"},{\"attributes\":{\"below\":[{\"id\":\"6561\"}],\"center\":[{\"id\":\"6564\"},{\"id\":\"6568\"},{\"id\":\"6585\"}],\"left\":[{\"id\":\"6565\"}],\"min_border_bottom\":6,\"min_border_left\":0,\"min_border_right\":10,\"min_border_top\":3,\"outline_line_color\":\"#666666\",\"plot_height\":90,\"plot_width\":null,\"renderers\":[{\"id\":\"6589\"},{\"id\":\"6594\"}],\"sizing_mode\":\"stretch_width\",\"title\":{\"id\":\"6769\"},\"toolbar\":{\"id\":\"6577\"},\"toolbar_location\":null,\"x_range\":{\"id\":\"6380\"},\"x_scale\":{\"id\":\"6557\"},\"y_range\":{\"id\":\"6555\"},\"y_scale\":{\"id\":\"6559\"}},\"id\":\"6553\",\"subtype\":\"Figure\",\"type\":\"Plot\"},{\"attributes\":{},\"id\":\"6385\",\"type\":\"LinearScale\"},{\"attributes\":{\"data\":{\"x\":[27,43.92683146326864]},\"selected\":{\"id\":\"6550\"},\"selection_policy\":{\"id\":\"6551\"}},\"id\":\"6529\",\"type\":\"ColumnDataSource\"},{\"attributes\":{\"source\":{\"id\":\"6468\"}},\"id\":\"6472\",\"type\":\"CDSView\"},{\"attributes\":{\"args\":{\"axis\":{\"id\":\"6389\"},\"formatter\":{\"id\":\"6418\"},\"source\":{\"id\":\"6413\"}},\"code\":\"\\nthis.labels = this.labels || formatter.doFormat(ticks\\n                                                .map(i => source.data.datetime[i])\\n                                                .filter(t => t !== undefined));\\nreturn this.labels[index] || \\\"\\\";\\n        \"},\"id\":\"6419\",\"type\":\"FuncTickFormatter\"},{\"attributes\":{\"active_drag\":{\"id\":\"6569\"},\"active_inspect\":\"auto\",\"active_multi\":null,\"active_scroll\":{\"id\":\"6570\"},\"active_tap\":\"auto\",\"tools\":[{\"id\":\"6569\"},{\"id\":\"6570\"},{\"id\":\"6571\"},{\"id\":\"6572\"},{\"id\":\"6573\"},{\"id\":\"6574\"},{\"id\":\"6575\"},{\"id\":\"6596\"},{\"id\":\"6598\"},{\"id\":\"6738\"}]},\"id\":\"6577\",\"type\":\"Toolbar\"},{\"attributes\":{\"line_alpha\":0.1,\"line_color\":\"red\",\"line_width\":2,\"x\":{\"field\":\"x\"},\"y\":{\"value\":1.2182955372348023}},\"id\":\"6531\",\"type\":\"Line\"},{\"attributes\":{\"data\":{\"datetime\":{\"__ndarray__\":\"AADAfG6JdkIAAABFr4t2QgAAQA3wjXZCAACA1TCQdkIAAMCdcZJ2QgAAAGaylHZCAABALvOWdkIAAID2M5l2QgAAwL50m3ZCAAAAh7WddkIAAEBP9p92QgAAgBc3onZCAADA33ekdkIAAACouKZ2QgAAQHD5qHZCAACAODqrdkIAAMAAe612QgAAAMm7r3ZCAABAkfyxdkIAAIBZPbR2QgAAwCF+tnZCAAAA6r64dkIAAECy/7p2QgAAgHpAvXZCAADAQoG/dkIAAAALwsF2QgAAQNMCxHZCAACAm0PGdkIAAMBjhMh2QgAAACzFynZCAABA9AXNdkIAAIC8Rs92QgAAwISH0XZCAAAATcjTdkIAAEAVCdZ2QgAAgN1J2HZCAADApYradkIAAABuy9x2QgAAQDYM33ZCAACA/kzhdkIAAMDGjeN2QgAAAI/O5XZCAABAVw/odkIAAIAfUOp2QgAAwOeQ7HZCAAAAsNHudkIAAEB4EvF2QgAAgEBT83ZCAADACJT1dkIAAADR1Pd2QgAAQJkV+nZCAACAYVb8dkIAAMApl/52QgAAAPLXAHdCAABAuhgDd0IAAICCWQV3QgAAwEqaB3dCAAAAE9sJd0IAAEDbGwx3QgAAgKNcDndCAADAa50Qd0IAAAA03hJ3QgAAQPweFXdCAACAxF8Xd0IAAMCMoBl3QgAAAFXhG3dCAABAHSIed0IAAIDlYiB3QgAAwK2jIndCAAAAduQkd0IAAEA+JSd3QgAAgAZmKXdCAADAzqYrd0IAAACX5y13QgAAQF8oMHdCAACAJ2kyd0IAAMDvqTR3QgAAALjqNndCAABAgCs5d0IAAIBIbDt3QgAAwBCtPXdCAAAA2e0/d0IAAEChLkJ3QgAAgGlvRHdCAADAMbBGd0IAAAD68Eh3QgAAQMIxS3dCAACAinJNd0IAAMBSs093QgAAABv0UXdCAABA4zRUd0IAAICrdVZ3QgAAgKt1VndC\",\"dtype\":\"float64\",\"order\":\"little\",\"shape\":[93]},\"exit_price\":{\"__ndarray__\":\"AAAAoJmJVUAAAAAA18NVQAAAACBcv1VAAAAAgBTeVUAAAACgmYlWQAAAAKCZiVZAAAAAYGYWVUAAAADgeiRVQAAAAEAKV1VAAAAAQDMTVkAAAACAwhVWQAAAAIDCNVZAAAAA4KNwVkAAAAAAKdxWQAAAAIDCBVdAAAAAoJnJVkAAAADgUbhWQAAAAEAKh1ZAAAAAAADgVkAAAAAAAFBYQAAAACCF21dAAAAAwB5FWEAAAAAghVtYQAAAAEAzI1lAAAAAwMwcWkAAAAAA13NZQAAAAIDCFVhAAAAA4KPAV0AAAACgRxFYQAAAAOCjwFhAAAAAwPXYWEAAAACAwvVYQAAAAMD1uFlAAAAAwPX4WEAAAADgelRZQAAAAADX01hAAAAAwPWoWEAAAADAHqVYQAAAAADXg1hAAAAAgD2aWEAAAABA4bpYQAAAAOBRqFlAAAAAQDMzWkAAAAAA1zNaQAAAAKBw/VlAAAAAYI8iWkAAAAAA12NaQAAAAMAexVpAAAAAYI/CWkAAAAAAAABbQAAAAOCj0FpAAAAAIK5HW0AAAADAHnVbQAAAAAApvF1AAAAAgBTuXEAAAAAAAGBcQAAAAIA9ulxAAAAAIFyvW0AAAADgehRbQAAAAIAU3lVAAAAAgD06U0AAAACgR+FYQAAAAIAULlpAAAAAoJlpWkAAAACAFO5aQAAAAIDrYVxAAAAAYI/iWkAAAAAAAIBbQAAAAMDMjFxAAAAAQOGaXUAAAAAAANBdQAAAAEAKF15AAAAAACmsXUAAAACAFA5eQAAAAMAeNV1AAAAA4KMQXkAAAAAgXL9eQAAAAIAUVmBAAAAAgOsxYEAAAADA9VBgQAAAAAAAgGBAAAAAoEdJYEAAAADAzHRgQAAAAOB61GBAAAAAgOsZYEAAAADgUQBgQAAAAEAKh15AAAAA4HpUX0AAAAAgXD9fQAAAACCut19AAAAA4KPgX0AAAAAgXO9fQAAAACBc719A\",\"dtype\":\"float64\",\"order\":\"little\",\"shape\":[93]},\"index\":[3,4,5,6,7,8,9,10,11,12,13,14,15,16,17,18,19,20,21,22,23,24,25,26,27,28,29,30,31,32,33,34,35,36,37,38,39,40,41,42,43,44,45,46,47,48,49,50,51,52,53,54,55,56,57,58,59,60,61,62,63,64,65,66,67,68,69,70,71,72,73,74,75,76,77,78,79,80,81,82,83,84,85,86,87,88,89,90,91,92,93,94,94],\"marker_size\":{\"__ndarray__\":\"JysKfnmSI0AnKwp+eZIjQNou0ymmCCJA2i7TKaYIIkDaLtMppggiQNou0ymmCCJA2i7TKaYIIkDaLtMppggiQNou0ymmCCJA2i7TKaYIIkDaLtMppggiQNou0ymmCCJA2i7TKaYIIkDaLtMppggiQNou0ymmCCJA2i7TKaYIIkDaLtMppggiQNou0ymmCCJA2i7TKaYIIkDaLtMppggiQNou0ymmCCJA2i7TKaYIIkDaLtMppggiQNou0ymmCCJA2i7TKaYIIkDaLtMppggiQNou0ymmCCJA2i7TKaYIIkDaLtMppggiQNou0ymmCCJA2i7TKaYIIkDaLtMppggiQNou0ymmCCJA2i7TKaYIIkDaLtMppggiQAAAAAAAACBAbO3GhI3VIkBs7caEjdUiQGztxoSN1SJAbO3GhI3VIkBs7caEjdUiQGztxoSN1SJAbO3GhI3VIkBs7caEjdUiQGztxoSN1SJAbO3GhI3VIkBs7caEjdUiQGztxoSN1SJAbO3GhI3VIkBs7caEjdUiQGztxoSN1SJAbO3GhI3VIkBs7caEjdUiQGztxoSN1SJAbO3GhI3VIkBs7caEjdUiQGztxoSN1SJAbO3GhI3VIkBs7caEjdUiQGztxoSN1SJAbO3GhI3VIkCoAvyQcGszQKgC/JBwazNAqAL8kHBrM0CoAvyQcGszQKgC/JBwazNAqAL8kHBrM0CoAvyQcGszQKgC/JBwazNAqAL8kHBrM0CoAvyQcGszQKgC/JBwazNAqAL8kHBrM0CoAvyQcGszQKgC/JBwazNAqAL8kHBrM0CoAvyQcGszQKgC/JBwazNAqAL8kHBrM0CoAvyQcGszQKgC/JBwazNAqAL8kHBrM0CoAvyQcGszQKgC/JBwazNAqAL8kHBrM0CoAvyQcGszQAAAAAAAADRAAAAAAAAANEAAAAAAAAA0QAAAAAAAADRAAAAAAAAANEAAAAAAAAA0QAAAAAAAADRA\",\"dtype\":\"float64\",\"order\":\"little\",\"shape\":[93]},\"position_lines_xs\":[[2,3],[3,4],[4,5],[5,6],[6,7],[7,8],[8,9],[9,10],[10,11],[11,12],[12,13],[13,14],[14,15],[15,16],[16,17],[17,18],[18,19],[19,20],[20,21],[21,22],[22,23],[23,24],[24,25],[25,26],[26,27],[27,28],[28,29],[29,30],[30,31],[31,32],[32,33],[33,34],[34,35],[35,36],[36,37],[37,38],[38,39],[39,40],[40,41],[41,42],[42,43],[43,44],[44,45],[45,46],[46,47],[47,48],[48,49],[49,50],[50,51],[51,52],[52,53],[53,54],[54,55],[55,56],[56,57],[57,58],[58,59],[59,60],[60,61],[61,62],[62,63],[63,64],[64,65],[65,66],[66,67],[67,68],[68,69],[69,70],[70,71],[71,72],[72,73],[73,74],[74,75],[75,76],[76,77],[77,78],[78,79],[79,80],[80,81],[81,82],[82,83],[83,84],[84,85],[85,86],[86,87],[87,88],[88,89],[89,90],[90,91],[91,92],[92,93],[93,94],[94,94]],\"position_lines_ys\":[[83.01000213623047,86.1500015258789],[86.1500015258789,87.05999755859375],[87.05999755859375,86.98999786376953],[86.98999786376953,87.47000122070312],[87.47000122070312,90.1500015258789],[90.1500015258789,90.1500015258789],[90.1500015258789,84.3499984741211],[84.3499984741211,84.56999969482422],[84.56999969482422,85.36000061035156],[85.36000061035156,88.30000305175781],[88.30000305175781,88.33999633789062],[88.33999633789062,88.83999633789062],[88.83999633789062,89.76000213623047],[89.76000213623047,91.44000244140625],[91.44000244140625,92.08999633789062],[92.08999633789062,91.1500015258789],[91.1500015258789,90.87999725341797],[90.87999725341797,90.11000061035156],[90.11000061035156,91.5],[91.5,97.25],[97.25,95.43000030517578],[95.43000030517578,97.08000183105469],[97.08000183105469,97.43000030517578],[97.43000030517578,100.55000305175781],[100.55000305175781,104.44999694824219],[104.44999694824219,101.80999755859375],[101.80999755859375,96.33999633789062],[96.33999633789062,95.01000213623047],[95.01000213623047,96.2699966430664],[96.2699966430664,99.01000213623047],[99.01000213623047,99.38999938964844],[99.38999938964844,99.83999633789062],[99.83999633789062,102.88999938964844],[102.88999938964844,99.88999938964844],[99.88999938964844,101.31999969482422],[101.31999969482422,99.30999755859375],[99.30999755859375,98.63999938964844],[98.63999938964844,98.58000183105469],[98.58000183105469,98.05999755859375],[98.05999755859375,98.41000366210938],[98.41000366210938,98.91999816894531],[98.91999816894531,102.62999725341797],[102.62999725341797,104.80000305175781],[104.80000305175781,104.80999755859375],[104.80999755859375,103.95999908447266],[103.95999908447266,104.54000091552734],[104.54000091552734,105.55999755859375],[105.55999755859375,107.08000183105469],[107.08000183105469,107.04000091552734],[107.04000091552734,108.0],[108.0,107.26000213623047],[107.26000213623047,109.12000274658203],[109.12000274658203,109.83000183105469],[109.83000183105469,118.94000244140625],[118.94000244140625,115.72000122070312],[115.72000122070312,113.5],[113.5,114.91000366210938],[114.91000366210938,110.73999786376953],[110.73999786376953,108.31999969482422],[108.31999969482422,87.47000122070312],[87.47000122070312,76.91000366210938],[76.91000366210938,99.5199966430664],[99.5199966430664,104.72000122070312],[104.72000122070312,105.6500015258789],[105.6500015258789,107.72000122070312],[107.72000122070312,113.52999877929688],[113.52999877929688,107.54000091552734],[107.54000091552734,110.0],[110.0,114.19999694824219],[114.19999694824219,118.41999816894531],[118.41999816894531,119.25],[119.25,120.36000061035156],[120.36000061035156,118.69000244140625],[118.69000244140625,120.22000122070312],[120.22000122070312,116.83000183105469],[116.83000183105469,120.26000213623047],[120.26000213623047,122.98999786376953],[122.98999786376953,130.69000244140625],[130.69000244140625,129.55999755859375],[129.55999755859375,130.52999877929688],[130.52999877929688,132.0],[132.0,130.2899932861328],[130.2899932861328,131.64999389648438],[131.64999389648438,134.63999938964844],[134.63999938964844,128.80999755859375],[128.80999755859375,128.00999450683594],[128.00999450683594,122.11000061035156],[122.11000061035156,125.31999969482422],[125.31999969482422,124.98999786376953],[124.98999786376953,126.87000274658203],[126.87000274658203,127.51000213623047],[127.51000213623047,127.73999786376953],[127.73999786376953,127.73999786376953]],\"returns_long\":{\"__ndarray__\":\"4G83bgdeoz8AAAAAAAD4fwCs3B7GWEq/APlX2vOZdj9AYJHO2V+fPwAAAAAAAAAAiN1I6md4sL8A2Nngx11lPwCtGHSTIYM/IAFM1m6ioT8AgEtq0q49PwAws1/jLnc/gGnJwWY1hT8A9Hd0cCqTPwBYf9S3HX0/AL3pTpfnhL8AZ9V4LURov4CjCSIfWoG/AO6y2HKXjz8gUWrsYRawPyCps+PuKZO/AMNVFoS0kT8AlhNExohtPyCQQzZSZaA/gA0ht9bboz9AaYEPweGZvzDg80Atgqu/QHwiXuhFjL8AFg3B8yiLP0Dxm8UOJZ0/AJTvj81wbz8AyTAYhYtyP0AoqaM2SJ8/YNvi0Gzbnb8AAAAAAAD4fwAAAAAAAPh/AMvTpECie78AAOQdWu5DvwBF98Qum3W/ANBsYWA9bT8ABkvqFDp1P2BhQYTcM6M/wE6s8sOmlT8AQMnz//8YP4CfLzHsm4C/AORWoxjadj+AWVAvevuDPwDVpmJzfY0/AJCcZVB7OL8ArftHIV6CP4CqqqqqEHy/wFl84tnBkT8AWJlep6Z6P6CbjUP5O7U/gDlEmOO4m7+gNdAZCaWTvwDTt78ycYk/cLMHfoOUor8gVTAvoGCWvyxdkQRbo8i/AAAAAAAA+H9MN0TzkNDSP4C7xqWfwKo/gPkIihwwgj8AtkJ5LxCUP2CRAHODnas/0HlrrokDq7+AzG24mGyXP6AEeUqQjKM/4HQpvXfroj8AMk4wb7V8PwDZXO8qEIM/wJsXgIJqjL8ASWI8cmaKPyBHhLoD4Jy/wF8naEIQnj/AeRh93z6XPwBdOgr/BrA/AGWhMTu1gb8AuH5Bkqp+PwDTjqVrEIc/wAcffPCHir8AMe1Rp2CFP4BYjqbBQZc/EBCtTIErpr8AAAAAAAD4f3Aecj4fmae/QGqyFy7rmj8A/pPuX5Jlv4D9HWnxzY4/APRFZ5KpdD8AyK4edo1dPwAAAAAAAAAA\",\"dtype\":\"float64\",\"order\":\"little\",\"shape\":[93]},\"returns_positive\":[\"1\",\"0\",\"0\",\"1\",\"1\",\"0\",\"0\",\"1\",\"1\",\"1\",\"1\",\"1\",\"1\",\"1\",\"1\",\"0\",\"0\",\"0\",\"1\",\"1\",\"0\",\"1\",\"1\",\"1\",\"1\",\"0\",\"0\",\"0\",\"1\",\"1\",\"1\",\"1\",\"1\",\"0\",\"0\",\"1\",\"0\",\"0\",\"0\",\"1\",\"1\",\"1\",\"1\",\"1\",\"0\",\"1\",\"1\",\"1\",\"0\",\"1\",\"0\",\"1\",\"1\",\"1\",\"0\",\"0\",\"1\",\"0\",\"0\",\"0\",\"1\",\"1\",\"1\",\"1\",\"1\",\"1\",\"0\",\"1\",\"1\",\"1\",\"1\",\"1\",\"0\",\"1\",\"0\",\"1\",\"1\",\"1\",\"0\",\"1\",\"1\",\"0\",\"1\",\"1\",\"0\",\"1\",\"0\",\"1\",\"0\",\"1\",\"1\",\"1\",\"0\"],\"returns_short\":{\"__ndarray__\":\"AAAAAAAA+H+A2oHWA6KFvwAAAAAAAPh/AAAAAAAA+H8AAAAAAAD4fwAAAAAAAPh/AAAAAAAA+H8AAAAAAAD4fwAAAAAAAPh/AAAAAAAA+H8AAAAAAAD4fwAAAAAAAPh/AAAAAAAA+H8AAAAAAAD4fwAAAAAAAPh/AAAAAAAA+H8AAAAAAAD4fwAAAAAAAPh/AAAAAAAA+H8AAAAAAAD4fwAAAAAAAPh/AAAAAAAA+H8AAAAAAAD4fwAAAAAAAPh/AAAAAAAA+H8AAAAAAAD4fwAAAAAAAPh/AAAAAAAA+H8AAAAAAAD4fwAAAAAAAPh/AAAAAAAA+H8AAAAAAAD4fwAAAAAAAPh/AAAAAAAA+H8AvYGAk1GNv6AU1jp0UJQ/AAAAAAAA+H8AAAAAAAD4fwAAAAAAAPh/AAAAAAAA+H8AAAAAAAD4fwAAAAAAAPh/AAAAAAAA+H8AAAAAAAD4fwAAAAAAAPh/AAAAAAAA+H8AAAAAAAD4fwAAAAAAAPh/AAAAAAAA+H8AAAAAAAD4fwAAAAAAAPh/AAAAAAAA+H8AAAAAAAD4fwAAAAAAAPh/AAAAAAAA+H8AAAAAAAD4fwAAAAAAAPh/AAAAAAAA+H8AAAAAAAD4fwAAAAAAAPh/kFPFPvjnvj8AAAAAAAD4fwAAAAAAAPh/AAAAAAAA+H8AAAAAAAD4fwAAAAAAAPh/AAAAAAAA+H8AAAAAAAD4fwAAAAAAAPh/AAAAAAAA+H8AAAAAAAD4fwAAAAAAAPh/AAAAAAAA+H8AAAAAAAD4fwAAAAAAAPh/AAAAAAAA+H8AAAAAAAD4fwAAAAAAAPh/AAAAAAAA+H8AAAAAAAD4fwAAAAAAAPh/AAAAAAAA+H8AAAAAAAD4fwAAAAAAAPh/AAAAAAAA+H+AXOjraXB5PwAAAAAAAPh/AAAAAAAA+H8AAAAAAAD4fwAAAAAAAPh/AAAAAAAA+H8AAAAAAAD4fwAAAAAAAPh/\",\"dtype\":\"float64\",\"order\":\"little\",\"shape\":[93]},\"size\":[1204674,-1204674,1179490,1179490,1179490,1179490,1179490,1179490,1179490,1179490,1179490,1179490,1179490,1179490,1179490,1179490,1179490,1179490,1179490,1179490,1179490,1179490,1179490,1179490,1179490,1179490,1179490,1179490,1179490,1179490,1179490,1179490,1179490,1179490,-1179490,-1146196,1192593,1192593,1192593,1192593,1192593,1192593,1192593,1192593,1192593,1192593,1192593,1192593,1192593,1192593,1192593,1192593,1192593,1192593,1192593,1192593,1192593,1192593,1192593,1192593,-1192593,1520087,1520087,1520087,1520087,1520087,1520087,1520087,1520087,1520087,1520087,1520087,1520087,1520087,1520087,1520087,1520087,1520087,1520087,1520087,1520087,1520087,1520087,1520087,1520087,-1520087,1539087,1539087,1539087,1539087,1539087,1539087,1539087]},\"selected\":{\"id\":\"6681\"},\"selection_policy\":{\"id\":\"6682\"}},\"id\":\"6414\",\"type\":\"ColumnDataSource\"},{\"attributes\":{\"format\":\"0,0.[00]%\"},\"id\":\"6466\",\"type\":\"NumeralTickFormatter\"},{\"attributes\":{\"fill_color\":{\"field\":\"returns_positive\",\"transform\":{\"id\":\"6416\"}},\"marker\":{\"value\":\"triangle\"},\"size\":{\"field\":\"marker_size\",\"units\":\"screen\"},\"x\":{\"field\":\"index\"},\"y\":{\"field\":\"returns_long\"}},\"id\":\"6587\",\"type\":\"Scatter\"},{\"attributes\":{},\"id\":\"6724\",\"type\":\"BasicTickFormatter\"},{\"attributes\":{\"line_color\":\"#666666\",\"line_dash\":[6],\"location\":0},\"id\":\"6585\",\"type\":\"Span\"},{\"attributes\":{\"dimensions\":\"width\",\"maintain_focus\":false},\"id\":\"6438\",\"type\":\"WheelZoomTool\"},{\"attributes\":{\"toolbar\":{\"id\":\"6812\"}},\"id\":\"6813\",\"type\":\"ToolbarBox\"},{\"attributes\":{\"dimensions\":\"width\"},\"id\":\"6437\",\"type\":\"PanTool\"},{\"attributes\":{\"formatter\":{\"id\":\"6673\"},\"ticker\":{\"id\":\"6394\"}},\"id\":\"6393\",\"type\":\"LinearAxis\"}],\"root_ids\":[\"6814\"]},\"title\":\"Bokeh Application\",\"version\":\"2.1.1\"}};\n",
       "  var render_items = [{\"docid\":\"bddbd5d9-29de-4e43-a2cb-f5290ff67791\",\"root_ids\":[\"6814\"],\"roots\":{\"6814\":\"6d3d552d-d517-4cf6-a5c7-918795a26b67\"}}];\n",
       "  root.Bokeh.embed.embed_items_notebook(docs_json, render_items);\n",
       "\n",
       "  }\n",
       "  if (root.Bokeh !== undefined) {\n",
       "    embed_document(root);\n",
       "  } else {\n",
       "    var attempts = 0;\n",
       "    var timer = setInterval(function(root) {\n",
       "      if (root.Bokeh !== undefined) {\n",
       "        clearInterval(timer);\n",
       "        embed_document(root);\n",
       "      } else {\n",
       "        attempts++;\n",
       "        if (attempts > 100) {\n",
       "          clearInterval(timer);\n",
       "          console.log(\"Bokeh: ERROR: Unable to run BokehJS code because BokehJS library is missing\");\n",
       "        }\n",
       "      }\n",
       "    }, 10, root)\n",
       "  }\n",
       "})(window);"
      ],
      "application/vnd.bokehjs_exec.v0+json": ""
     },
     "metadata": {
      "application/vnd.bokehjs_exec.v0+json": {
       "id": "6814"
      }
     },
     "output_type": "display_data"
    }
   ],
   "source": [
    "testing_bts[testing_optimized_words[0]].plot()"
   ]
  },
  {
   "cell_type": "code",
   "execution_count": 422,
   "metadata": {},
   "outputs": [
    {
     "data": {
      "image/png": "[encoded data removed]",
      "text/plain": [
       "<Figure size 288x288 with 4 Axes>"
      ]
     },
     "metadata": {},
     "output_type": "display_data"
    }
   ],
   "source": [
    "import skopt.plots \n",
    "x = skopt.plots.plot_objective(training_stats[testing_optimized_words[0]][1])"
   ]
  },
  {
   "cell_type": "markdown",
   "metadata": {},
   "source": [
    "## Random Strategy Implementation and Comparison with Buy and Hold"
   ]
  },
  {
   "cell_type": "code",
   "execution_count": 361,
   "metadata": {},
   "outputs": [],
   "source": [
    "import random\n",
    "\n",
    "# randomly buy and sell \n",
    "class randomStrat(Strategy):\n",
    "    def init(self):\n",
    "        self.change = self.I(getMovingAvg, self.data)\n",
    "    def next(self):\n",
    "        if random.choice([True, False]):\n",
    "            self.position.close()\n",
    "            self.buy()\n",
    "        else:\n",
    "            self.position.close()\n",
    "            self.sell()"
   ]
  },
  {
   "cell_type": "code",
   "execution_count": 362,
   "metadata": {},
   "outputs": [],
   "source": [
    "random_returns = []\n",
    "best_word = testing_optimized_words[0]\n",
    "\n",
    "for i in range(1000):\n",
    "    bt = Backtest(testing[best_word], randomStrat, cash=100_000_000, commission=0) \n",
    "    random_stats = bt.run()\n",
    "    random_returns.append(random_stats[6])\n",
    "    \n",
    "random_mean = np.mean(random_returns)\n",
    "random_sd = np.std(random_returns)\n",
    "random_plus = random_mean + random_sd\n",
    "random_minus = random_mean - random_sd\n",
    "\n",
    "returns_data['Key Word'].append('RANDOM')\n",
    "returns_data['Key Word'].append('RANDOM + 1SD')\n",
    "returns_data['Key Word'].append('RANDOM - 1SD')\n",
    "returns_data['Returns (%)'].append(random_mean)\n",
    "returns_data['Returns (%)'].append(random_plus)\n",
    "returns_data['Returns (%)'].append(random_minus)"
   ]
  },
  {
   "cell_type": "code",
   "execution_count": 382,
   "metadata": {},
   "outputs": [
    {
     "data": {
      "text/html": [
       "<div>\n",
       "<style scoped>\n",
       "    .dataframe tbody tr th:only-of-type {\n",
       "        vertical-align: middle;\n",
       "    }\n",
       "\n",
       "    .dataframe tbody tr th {\n",
       "        vertical-align: top;\n",
       "    }\n",
       "\n",
       "    .dataframe thead th {\n",
       "        text-align: right;\n",
       "    }\n",
       "</style>\n",
       "<table border=\"1\" class=\"dataframe\">\n",
       "  <thead>\n",
       "    <tr style=\"text-align: right;\">\n",
       "      <th></th>\n",
       "      <th>Returns (%)</th>\n",
       "    </tr>\n",
       "    <tr>\n",
       "      <th>Key Word</th>\n",
       "      <th></th>\n",
       "    </tr>\n",
       "  </thead>\n",
       "  <tbody>\n",
       "    <tr>\n",
       "      <th>short selling</th>\n",
       "      <td>92.539797</td>\n",
       "    </tr>\n",
       "    <tr>\n",
       "      <th>housing</th>\n",
       "      <td>81.078148</td>\n",
       "    </tr>\n",
       "    <tr>\n",
       "      <th>world</th>\n",
       "      <td>73.300619</td>\n",
       "    </tr>\n",
       "    <tr>\n",
       "      <th>energy</th>\n",
       "      <td>61.184470</td>\n",
       "    </tr>\n",
       "    <tr>\n",
       "      <th>cash</th>\n",
       "      <td>60.348321</td>\n",
       "    </tr>\n",
       "    <tr>\n",
       "      <th>BUY AND HOLD</th>\n",
       "      <td>57.200296</td>\n",
       "    </tr>\n",
       "    <tr>\n",
       "      <th>health</th>\n",
       "      <td>54.329161</td>\n",
       "    </tr>\n",
       "    <tr>\n",
       "      <th>gold</th>\n",
       "      <td>52.601553</td>\n",
       "    </tr>\n",
       "    <tr>\n",
       "      <th>gains</th>\n",
       "      <td>52.524847</td>\n",
       "    </tr>\n",
       "    <tr>\n",
       "      <th>leverage</th>\n",
       "      <td>50.817354</td>\n",
       "    </tr>\n",
       "  </tbody>\n",
       "</table>\n",
       "</div>"
      ],
      "text/plain": [
       "               Returns (%)\n",
       "Key Word                  \n",
       "short selling    92.539797\n",
       "housing          81.078148\n",
       "world            73.300619\n",
       "energy           61.184470\n",
       "cash             60.348321\n",
       "BUY AND HOLD     57.200296\n",
       "health           54.329161\n",
       "gold             52.601553\n",
       "gains            52.524847\n",
       "leverage         50.817354"
      ]
     },
     "execution_count": 382,
     "metadata": {},
     "output_type": "execute_result"
    }
   ],
   "source": [
    "random_df = pd.DataFrame(returns_data)\n",
    "random_df = random_df.sort_values(by=['Returns (%)'], ascending = False)\n",
    "random_df = random_df.set_index('Key Word')\n",
    "random_df.head(10)"
   ]
  },
  {
   "cell_type": "code",
   "execution_count": 384,
   "metadata": {},
   "outputs": [
    {
     "data": {
      "text/html": [
       "<div>\n",
       "<style scoped>\n",
       "    .dataframe tbody tr th:only-of-type {\n",
       "        vertical-align: middle;\n",
       "    }\n",
       "\n",
       "    .dataframe tbody tr th {\n",
       "        vertical-align: top;\n",
       "    }\n",
       "\n",
       "    .dataframe thead th {\n",
       "        text-align: right;\n",
       "    }\n",
       "</style>\n",
       "<table border=\"1\" class=\"dataframe\">\n",
       "  <thead>\n",
       "    <tr style=\"text-align: right;\">\n",
       "      <th></th>\n",
       "      <th>Returns (%)</th>\n",
       "    </tr>\n",
       "    <tr>\n",
       "      <th>Key Word</th>\n",
       "      <th></th>\n",
       "    </tr>\n",
       "  </thead>\n",
       "  <tbody>\n",
       "    <tr>\n",
       "      <th>RANDOM + 1SD</th>\n",
       "      <td>47.752392</td>\n",
       "    </tr>\n",
       "    <tr>\n",
       "      <th>RANDOM</th>\n",
       "      <td>-0.457337</td>\n",
       "    </tr>\n",
       "    <tr>\n",
       "      <th>RANDOM - 1SD</th>\n",
       "      <td>-48.667067</td>\n",
       "    </tr>\n",
       "  </tbody>\n",
       "</table>\n",
       "</div>"
      ],
      "text/plain": [
       "              Returns (%)\n",
       "Key Word                 \n",
       "RANDOM + 1SD    47.752392\n",
       "RANDOM          -0.457337\n",
       "RANDOM - 1SD   -48.667067"
      ]
     },
     "execution_count": 384,
     "metadata": {},
     "output_type": "execute_result"
    }
   ],
   "source": [
    "random_df[random_df.index.str.contains(\"RANDOM\")]"
   ]
  },
  {
   "cell_type": "code",
   "execution_count": 381,
   "metadata": {},
   "outputs": [
    {
     "data": {
      "text/plain": [
       "<BarContainer object of 74 artists>"
      ]
     },
     "execution_count": 381,
     "metadata": {},
     "output_type": "execute_result"
    },
    {
     "data": {
      "image/png": "[encoded data removed]",
      "text/plain": [
       "<Figure size 576x1440 with 1 Axes>"
      ]
     },
     "metadata": {
      "needs_background": "light"
     },
     "output_type": "display_data"
    }
   ],
   "source": [
    "import matplotlib.pyplot as plt\n",
    "%matplotlib inline\n",
    "\n",
    "fig, ax = plt.subplots(figsize = (8,20))\n",
    "\n",
    "flipped = random_df.reindex(index = random_df.index[::-1])\n",
    "\n",
    "plt.style.use('ggplot')\n",
    "plt.title(\"Returns (%) for Various Key Words\")\n",
    "plt.ylabel(\"Key Word\")\n",
    "plt.xlabel(\"Returns (%)\")\n",
    "ax.xaxis.tick_top()\n",
    "ax.xaxis.set_label_position(\"top\")\n",
    "ax.barh(data = flipped, width = \"Returns (%)\", y = flipped.index, color='teal', align = 'center')"
   ]
  },
  {
   "cell_type": "code",
   "execution_count": 322,
   "metadata": {},
   "outputs": [
    {
     "data": {
      "text/plain": [
       "<BarContainer object of 70 artists>"
      ]
     },
     "execution_count": 322,
     "metadata": {},
     "output_type": "execute_result"
    },
    {
     "data": {
      "image/png": "[encoded data removed]",
      "text/plain": [
       "<Figure size 576x1440 with 1 Axes>"
      ]
     },
     "metadata": {
      "needs_background": "light"
     },
     "output_type": "display_data"
    }
   ],
   "source": [
    "import matplotlib.pyplot as plt\n",
    "%matplotlib inline\n",
    "\n",
    "fig, ax = plt.subplots(figsize = (8,20))\n",
    "\n",
    "flipped = testing_sharpe.reindex(index = testing_sharpe.index[::-1])\n",
    "\n",
    "plt.style.use('ggplot')\n",
    "plt.title(\"Sharpe Ratio for Various Key Words\")\n",
    "plt.ylabel(\"Key Word\")\n",
    "plt.xlabel(\"Sharpe Ratio\")\n",
    "ax.xaxis.tick_top()\n",
    "ax.xaxis.set_label_position(\"top\")\n",
    "ax.barh(data = flipped, width = \"Sharpe Ratio\", y = flipped.index, color='teal', align = 'center')"
   ]
  },
  {
   "cell_type": "code",
   "execution_count": 245,
   "metadata": {},
   "outputs": [
    {
     "data": {
      "image/png": "[encoded data removed]",
      "text/plain": [
       "<Figure size 432x288 with 1 Axes>"
      ]
     },
     "metadata": {},
     "output_type": "display_data"
    }
   ],
   "source": [
    "for word in list(training.keys()):\n",
    "    stat = testing_stats[word]\n",
    "    stat[\"_equity_curve\"]['Equity'].plot()\n",
    "x=plt.title('Equity Over Time')"
   ]
  },
  {
   "cell_type": "code",
   "execution_count": 402,
   "metadata": {},
   "outputs": [],
   "source": [
    "random_rolling_mean_and_sd = pd.DataFrame()\n",
    "best_word = testing_optimized_words[0]\n",
    "n = 10\n",
    "for i in range(n):\n",
    "    bt = Backtest(testing[best_word], randomStrat, cash=100_000_000, commission=0) \n",
    "    random_stats = bt.run()\n",
    "    random_returns.append(random_stats[6])\n",
    "    if i == 0:\n",
    "        random_rolling_mean_and_sd[\"sum\"] = random_stats[\"_equity_curve\"]['Equity']\n",
    "        random_rolling_mean_and_sd[\"sumsq\"] = random_stats[\"_equity_curve\"]['Equity']**2\n",
    "    else:\n",
    "        random_rolling_mean_and_sd[\"sum\"] = random_rolling_mean_and_sd[\"sum\"] + random_stats[\"_equity_curve\"]['Equity']\n",
    "        random_rolling_mean_and_sd[\"sumsq\"] = random_rolling_mean_and_sd[\"sumsq\"] + random_stats[\"_equity_curve\"]['Equity'] ** 2\n",
    "    \n",
    "random_rolling_mean_and_sd[\"mean\"] = random_rolling_mean_and_sd[\"sum\"] / n\n",
    "random_rolling_mean_and_sd[\"sd\"] = np.sqrt((random_rolling_mean_and_sd[\"sumsq\"] - \n",
    "                                            (random_rolling_mean_and_sd[\"sum\"] ** 2) / n) / (n - 1))\n",
    "\n",
    "\n"
   ]
  },
  {
   "cell_type": "code",
   "execution_count": 421,
   "metadata": {},
   "outputs": [
    {
     "data": {
      "image/png": "[encoded data removed]",
      "text/plain": [
       "<Figure size 432x288 with 1 Axes>"
      ]
     },
     "metadata": {},
     "output_type": "display_data"
    }
   ],
   "source": [
    "best_stat = testing_stats[best_word]\n",
    "best = best_stat[\"_equity_curve\"]['Equity'].plot(color='navy', label=\"Best Word\")\n",
    "\n",
    "mean = random_rolling_mean_and_sd['mean'].plot(color='r', label = 'Random Mean')\n",
    "mean_plus = (random_rolling_mean_and_sd['mean']+random_rolling_mean_and_sd[\"sd\"]).plot(color='salmon', label = 'Random Mean + 1SD', linestyle='dashed')\n",
    "mean_minus = (random_rolling_mean_and_sd['mean']-random_rolling_mean_and_sd[\"sd\"]).plot(color='salmon', label = 'Random Mean - 1SD', linestyle='dashed')\n",
    "\n",
    "plt.ylabel('Equity Value')\n",
    "plt.legend()\n",
    "x=plt.title('Equity Over Time')"
   ]
  },
  {
   "cell_type": "code",
   "execution_count": null,
   "metadata": {},
   "outputs": [],
   "source": []
  }
 ],
 "metadata": {
  "kernelspec": {
   "display_name": "Python 3",
   "language": "python",
   "name": "python3"
  },
  "language_info": {
   "codemirror_mode": {
    "name": "ipython",
    "version": 3
   },
   "file_extension": ".py",
   "mimetype": "text/x-python",
   "name": "python",
   "nbconvert_exporter": "python",
   "pygments_lexer": "ipython3",
   "version": "3.8.3"
  }
 },
 "nbformat": 4,
 "nbformat_minor": 4
}
