{
 "metadata": {
  "language_info": {
   "codemirror_mode": {
    "name": "ipython",
    "version": 3
   },
   "file_extension": ".py",
   "mimetype": "text/x-python",
   "name": "python",
   "nbconvert_exporter": "python",
   "pygments_lexer": "ipython3",
   "version": "3.7.6-final"
  },
  "orig_nbformat": 2,
  "kernelspec": {
   "name": "python3",
   "display_name": "Python 3"
  }
 },
 "nbformat": 4,
 "nbformat_minor": 2,
 "cells": [
  {
   "cell_type": "code",
   "execution_count": 1,
   "metadata": {},
   "outputs": [],
   "source": [
    "import yfinance as yf\n",
    "import pandas as pd\n",
    "import numpy as np\n",
    "import matplotlib.pyplot as plt\n",
    "from pytrends.request import TrendReq\n",
    "from pytrends import dailydata\n",
    "import requests\n",
    "\n",
    "from sklearn import linear_model\n",
    "import statsmodels.api as sm"
   ]
  },
  {
   "cell_type": "code",
   "execution_count": 2,
   "metadata": {},
   "outputs": [],
   "source": [
    "pd.set_option('display.max_columns', None)"
   ]
  },
  {
   "cell_type": "code",
   "execution_count": 3,
   "metadata": {},
   "outputs": [
    {
     "output_type": "execute_result",
     "data": {
      "text/plain": [
       "['hedge', 'dividend', 'earnings', 'inflation', 'markets']"
      ]
     },
     "metadata": {},
     "execution_count": 3
    }
   ],
   "source": [
    "with open(\"words.txt\") as f:\n",
    "    words = f.readlines()\n",
    "words = [x.strip() for x in words]\n",
    "words = words[:5]\n",
    "words"
   ]
  },
  {
   "cell_type": "code",
   "execution_count": 4,
   "metadata": {},
   "outputs": [],
   "source": [
    "def get_trend(key_word):\n",
    "    trend = pd.DataFrame(dailydata.get_daily_data(key_word, 2020, 1, 2020, 6, wait_time = 0)[key_word])\n",
    "    trend[\"change\"] = trend.pct_change()\n",
    "    return trend.dropna()"
   ]
  },
  {
   "cell_type": "code",
   "execution_count": 5,
   "metadata": {},
   "outputs": [
    {
     "output_type": "stream",
     "name": "stdout",
     "text": [
      "hedge:2020-01-01 2020-01-31\n",
      "hedge:2020-02-01 2020-02-29\n",
      "hedge:2020-03-01 2020-03-31\n",
      "hedge:2020-04-01 2020-04-30\n",
      "hedge:2020-05-01 2020-05-31\n",
      "hedge:2020-06-01 2020-06-30\n",
      "dividend:2020-01-01 2020-01-31\n",
      "dividend:2020-02-01 2020-02-29\n",
      "dividend:2020-03-01 2020-03-31\n",
      "dividend:2020-04-01 2020-04-30\n",
      "dividend:2020-05-01 2020-05-31\n",
      "dividend:2020-06-01 2020-06-30\n",
      "earnings:2020-01-01 2020-01-31\n",
      "earnings:2020-02-01 2020-02-29\n",
      "earnings:2020-03-01 2020-03-31\n",
      "earnings:2020-04-01 2020-04-30\n",
      "earnings:2020-05-01 2020-05-31\n",
      "earnings:2020-06-01 2020-06-30\n",
      "inflation:2020-01-01 2020-01-31\n",
      "inflation:2020-02-01 2020-02-29\n",
      "inflation:2020-03-01 2020-03-31\n",
      "inflation:2020-04-01 2020-04-30\n",
      "inflation:2020-05-01 2020-05-31\n",
      "inflation:2020-06-01 2020-06-30\n",
      "markets:2020-01-01 2020-01-31\n",
      "markets:2020-02-01 2020-02-29\n",
      "markets:2020-03-01 2020-03-31\n",
      "markets:2020-04-01 2020-04-30\n",
      "markets:2020-05-01 2020-05-31\n",
      "markets:2020-06-01 2020-06-30\n"
     ]
    }
   ],
   "source": [
    "word_trends = {}    #dictionary with key=word, value=DataFrame with Google trend and pct change \n",
    "for word in words:\n",
    "    word_trends[word] = get_trend(word)"
   ]
  },
  {
   "cell_type": "code",
   "execution_count": 6,
   "metadata": {},
   "outputs": [
    {
     "output_type": "execute_result",
     "data": {
      "text/plain": [
       "            hedge    change\n",
       "date                       \n",
       "2020-01-02  31.96  0.463370\n",
       "2020-01-03  46.98  0.469962\n",
       "2020-01-04  31.28 -0.334185\n",
       "2020-01-05  25.65 -0.179987\n",
       "2020-01-06  42.66  0.663158\n",
       "...           ...       ...\n",
       "2020-06-26  60.83  0.112676\n",
       "2020-06-27  76.50  0.257603\n",
       "2020-06-28  69.16 -0.095948\n",
       "2020-06-29  56.16 -0.187970\n",
       "2020-06-30  60.04  0.069088\n",
       "\n",
       "[181 rows x 2 columns]"
      ],
      "text/html": "<div>\n<style scoped>\n    .dataframe tbody tr th:only-of-type {\n        vertical-align: middle;\n    }\n\n    .dataframe tbody tr th {\n        vertical-align: top;\n    }\n\n    .dataframe thead th {\n        text-align: right;\n    }\n</style>\n<table border=\"1\" class=\"dataframe\">\n  <thead>\n    <tr style=\"text-align: right;\">\n      <th></th>\n      <th>hedge</th>\n      <th>change</th>\n    </tr>\n    <tr>\n      <th>date</th>\n      <th></th>\n      <th></th>\n    </tr>\n  </thead>\n  <tbody>\n    <tr>\n      <th>2020-01-02</th>\n      <td>31.96</td>\n      <td>0.463370</td>\n    </tr>\n    <tr>\n      <th>2020-01-03</th>\n      <td>46.98</td>\n      <td>0.469962</td>\n    </tr>\n    <tr>\n      <th>2020-01-04</th>\n      <td>31.28</td>\n      <td>-0.334185</td>\n    </tr>\n    <tr>\n      <th>2020-01-05</th>\n      <td>25.65</td>\n      <td>-0.179987</td>\n    </tr>\n    <tr>\n      <th>2020-01-06</th>\n      <td>42.66</td>\n      <td>0.663158</td>\n    </tr>\n    <tr>\n      <th>...</th>\n      <td>...</td>\n      <td>...</td>\n    </tr>\n    <tr>\n      <th>2020-06-26</th>\n      <td>60.83</td>\n      <td>0.112676</td>\n    </tr>\n    <tr>\n      <th>2020-06-27</th>\n      <td>76.50</td>\n      <td>0.257603</td>\n    </tr>\n    <tr>\n      <th>2020-06-28</th>\n      <td>69.16</td>\n      <td>-0.095948</td>\n    </tr>\n    <tr>\n      <th>2020-06-29</th>\n      <td>56.16</td>\n      <td>-0.187970</td>\n    </tr>\n    <tr>\n      <th>2020-06-30</th>\n      <td>60.04</td>\n      <td>0.069088</td>\n    </tr>\n  </tbody>\n</table>\n<p>181 rows × 2 columns</p>\n</div>"
     },
     "metadata": {},
     "execution_count": 6
    }
   ],
   "source": [
    "word_trends[\"hedge\"]"
   ]
  },
  {
   "source": [
    "## Old Stuff"
   ],
   "cell_type": "markdown",
   "metadata": {}
  },
  {
   "cell_type": "code",
   "execution_count": 77,
   "metadata": {},
   "outputs": [
    {
     "output_type": "execute_result",
     "data": {
      "text/plain": [
       "   Rank               Title                           Website  Employees  \\\n",
       "0     1             Walmart            http://www.walmart.com    2300000   \n",
       "1     2  Berkshire Hathaway  http://www.berkshirehathaway.com     367700   \n",
       "2     3               Apple              http://www.apple.com     116000   \n",
       "3     4         Exxon Mobil         http://www.exxonmobil.com      72700   \n",
       "4     5            McKesson           http://www.mckesson.com      68000   \n",
       "\n",
       "        Sector                                  Industry         Hqlocation  \\\n",
       "0    Retailing                     General Merchandisers    Bentonville, AR   \n",
       "1   Financials  Insurance: Property and Casualty (Stock)          Omaha, NE   \n",
       "2   Technology               Computers, Office Equipment      Cupertino, CA   \n",
       "3       Energy                        Petroleum Refining         Irving, TX   \n",
       "4  Wholesalers                  Wholesalers: Health Care  San Francisco, CA   \n",
       "\n",
       "                   Hqaddr         Hqcity Hqstate  Hqzip         Hqtel  \\\n",
       "0     702 S.W. Eighth St.    Bentonville      AR  72716  479-273-4000   \n",
       "1         3555 Farnam St.          Omaha      NE  68131  402-346-1400   \n",
       "2         1 Infinite Loop      Cupertino      CA  95014  408-996-1010   \n",
       "3  5959 Las Colinas Blvd.         Irving      TX  75039  972-444-1000   \n",
       "4              1 Post St.  San Francisco      CA  94104  415-983-8300   \n",
       "\n",
       "                   Ceo                                      Ceo-title  \\\n",
       "0  C. Douglas McMillon  President, Chief Executive Officer & Director   \n",
       "1    Warren E. Buffett             Chairman & Chief Executive Officer   \n",
       "2      Timothy D. Cook             Chief Executive Officer & Director   \n",
       "3      Darren W. Woods             Chairman & Chief Executive Officer   \n",
       "4   John H. Hammergren  Chairman, President & Chief Executive Officer   \n",
       "\n",
       "                                      Address Ticker                 Fullname  \\\n",
       "0  702 S.W. Eighth St., Bentonville, AR 72716    WMT    Wal-Mart Stores, Inc.   \n",
       "1            3555 Farnam St., Omaha, NE 68131   BRKA  Berkshire Hathaway Inc.   \n",
       "2        1 Infinite Loop, Cupertino, CA 95014   AAPL              Apple, Inc.   \n",
       "3    5959 Las Colinas Blvd., Irving, TX 75039    XOM  Exxon Mobil Corporation   \n",
       "4         1 Post St., San Francisco, CA 94104    MCK     McKesson Corporation   \n",
       "\n",
       "   Revenues  Revchange  Profits Prftchange  Assets  Totshequity  \n",
       "0    485873        0.8  13643.0       -7.2  198825      77798.0  \n",
       "1    223604        6.1  24074.0          0  620854     283001.0  \n",
       "2    215639       -7.7  45687.0      -14.4  321686     128249.0  \n",
       "3    205004      -16.7   7840.0      -51.5  330314     167325.0  \n",
       "4    192487        6.2   2258.0         53   56563       8924.0  "
      ],
      "text/html": "<div>\n<style scoped>\n    .dataframe tbody tr th:only-of-type {\n        vertical-align: middle;\n    }\n\n    .dataframe tbody tr th {\n        vertical-align: top;\n    }\n\n    .dataframe thead th {\n        text-align: right;\n    }\n</style>\n<table border=\"1\" class=\"dataframe\">\n  <thead>\n    <tr style=\"text-align: right;\">\n      <th></th>\n      <th>Rank</th>\n      <th>Title</th>\n      <th>Website</th>\n      <th>Employees</th>\n      <th>Sector</th>\n      <th>Industry</th>\n      <th>Hqlocation</th>\n      <th>Hqaddr</th>\n      <th>Hqcity</th>\n      <th>Hqstate</th>\n      <th>Hqzip</th>\n      <th>Hqtel</th>\n      <th>Ceo</th>\n      <th>Ceo-title</th>\n      <th>Address</th>\n      <th>Ticker</th>\n      <th>Fullname</th>\n      <th>Revenues</th>\n      <th>Revchange</th>\n      <th>Profits</th>\n      <th>Prftchange</th>\n      <th>Assets</th>\n      <th>Totshequity</th>\n    </tr>\n  </thead>\n  <tbody>\n    <tr>\n      <th>0</th>\n      <td>1</td>\n      <td>Walmart</td>\n      <td>http://www.walmart.com</td>\n      <td>2300000</td>\n      <td>Retailing</td>\n      <td>General Merchandisers</td>\n      <td>Bentonville, AR</td>\n      <td>702 S.W. Eighth St.</td>\n      <td>Bentonville</td>\n      <td>AR</td>\n      <td>72716</td>\n      <td>479-273-4000</td>\n      <td>C. Douglas McMillon</td>\n      <td>President, Chief Executive Officer &amp; Director</td>\n      <td>702 S.W. Eighth St., Bentonville, AR 72716</td>\n      <td>WMT</td>\n      <td>Wal-Mart Stores, Inc.</td>\n      <td>485873</td>\n      <td>0.8</td>\n      <td>13643.0</td>\n      <td>-7.2</td>\n      <td>198825</td>\n      <td>77798.0</td>\n    </tr>\n    <tr>\n      <th>1</th>\n      <td>2</td>\n      <td>Berkshire Hathaway</td>\n      <td>http://www.berkshirehathaway.com</td>\n      <td>367700</td>\n      <td>Financials</td>\n      <td>Insurance: Property and Casualty (Stock)</td>\n      <td>Omaha, NE</td>\n      <td>3555 Farnam St.</td>\n      <td>Omaha</td>\n      <td>NE</td>\n      <td>68131</td>\n      <td>402-346-1400</td>\n      <td>Warren E. Buffett</td>\n      <td>Chairman &amp; Chief Executive Officer</td>\n      <td>3555 Farnam St., Omaha, NE 68131</td>\n      <td>BRKA</td>\n      <td>Berkshire Hathaway Inc.</td>\n      <td>223604</td>\n      <td>6.1</td>\n      <td>24074.0</td>\n      <td>0</td>\n      <td>620854</td>\n      <td>283001.0</td>\n    </tr>\n    <tr>\n      <th>2</th>\n      <td>3</td>\n      <td>Apple</td>\n      <td>http://www.apple.com</td>\n      <td>116000</td>\n      <td>Technology</td>\n      <td>Computers, Office Equipment</td>\n      <td>Cupertino, CA</td>\n      <td>1 Infinite Loop</td>\n      <td>Cupertino</td>\n      <td>CA</td>\n      <td>95014</td>\n      <td>408-996-1010</td>\n      <td>Timothy D. Cook</td>\n      <td>Chief Executive Officer &amp; Director</td>\n      <td>1 Infinite Loop, Cupertino, CA 95014</td>\n      <td>AAPL</td>\n      <td>Apple, Inc.</td>\n      <td>215639</td>\n      <td>-7.7</td>\n      <td>45687.0</td>\n      <td>-14.4</td>\n      <td>321686</td>\n      <td>128249.0</td>\n    </tr>\n    <tr>\n      <th>3</th>\n      <td>4</td>\n      <td>Exxon Mobil</td>\n      <td>http://www.exxonmobil.com</td>\n      <td>72700</td>\n      <td>Energy</td>\n      <td>Petroleum Refining</td>\n      <td>Irving, TX</td>\n      <td>5959 Las Colinas Blvd.</td>\n      <td>Irving</td>\n      <td>TX</td>\n      <td>75039</td>\n      <td>972-444-1000</td>\n      <td>Darren W. Woods</td>\n      <td>Chairman &amp; Chief Executive Officer</td>\n      <td>5959 Las Colinas Blvd., Irving, TX 75039</td>\n      <td>XOM</td>\n      <td>Exxon Mobil Corporation</td>\n      <td>205004</td>\n      <td>-16.7</td>\n      <td>7840.0</td>\n      <td>-51.5</td>\n      <td>330314</td>\n      <td>167325.0</td>\n    </tr>\n    <tr>\n      <th>4</th>\n      <td>5</td>\n      <td>McKesson</td>\n      <td>http://www.mckesson.com</td>\n      <td>68000</td>\n      <td>Wholesalers</td>\n      <td>Wholesalers: Health Care</td>\n      <td>San Francisco, CA</td>\n      <td>1 Post St.</td>\n      <td>San Francisco</td>\n      <td>CA</td>\n      <td>94104</td>\n      <td>415-983-8300</td>\n      <td>John H. Hammergren</td>\n      <td>Chairman, President &amp; Chief Executive Officer</td>\n      <td>1 Post St., San Francisco, CA 94104</td>\n      <td>MCK</td>\n      <td>McKesson Corporation</td>\n      <td>192487</td>\n      <td>6.2</td>\n      <td>2258.0</td>\n      <td>53</td>\n      <td>56563</td>\n      <td>8924.0</td>\n    </tr>\n  </tbody>\n</table>\n</div>"
     },
     "metadata": {},
     "execution_count": 77
    }
   ],
   "source": [
    "fortune_500 = pd.read_csv(\"Fortune 500 2017 - Fortune 500.csv\")\n",
    "fortune_500.head()"
   ]
  },
  {
   "cell_type": "code",
   "execution_count": 13,
   "metadata": {},
   "outputs": [
    {
     "output_type": "stream",
     "name": "stdout",
     "text": [
      "Microsoft Corporation\n"
     ]
    }
   ],
   "source": [
    "def get_name(symbol):\n",
    "    url = \"http://d.yimg.com/autoc.finance.yahoo.com/autoc?query={}&region=1&lang=en\".format(symbol)\n",
    "\n",
    "    result = requests.get(url).json()\n",
    "\n",
    "    for x in result['ResultSet']['Result']:\n",
    "        if x['symbol'] == symbol:\n",
    "            return x['name']"
   ]
  },
  {
   "cell_type": "code",
   "execution_count": 116,
   "metadata": {},
   "outputs": [],
   "source": [
    "def get_data(ticker: str):\n",
    "    print(\"Stock data for: \\\"\" + str(ticker) + \"\\\"\")\n",
    "    data = pd.DataFrame(yf.download(ticker, start = '2020-1-1', end = \"2020-6-1\", interval = \"1d\")[\"Adj Close\"])\n",
    "    name = fortune_500[fortune_500[\"Ticker\"] == ticker][[\"Title\"]].iloc[0][0]\n",
    "    print(\"Search trends for: \\\"\" + str(name) + \"\\\"\")\n",
    "    trend = dailydata.get_daily_data(name, 2020, 1, 2020, 6, wait_time = 0)[name]\n",
    "    data.index.name = \"date\"\n",
    "    data = data.join(trend, how = \"inner\")\n",
    "    return data"
   ]
  },
  {
   "cell_type": "code",
   "execution_count": 117,
   "metadata": {},
   "outputs": [
    {
     "output_type": "stream",
     "name": "stdout",
     "text": [
      "Stock data for: \"TSLA\"\n",
      "[*********************100%***********************]  1 of 1 completed\n",
      "Search trends for: \"Tesla\"\n",
      "Tesla:2020-01-01 2020-01-31\n",
      "Tesla:2020-02-01 2020-02-29\n",
      "Tesla:2020-03-01 2020-03-31\n",
      "Tesla:2020-04-01 2020-04-30\n",
      "Tesla:2020-05-01 2020-05-31\n",
      "Tesla:2020-06-01 2020-06-30\n"
     ]
    },
    {
     "output_type": "execute_result",
     "data": {
      "text/plain": [
       "             Adj Close   Tesla\n",
       "date                          \n",
       "2020-01-02   86.052002   21.96\n",
       "2020-01-03   88.601997   23.94\n",
       "2020-01-06   90.307999   15.60\n",
       "2020-01-07   93.811996   22.94\n",
       "2020-01-08   98.428001   23.18\n",
       "2020-01-09   96.267998   23.68\n",
       "2020-01-10   95.629997   19.14\n",
       "2020-01-13  104.972000   24.32\n",
       "2020-01-14  107.584000   27.20\n",
       "2020-01-15  103.699997   23.04\n",
       "2020-01-16  102.697998   21.24\n",
       "2020-01-17  102.099998   16.64\n",
       "2020-01-21  109.440002   19.95\n",
       "2020-01-22  113.912003   29.40\n",
       "2020-01-23  114.440002   23.56\n",
       "2020-01-24  112.963997   19.04\n",
       "2020-01-27  111.603996   15.30\n",
       "2020-01-28  113.379997   16.12\n",
       "2020-01-29  116.197998   36.66\n",
       "2020-01-30  128.162003   60.00\n",
       "2020-01-31  130.113998   29.40\n",
       "2020-02-03  156.000000   30.80\n",
       "2020-02-04  177.412003  100.00\n",
       "2020-02-05  146.940002   82.81\n",
       "2020-02-06  149.792007   40.95\n",
       "2020-02-07  149.613998   24.01\n",
       "2020-02-10  154.255997   18.92\n",
       "2020-02-11  154.876007   17.64\n",
       "2020-02-12  153.457993   15.60\n",
       "2020-02-13  160.800003   20.70\n",
       "2020-02-14  160.005997   16.80\n",
       "2020-02-18  171.679993   15.60\n",
       "2020-02-19  183.483994   22.09\n",
       "2020-02-20  179.882004   19.80\n",
       "2020-02-21  180.199997   15.60\n",
       "2020-02-24  166.757996   18.06\n",
       "2020-02-25  159.981995   16.81\n",
       "2020-02-26  155.759995   16.00\n",
       "2020-02-27  135.800003   18.92\n",
       "2020-02-28  133.598007   21.62\n",
       "2020-03-02  148.723999   35.88\n",
       "2020-03-03  149.102005   34.71\n",
       "2020-03-04  149.899994   29.88\n",
       "2020-03-05  144.908005   27.65\n",
       "2020-03-06  140.695999   27.54\n",
       "2020-03-09  121.599998   42.00\n",
       "2020-03-10  129.065994   36.80\n",
       "2020-03-11  126.846001   31.32\n",
       "2020-03-12  112.110001   35.60\n",
       "2020-03-13  109.323997   34.71"
      ],
      "text/html": "<div>\n<style scoped>\n    .dataframe tbody tr th:only-of-type {\n        vertical-align: middle;\n    }\n\n    .dataframe tbody tr th {\n        vertical-align: top;\n    }\n\n    .dataframe thead th {\n        text-align: right;\n    }\n</style>\n<table border=\"1\" class=\"dataframe\">\n  <thead>\n    <tr style=\"text-align: right;\">\n      <th></th>\n      <th>Adj Close</th>\n      <th>Tesla</th>\n    </tr>\n    <tr>\n      <th>date</th>\n      <th></th>\n      <th></th>\n    </tr>\n  </thead>\n  <tbody>\n    <tr>\n      <th>2020-01-02</th>\n      <td>86.052002</td>\n      <td>21.96</td>\n    </tr>\n    <tr>\n      <th>2020-01-03</th>\n      <td>88.601997</td>\n      <td>23.94</td>\n    </tr>\n    <tr>\n      <th>2020-01-06</th>\n      <td>90.307999</td>\n      <td>15.60</td>\n    </tr>\n    <tr>\n      <th>2020-01-07</th>\n      <td>93.811996</td>\n      <td>22.94</td>\n    </tr>\n    <tr>\n      <th>2020-01-08</th>\n      <td>98.428001</td>\n      <td>23.18</td>\n    </tr>\n    <tr>\n      <th>2020-01-09</th>\n      <td>96.267998</td>\n      <td>23.68</td>\n    </tr>\n    <tr>\n      <th>2020-01-10</th>\n      <td>95.629997</td>\n      <td>19.14</td>\n    </tr>\n    <tr>\n      <th>2020-01-13</th>\n      <td>104.972000</td>\n      <td>24.32</td>\n    </tr>\n    <tr>\n      <th>2020-01-14</th>\n      <td>107.584000</td>\n      <td>27.20</td>\n    </tr>\n    <tr>\n      <th>2020-01-15</th>\n      <td>103.699997</td>\n      <td>23.04</td>\n    </tr>\n    <tr>\n      <th>2020-01-16</th>\n      <td>102.697998</td>\n      <td>21.24</td>\n    </tr>\n    <tr>\n      <th>2020-01-17</th>\n      <td>102.099998</td>\n      <td>16.64</td>\n    </tr>\n    <tr>\n      <th>2020-01-21</th>\n      <td>109.440002</td>\n      <td>19.95</td>\n    </tr>\n    <tr>\n      <th>2020-01-22</th>\n      <td>113.912003</td>\n      <td>29.40</td>\n    </tr>\n    <tr>\n      <th>2020-01-23</th>\n      <td>114.440002</td>\n      <td>23.56</td>\n    </tr>\n    <tr>\n      <th>2020-01-24</th>\n      <td>112.963997</td>\n      <td>19.04</td>\n    </tr>\n    <tr>\n      <th>2020-01-27</th>\n      <td>111.603996</td>\n      <td>15.30</td>\n    </tr>\n    <tr>\n      <th>2020-01-28</th>\n      <td>113.379997</td>\n      <td>16.12</td>\n    </tr>\n    <tr>\n      <th>2020-01-29</th>\n      <td>116.197998</td>\n      <td>36.66</td>\n    </tr>\n    <tr>\n      <th>2020-01-30</th>\n      <td>128.162003</td>\n      <td>60.00</td>\n    </tr>\n    <tr>\n      <th>2020-01-31</th>\n      <td>130.113998</td>\n      <td>29.40</td>\n    </tr>\n    <tr>\n      <th>2020-02-03</th>\n      <td>156.000000</td>\n      <td>30.80</td>\n    </tr>\n    <tr>\n      <th>2020-02-04</th>\n      <td>177.412003</td>\n      <td>100.00</td>\n    </tr>\n    <tr>\n      <th>2020-02-05</th>\n      <td>146.940002</td>\n      <td>82.81</td>\n    </tr>\n    <tr>\n      <th>2020-02-06</th>\n      <td>149.792007</td>\n      <td>40.95</td>\n    </tr>\n    <tr>\n      <th>2020-02-07</th>\n      <td>149.613998</td>\n      <td>24.01</td>\n    </tr>\n    <tr>\n      <th>2020-02-10</th>\n      <td>154.255997</td>\n      <td>18.92</td>\n    </tr>\n    <tr>\n      <th>2020-02-11</th>\n      <td>154.876007</td>\n      <td>17.64</td>\n    </tr>\n    <tr>\n      <th>2020-02-12</th>\n      <td>153.457993</td>\n      <td>15.60</td>\n    </tr>\n    <tr>\n      <th>2020-02-13</th>\n      <td>160.800003</td>\n      <td>20.70</td>\n    </tr>\n    <tr>\n      <th>2020-02-14</th>\n      <td>160.005997</td>\n      <td>16.80</td>\n    </tr>\n    <tr>\n      <th>2020-02-18</th>\n      <td>171.679993</td>\n      <td>15.60</td>\n    </tr>\n    <tr>\n      <th>2020-02-19</th>\n      <td>183.483994</td>\n      <td>22.09</td>\n    </tr>\n    <tr>\n      <th>2020-02-20</th>\n      <td>179.882004</td>\n      <td>19.80</td>\n    </tr>\n    <tr>\n      <th>2020-02-21</th>\n      <td>180.199997</td>\n      <td>15.60</td>\n    </tr>\n    <tr>\n      <th>2020-02-24</th>\n      <td>166.757996</td>\n      <td>18.06</td>\n    </tr>\n    <tr>\n      <th>2020-02-25</th>\n      <td>159.981995</td>\n      <td>16.81</td>\n    </tr>\n    <tr>\n      <th>2020-02-26</th>\n      <td>155.759995</td>\n      <td>16.00</td>\n    </tr>\n    <tr>\n      <th>2020-02-27</th>\n      <td>135.800003</td>\n      <td>18.92</td>\n    </tr>\n    <tr>\n      <th>2020-02-28</th>\n      <td>133.598007</td>\n      <td>21.62</td>\n    </tr>\n    <tr>\n      <th>2020-03-02</th>\n      <td>148.723999</td>\n      <td>35.88</td>\n    </tr>\n    <tr>\n      <th>2020-03-03</th>\n      <td>149.102005</td>\n      <td>34.71</td>\n    </tr>\n    <tr>\n      <th>2020-03-04</th>\n      <td>149.899994</td>\n      <td>29.88</td>\n    </tr>\n    <tr>\n      <th>2020-03-05</th>\n      <td>144.908005</td>\n      <td>27.65</td>\n    </tr>\n    <tr>\n      <th>2020-03-06</th>\n      <td>140.695999</td>\n      <td>27.54</td>\n    </tr>\n    <tr>\n      <th>2020-03-09</th>\n      <td>121.599998</td>\n      <td>42.00</td>\n    </tr>\n    <tr>\n      <th>2020-03-10</th>\n      <td>129.065994</td>\n      <td>36.80</td>\n    </tr>\n    <tr>\n      <th>2020-03-11</th>\n      <td>126.846001</td>\n      <td>31.32</td>\n    </tr>\n    <tr>\n      <th>2020-03-12</th>\n      <td>112.110001</td>\n      <td>35.60</td>\n    </tr>\n    <tr>\n      <th>2020-03-13</th>\n      <td>109.323997</td>\n      <td>34.71</td>\n    </tr>\n  </tbody>\n</table>\n</div>"
     },
     "metadata": {},
     "execution_count": 117
    }
   ],
   "source": [
    "df = get_data(\"TSLA\")\n",
    "df.head(50)"
   ]
  },
  {
   "cell_type": "code",
   "execution_count": null,
   "metadata": {},
   "outputs": [],
   "source": []
  }
 ]
}